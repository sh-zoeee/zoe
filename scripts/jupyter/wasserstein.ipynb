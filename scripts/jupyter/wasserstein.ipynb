{
 "cells": [
  {
   "cell_type": "markdown",
   "metadata": {},
   "source": [
    "### ライブラリのインポート"
   ]
  },
  {
   "cell_type": "code",
   "execution_count": 1,
   "metadata": {},
   "outputs": [],
   "source": [
    "import torch\n",
    "from scipy.cluster.hierarchy import dendrogram, linkage, distance\n",
    "import numpy as np\n",
    "\n",
    "import ot\n",
    "\n",
    "from scripts import w_pq_batch as w_pq\n",
    "from scripts import trees, pq_gram, func\n",
    "\n",
    "from pqgrams.PQGram import Profile\n",
    "import pyconll, zss\n",
    "\n",
    "from tqdm.notebook import tqdm_notebook as tqdm\n",
    "import random\n",
    "\n",
    "import matplotlib.pyplot as plt\n",
    "import japanize_matplotlib\n",
    "\n",
    "from os import path\n",
    "import sys\n",
    "%matplotlib inline"
   ]
  },
  {
   "cell_type": "code",
   "execution_count": 7,
   "metadata": {},
   "outputs": [
    {
     "ename": "SystemExit",
     "evalue": "",
     "output_type": "error",
     "traceback": [
      "An exception has occurred, use %tb to see the full traceback.\n",
      "\u001b[0;31mSystemExit\u001b[0m\n"
     ]
    },
    {
     "name": "stderr",
     "output_type": "stream",
     "text": [
      "/home/yamazoe/.pyenv/versions/3.11.7/envs/env_pq/lib/python3.11/site-packages/IPython/core/interactiveshell.py:3585: UserWarning: To exit: use 'exit', 'quit', or Ctrl-D.\n",
      "  warn(\"To exit: use 'exit', 'quit', or Ctrl-D.\", stacklevel=1)\n"
     ]
    }
   ],
   "source": [
    "sys.exit()"
   ]
  },
  {
   "cell_type": "code",
   "execution_count": 2,
   "metadata": {},
   "outputs": [
    {
     "name": "stdout",
     "output_type": "stream",
     "text": [
      "[7, 8, 9, 10, 11, 12, 13, 14, 15] [1, 2, 3] [4, 5, 6]\n",
      "[1, 2, 3, 10, 11, 12, 13, 14, 15] [4, 5, 6] [7, 8, 9]\n",
      "[1, 2, 3, 4, 5, 6, 13, 14, 15] [7, 8, 9] [10, 11, 12]\n",
      "[1, 2, 3, 4, 5, 6, 7, 8, 9] [10, 11, 12] [13, 14, 15]\n",
      "[4, 5, 6, 7, 8, 9, 10, 11, 12] [13, 14, 15] [1, 2, 3]\n"
     ]
    }
   ],
   "source": [
    "x = [[1,2,3], [4,5,6], [7,8,9], [10,11,12], [13,14,15]]\n",
    "sup = len(x)\n",
    "\n",
    "for i in range(sup):\n",
    "    tmp = x.copy()\n",
    "    val = tmp.pop(i)\n",
    "    tes = tmp.pop(i%len(tmp))\n",
    "    tra = sum(tmp, [])\n",
    "    print(tra, val, tes)\n",
    "    \n",
    "    "
   ]
  },
  {
   "cell_type": "markdown",
   "metadata": {},
   "source": [
    "##### EWT,Atis間のWasserstein距離"
   ]
  },
  {
   "cell_type": "code",
   "execution_count": 3,
   "metadata": {},
   "outputs": [],
   "source": [
    "train_tensors_path = \"data/train_tensors_en_corpora_En_EWT_Atis_unlabel_50.pt\"\n",
    "train_labels_path = \"data/train_labels_en_corpora_En_EWT_Atis_unlabel_50.pt\"\n",
    "train_indexes_path = \"data/train_indexes_en_corpora_En_EWT_Atis_unlabel_50.pt\"\n",
    "\n",
    "valid_tensors_path = \"data/valid_tensors_en_corpora_En_EWT_Atis_unlabel_50.pt\"\n",
    "valid_labels_path = \"data/valid_labels_en_corpora_En_EWT_Atis_unlabel_50.pt\"\n",
    "valid_indexes_path = \"data/valid_indexes_en_corpora_En_EWT_Atis_unlabel_50.pt\"\n",
    "\n",
    "test_tensors_path = \"data/test_tensors_en_corpora_En_EWT_Atis_unlabel_50.pt\"\n",
    "test_labels_path = \"data/test_labels_en_corpora_En_EWT_Atis_unlabel_50.pt\"\n",
    "test_indexes_path = \"data/test_indexes_en_corpora_En_EWT_Atis_unlabel_50.pt\"\n",
    "\n",
    "model_path = \"models/model_en_corpora_EWT_Atis_unlabel_50.pth\"\n",
    "\n",
    "CoNLLU_EWT_PATH = \"corpora/English-EWT.conllu\"\n",
    "CoNLLU = pyconll.load_from_file(CoNLLU_EWT_PATH)\n",
    "EWT_tree_count = len(CoNLLU)\n"
   ]
  },
  {
   "cell_type": "code",
   "execution_count": 8,
   "metadata": {},
   "outputs": [],
   "source": [
    "train_tensors = torch.load(train_tensors_path)"
   ]
  },
  {
   "cell_type": "code",
   "execution_count": 10,
   "metadata": {},
   "outputs": [
    {
     "data": {
      "text/plain": [
       "Parameter containing:\n",
       "tensor([-2.0425, -2.2598, -1.7006, -2.2871, -2.0425,  0.3741, -1.7006, -1.7006],\n",
       "       requires_grad=True)"
      ]
     },
     "execution_count": 10,
     "metadata": {},
     "output_type": "execute_result"
    }
   ],
   "source": [
    "distance_function = w_pq.WeightedPqgramDistance(train_tensors[0].size(), [], [])\n",
    "distance_function.load_state_dict(torch.load(model_path))\n",
    "distance_function.eval()\n",
    "weights = distance_function.weights\n",
    "weights"
   ]
  },
  {
   "cell_type": "code",
   "execution_count": null,
   "metadata": {},
   "outputs": [],
   "source": []
  },
  {
   "cell_type": "code",
   "execution_count": 7,
   "metadata": {},
   "outputs": [
    {
     "name": "stdout",
     "output_type": "stream",
     "text": [
      "OTマトリックス: 0.39999999999999997\n"
     ]
    }
   ],
   "source": [
    "a = [0.3, 0.7]  # ソース分布（サイズ2）\n",
    "b = [0.4, 0.4, 0.2]  # ターゲット分布（サイズ3）\n",
    "M = [[0.0, 1.0, 2.0],  # 2x3 のコスト行列\n",
    "     [1.0, 0.5, 0.5]]\n",
    "\n",
    "T = ot.emd2(a, b, M)\n",
    "print(\"OTマトリックス:\", T)"
   ]
  },
  {
   "cell_type": "code",
   "execution_count": 3,
   "metadata": {},
   "outputs": [],
   "source": [
    "CoNLLU_GPT_PATH = \"corpora/English-chatGPT.conllu\""
   ]
  },
  {
   "cell_type": "code",
   "execution_count": 4,
   "metadata": {},
   "outputs": [
    {
     "name": "stderr",
     "output_type": "stream",
     "text": [
      "[convert tensor]: 100%|██████████| 30015/30015 [00:00<00:00, 41490.56it/s]\n"
     ]
    }
   ],
   "source": [
    "CoNLLU += pyconll.load_from_file(CoNLLU_GPT_PATH)\n",
    "\n",
    "\n",
    "PQ_Trees = [trees.conllTree_to_pqTree_unlabeled(conll.to_tree()) for conll in CoNLLU]\n",
    "PQ_Index = [Profile(tree, p=2, q=2) for tree in PQ_Trees]\n",
    "\n",
    "J = set(PQ_Index[0])\n",
    "for pq_set  in PQ_Index[1:]:\n",
    "    J = J.union(pq_set)\n",
    "J = list(J)\n",
    "\n",
    "tensors = [pq_gram.pqgram_to_tensor(pqgram, J) for pqgram in tqdm(PQ_Index, desc=\"[convert tensor]\")]\n"
   ]
  },
  {
   "cell_type": "code",
   "execution_count": 5,
   "metadata": {},
   "outputs": [
    {
     "data": {
      "text/plain": [
       "8"
      ]
     },
     "execution_count": 5,
     "metadata": {},
     "output_type": "execute_result"
    }
   ],
   "source": [
    "len(J)"
   ]
  },
  {
   "cell_type": "code",
   "execution_count": 6,
   "metadata": {},
   "outputs": [],
   "source": [
    "def wasserstein_distance_weighted(data1, data2, weights):\n",
    "    # 重みを適用\n",
    "    weights = func.softplus(weights)\n",
    "    weighted_data1 = [t*weights for t in data1]  # 各サンプルに重みを適用\n",
    "    weighted_data2 = [t*weights for t in data2]\n",
    "\n",
    "    distances = []\n",
    "    for dim in range(weighted_data1[0].size(0)):  # 8次元でループ\n",
    "        # dim次元の要素を全て取得して連結\n",
    "        x_dim = torch.cat([t[dim].unsqueeze(0) for t in weighted_data1])\n",
    "        y_dim = torch.cat([t[dim].unsqueeze(0) for t in weighted_data2])\n",
    "\n",
    "        # 次元ごとに要素をソート\n",
    "        x_sorted = torch.sort(x_dim)[0]\n",
    "        y_sorted = torch.sort(y_dim)[0]\n",
    "\n",
    "        # 累積分布関数 (CDF) を計算\n",
    "        cdf_x = torch.cumsum(torch.ones_like(x_sorted) / len(x_sorted), dim=0)\n",
    "        cdf_y = torch.cumsum(torch.ones_like(y_sorted) / len(y_sorted), dim=0)\n",
    "\n",
    "        # 各次元のWasserstein距離を計算\n",
    "        distance = torch.mean(torch.abs(cdf_x - cdf_y))\n",
    "        distances.append(distance)\n",
    "\n",
    "    print(distances)\n",
    "    # 各次元の距離の平均を返す\n",
    "    return torch.mean(torch.tensor(distances)).item()\n"
   ]
  },
  {
   "cell_type": "code",
   "execution_count": null,
   "metadata": {},
   "outputs": [
    {
     "data": {
      "text/plain": [
       "WeightedPqgramDistance()"
      ]
     },
     "execution_count": 7,
     "metadata": {},
     "output_type": "execute_result"
    }
   ],
   "source": [
    "distance_function = w_pq.WeightedPqgramDistance(tensors[0].size(), [], [])\n",
    "distance_function.load_state_dict(torch.load(model_path))\n",
    "distance_function.eval()\n",
    "weights = distance_function.weights\n"
   ]
  },
  {
   "cell_type": "code",
   "execution_count": 8,
   "metadata": {},
   "outputs": [],
   "source": [
    "weights = distance_function.weights"
   ]
  },
  {
   "cell_type": "code",
   "execution_count": 9,
   "metadata": {},
   "outputs": [
    {
     "name": "stdout",
     "output_type": "stream",
     "text": [
      "13394\n"
     ]
    }
   ],
   "source": [
    "print(min(EWT_tree_count, len(tensors)-EWT_tree_count))"
   ]
  },
  {
   "cell_type": "code",
   "execution_count": 10,
   "metadata": {},
   "outputs": [],
   "source": [
    "tensors_EWT = tensors[:EWT_tree_count]\n",
    "tensors_GPT = tensors[EWT_tree_count:]\n",
    "sample_size = min(EWT_tree_count, len(tensors)-EWT_tree_count)\n",
    "if EWT_tree_count<sample_size:\n",
    "    tensors_GPT = random.sample(tensors_GPT, k=sample_size)\n",
    "else :\n",
    "    tensors_EWT = random.sample(tensors_EWT, k=sample_size)"
   ]
  },
  {
   "cell_type": "code",
   "execution_count": 11,
   "metadata": {},
   "outputs": [],
   "source": [
    "Tensors_EWT = torch.zeros((EWT_tree_count,8))\n",
    "for i, tensor in enumerate(tensors_EWT):\n",
    "    Tensors_EWT[i] = tensor\n",
    "\n",
    "Tensors_GPT = torch.zeros((len(tensors_GPT),8))\n",
    "for i, tensor in enumerate(tensors_GPT):\n",
    "    Tensors_GPT[i] = tensor\n"
   ]
  },
  {
   "cell_type": "code",
   "execution_count": 12,
   "metadata": {},
   "outputs": [],
   "source": [
    "def distance_matrix_chunked(tensors: np.ndarray, weights: np.ndarray, chunk_size: int):\n",
    "    \"\"\"\n",
    "    データをチャンクに分割して距離行列を計算する関数。\n",
    "    tensors: 入力データ [N, dim] の配列\n",
    "    weights: 重み [dim] の配列\n",
    "    chunk_size: 一度に処理するデータのチャンクサイズ\n",
    "    \"\"\"\n",
    "\n",
    "    num_samples = tensors.shape[0]\n",
    "    dist_mat = np.zeros((num_samples, num_samples))  # 距離行列の初期化\n",
    "    \n",
    "    # チャンクごとに計算\n",
    "    for i in tqdm(range(0, num_samples, chunk_size)):\n",
    "        end_i = min(i + chunk_size, num_samples)\n",
    "        tensor_chunk_i = tensors[i:end_i, np.newaxis]  # [chunk_size, 1, dim]\n",
    "\n",
    "        for j in range(0, num_samples, chunk_size):\n",
    "            end_j = min(j + chunk_size, num_samples)\n",
    "            tensor_chunk_j = tensors[j:end_j, np.newaxis]  # [1, chunk_size, dim]\n",
    "            \n",
    "            # 差の計算\n",
    "            diff = np.abs(tensor_chunk_i - tensor_chunk_j)  # [chunk_size, chunk_size, dim]\n",
    "            aw = np.log1p(np.exp(weights))  # weightsのSoftplus関数を近似\n",
    "            aw = aw[np.newaxis, np.newaxis, :]  # [1, 1, dim]\n",
    "            weighted_diff = diff * aw  # アダマール積\n",
    "            dist_chunk = weighted_diff.sum(axis=2)  # 距離の計算\n",
    "            \n",
    "            # 距離行列に結果を格納\n",
    "            dist_mat[i:end_i, j:end_j] = dist_chunk\n",
    "\n",
    "    return dist_mat\n"
   ]
  },
  {
   "cell_type": "code",
   "execution_count": 13,
   "metadata": {},
   "outputs": [
    {
     "name": "stdout",
     "output_type": "stream",
     "text": [
      "16621\n"
     ]
    }
   ],
   "source": [
    "array_EWT = Tensors_EWT.numpy()\n",
    "array_GPT = Tensors_GPT.numpy()\n",
    "\n",
    "weights_np = weights.detach().numpy()\n",
    "\n",
    "array_size = len(array_EWT) + len(array_GPT)\n",
    "\n",
    "array_all = np.zeros((array_size, 8))\n",
    "\n",
    "print(len(array_EWT))\n",
    "\n",
    "for i in range(len(array_EWT)):\n",
    "    array_all[i] = array_EWT[i]\n",
    "\n",
    "for i in range(len(array_GPT)):\n",
    "    array_all[i+len(array_GPT)] = array_GPT[i]"
   ]
  },
  {
   "cell_type": "code",
   "execution_count": 14,
   "metadata": {},
   "outputs": [],
   "source": [
    "def distance_matrix_chunked(tensors: torch.Tensor, weights: torch.Tensor, chunk_size: int):\n",
    "    \"\"\"\n",
    "    データをチャンクに分割して距離行列を計算する関数。\n",
    "    tensors: 入力データ [N, dim] のテンソル\n",
    "    weights: 重み [dim] のテンソル\n",
    "    chunk_size: 一度に処理するデータのチャンクサイズ\n",
    "    \"\"\"\n",
    "    device = torch.device(\"cuda:3\" if torch.cuda.is_available() else \"cpu\")\n",
    "\n",
    "    num_samples = tensors.shape[0]\n",
    "    dist_mat = torch.zeros((num_samples, num_samples), device=device)  # 距離行列の初期化\n",
    "    \n",
    "    # チャンクごとに計算\n",
    "    for i in range(0, num_samples, chunk_size):\n",
    "        end_i = min(i + chunk_size, num_samples)\n",
    "        tensor_chunk_i = tensors[i:end_i].unsqueeze(1)  # [chunk_size, 1, dim]\n",
    "\n",
    "        for j in range(0, num_samples, chunk_size):\n",
    "            end_j = min(j + chunk_size, num_samples)\n",
    "            tensor_chunk_j = tensors[j:end_j].unsqueeze(0)  # [1, chunk_size, dim]\n",
    "            \n",
    "            # 差の計算\n",
    "            diff = torch.abs(tensor_chunk_i - tensor_chunk_j).to(device)  # [chunk_size, chunk_size, dim]\n",
    "            aw = func.softplus(weights).to(device).unsqueeze(0).unsqueeze(0)  # [1, 1, dim]\n",
    "            weighted_diff = diff * aw  # アダマール積\n",
    "            dist_chunk = weighted_diff.sum(dim=2)  # 距離の計算\n",
    "            \n",
    "            # 距離行列に結果を格納\n",
    "            dist_mat[i:end_i, j:end_j] = dist_chunk\n",
    "        del dist_chunk, end_j, aw, weighted_diff\n",
    "        torch.cuda.empty_cache()\n",
    "    \n",
    "    del tensors, end_i\n",
    "    torch.cuda.empty_cache()\n",
    "\n",
    "    return dist_mat"
   ]
  },
  {
   "cell_type": "code",
   "execution_count": 15,
   "metadata": {},
   "outputs": [
    {
     "ename": "OutOfMemoryError",
     "evalue": "CUDA out of memory. Tried to allocate 2.00 MiB. GPU 3 has a total capacity of 23.65 GiB of which 3.19 MiB is free. Including non-PyTorch memory, this process has 23.64 GiB memory in use. Of the allocated memory 21.73 GiB is allocated by PyTorch, and 1.47 GiB is reserved by PyTorch but unallocated. If reserved but unallocated memory is large try setting PYTORCH_CUDA_ALLOC_CONF=expandable_segments:True to avoid fragmentation.  See documentation for Memory Management  (https://pytorch.org/docs/stable/notes/cuda.html#environment-variables)",
     "output_type": "error",
     "traceback": [
      "\u001b[0;31m---------------------------------------------------------------------------\u001b[0m",
      "\u001b[0;31mOutOfMemoryError\u001b[0m                          Traceback (most recent call last)",
      "Cell \u001b[0;32mIn[15], line 1\u001b[0m\n\u001b[0;32m----> 1\u001b[0m distance_matrix\u001b[38;5;241m=\u001b[39m\u001b[43mdistance_matrix_chunked\u001b[49m\u001b[43m(\u001b[49m\u001b[43mtorch\u001b[49m\u001b[38;5;241;43m.\u001b[39;49m\u001b[43mfrom_numpy\u001b[49m\u001b[43m(\u001b[49m\u001b[43marray_all\u001b[49m\u001b[43m)\u001b[49m\u001b[43m,\u001b[49m\u001b[43m \u001b[49m\u001b[43mweights\u001b[49m\u001b[43m,\u001b[49m\u001b[43m \u001b[49m\u001b[38;5;28;43mlen\u001b[39;49m\u001b[43m(\u001b[49m\u001b[43mtensors\u001b[49m\u001b[43m)\u001b[49m\u001b[38;5;241;43m/\u001b[39;49m\u001b[38;5;241;43m/\u001b[39;49m\u001b[38;5;241;43m512\u001b[39;49m\u001b[43m)\u001b[49m\n\u001b[1;32m      2\u001b[0m torch\u001b[38;5;241m.\u001b[39mcuda\u001b[38;5;241m.\u001b[39mempty_cache()\n",
      "Cell \u001b[0;32mIn[14], line 25\u001b[0m, in \u001b[0;36mdistance_matrix_chunked\u001b[0;34m(tensors, weights, chunk_size)\u001b[0m\n\u001b[1;32m     23\u001b[0m diff \u001b[38;5;241m=\u001b[39m torch\u001b[38;5;241m.\u001b[39mabs(tensor_chunk_i \u001b[38;5;241m-\u001b[39m tensor_chunk_j)\u001b[38;5;241m.\u001b[39mto(device)  \u001b[38;5;66;03m# [chunk_size, chunk_size, dim]\u001b[39;00m\n\u001b[1;32m     24\u001b[0m aw \u001b[38;5;241m=\u001b[39m func\u001b[38;5;241m.\u001b[39msoftplus(weights)\u001b[38;5;241m.\u001b[39mto(device)\u001b[38;5;241m.\u001b[39munsqueeze(\u001b[38;5;241m0\u001b[39m)\u001b[38;5;241m.\u001b[39munsqueeze(\u001b[38;5;241m0\u001b[39m)  \u001b[38;5;66;03m# [1, 1, dim]\u001b[39;00m\n\u001b[0;32m---> 25\u001b[0m weighted_diff \u001b[38;5;241m=\u001b[39m \u001b[43mdiff\u001b[49m\u001b[43m \u001b[49m\u001b[38;5;241;43m*\u001b[39;49m\u001b[43m \u001b[49m\u001b[43maw\u001b[49m  \u001b[38;5;66;03m# アダマール積\u001b[39;00m\n\u001b[1;32m     26\u001b[0m dist_chunk \u001b[38;5;241m=\u001b[39m weighted_diff\u001b[38;5;241m.\u001b[39msum(dim\u001b[38;5;241m=\u001b[39m\u001b[38;5;241m2\u001b[39m)  \u001b[38;5;66;03m# 距離の計算\u001b[39;00m\n\u001b[1;32m     28\u001b[0m \u001b[38;5;66;03m# 距離行列に結果を格納\u001b[39;00m\n",
      "\u001b[0;31mOutOfMemoryError\u001b[0m: CUDA out of memory. Tried to allocate 2.00 MiB. GPU 3 has a total capacity of 23.65 GiB of which 3.19 MiB is free. Including non-PyTorch memory, this process has 23.64 GiB memory in use. Of the allocated memory 21.73 GiB is allocated by PyTorch, and 1.47 GiB is reserved by PyTorch but unallocated. If reserved but unallocated memory is large try setting PYTORCH_CUDA_ALLOC_CONF=expandable_segments:True to avoid fragmentation.  See documentation for Memory Management  (https://pytorch.org/docs/stable/notes/cuda.html#environment-variables)"
     ]
    }
   ],
   "source": [
    "distance_matrix=distance_matrix_chunked(torch.from_numpy(array_all), weights, len(tensors)//512)\n",
    "torch.cuda.empty_cache()"
   ]
  },
  {
   "cell_type": "code",
   "execution_count": 16,
   "metadata": {},
   "outputs": [],
   "source": [
    "distance_matrix = np.zeros((array_size,array_size))\n",
    "\n",
    "for i in tqdm(range(array_size)):\n",
    "    for j in range(array_size):\n",
    "        dist = weighted\n",
    "        distance_matrix[i][j] = "
   ]
  },
  {
   "cell_type": "code",
   "execution_count": 15,
   "metadata": {},
   "outputs": [
    {
     "name": "stderr",
     "output_type": "stream",
     "text": [
      "  0%|          | 0/129 [00:00<?, ?it/s]\n"
     ]
    },
    {
     "ename": "ValueError",
     "evalue": "operands could not be broadcast together with shapes (234,1,8) (63,1,8) ",
     "output_type": "error",
     "traceback": [
      "\u001b[0;31m---------------------------------------------------------------------------\u001b[0m",
      "\u001b[0;31mValueError\u001b[0m                                Traceback (most recent call last)",
      "Cell \u001b[0;32mIn[15], line 1\u001b[0m\n\u001b[0;32m----> 1\u001b[0m \u001b[43mdistance_matrix_chunked\u001b[49m\u001b[43m(\u001b[49m\u001b[43marray_all\u001b[49m\u001b[43m,\u001b[49m\u001b[43m \u001b[49m\u001b[43mweights_np\u001b[49m\u001b[43m,\u001b[49m\u001b[43m \u001b[49m\u001b[38;5;28;43mlen\u001b[39;49m\u001b[43m(\u001b[49m\u001b[43marray_all\u001b[49m\u001b[43m)\u001b[49m\u001b[38;5;241;43m/\u001b[39;49m\u001b[38;5;241;43m/\u001b[39;49m\u001b[38;5;241;43m128\u001b[39;49m\u001b[43m)\u001b[49m\n",
      "Cell \u001b[0;32mIn[13], line 22\u001b[0m, in \u001b[0;36mdistance_matrix_chunked\u001b[0;34m(tensors, weights, chunk_size)\u001b[0m\n\u001b[1;32m     19\u001b[0m tensor_chunk_j \u001b[38;5;241m=\u001b[39m tensors[j:end_j, np\u001b[38;5;241m.\u001b[39mnewaxis]  \u001b[38;5;66;03m# [1, chunk_size, dim]\u001b[39;00m\n\u001b[1;32m     21\u001b[0m \u001b[38;5;66;03m# 差の計算\u001b[39;00m\n\u001b[0;32m---> 22\u001b[0m diff \u001b[38;5;241m=\u001b[39m np\u001b[38;5;241m.\u001b[39mabs(\u001b[43mtensor_chunk_i\u001b[49m\u001b[43m \u001b[49m\u001b[38;5;241;43m-\u001b[39;49m\u001b[43m \u001b[49m\u001b[43mtensor_chunk_j\u001b[49m)  \u001b[38;5;66;03m# [chunk_size, chunk_size, dim]\u001b[39;00m\n\u001b[1;32m     23\u001b[0m aw \u001b[38;5;241m=\u001b[39m np\u001b[38;5;241m.\u001b[39mlog1p(np\u001b[38;5;241m.\u001b[39mexp(weights))  \u001b[38;5;66;03m# weightsのSoftplus関数を近似\u001b[39;00m\n\u001b[1;32m     24\u001b[0m aw \u001b[38;5;241m=\u001b[39m aw[np\u001b[38;5;241m.\u001b[39mnewaxis, np\u001b[38;5;241m.\u001b[39mnewaxis, :]  \u001b[38;5;66;03m# [1, 1, dim]\u001b[39;00m\n",
      "\u001b[0;31mValueError\u001b[0m: operands could not be broadcast together with shapes (234,1,8) (63,1,8) "
     ]
    }
   ],
   "source": [
    "distance_matrix_chunked(array_all, weights_np, len(array_all)//128)"
   ]
  },
  {
   "cell_type": "code",
   "execution_count": 27,
   "metadata": {},
   "outputs": [],
   "source": [
    "def compute_cost_matrix(data, distance_func):\n",
    "    num_points = data.shape[0]\n",
    "    cost_matrix = np.zeros((num_points, num_points))\n",
    "\n",
    "    for i in range(num_points):\n",
    "        for j in range(num_points):\n",
    "            if i != j:\n",
    "                cost_matrix[i, j] = distance_func(data[i], data[j])\n",
    "    \n",
    "    return cost_matrix"
   ]
  },
  {
   "cell_type": "code",
   "execution_count": null,
   "metadata": {},
   "outputs": [],
   "source": [
    "cost_matrix = compute_cost_matrix(data_a, custom_distance)"
   ]
  },
  {
   "cell_type": "markdown",
   "metadata": {},
   "source": [
    "### Wasserstein距離の計測"
   ]
  },
  {
   "cell_type": "markdown",
   "metadata": {},
   "source": [
    "#### English-EWT, chatGPT"
   ]
  },
  {
   "cell_type": "code",
   "execution_count": null,
   "metadata": {},
   "outputs": [],
   "source": [
    "CoNLLU_EWT_PATH = \"corpora/English-EWT.conllu\"\n",
    "CoNLLU = pyconll.load_from_file(CoNLLU_EWT_PATH)\n",
    "EWT_tree_count = len(CoNLLU)\n",
    "\n",
    "CoNLLU_GPT_PATH = \"corpora/English-chatGPT.conllu\"\n",
    "CoNLLU += pyconll.load_from_file(CoNLLU_GPT_PATH)\n",
    "GPT_tree_count = len(CoNLLU) - EWT_tree_count\n",
    "\n",
    "\n",
    "PQ_Trees = [trees.conllTree_to_pqTree_unlabeled(conll.to_tree()) for conll in CoNLLU]\n",
    "PQ_Index = [Profile(tree, p=2, q=2) for tree in PQ_Trees]\n",
    "\n",
    "J = set(PQ_Index[0])\n",
    "for pq_set  in PQ_Index[1:]:\n",
    "    J = J.union(pq_set)\n",
    "J = list(J)\n",
    "\n",
    "tensors_EWT = [pq_gram.pqgram_to_tensor(pqgram, J) for pqgram in tqdm(PQ_Index[:EWT_tree_count], desc=\"[convert tensor]\")]\n",
    "tensors_GPT = [pq_gram.pqgram_to_tensor(pqgram, J) for pqgram in tqdm(PQ_Index[EWT_tree_count:], desc=\"[convert tensor]\")]\n",
    "\n",
    "\n",
    "model_path = \"models/model_en_corpora_EWT_Atis_unlabel_50.pth\"\n",
    "distance_function = w_pq.WeightedPqgramDistance(tensors_EWT[0].size(), [], [])\n",
    "distance_function.load_state_dict(torch.load(model_path))\n",
    "distance_function.eval()\n",
    "weights = distance_function.weights\n"
   ]
  },
  {
   "cell_type": "code",
   "execution_count": 3,
   "metadata": {},
   "outputs": [],
   "source": [
    "a = []\n",
    "for _ in range(EWT_tree_count):\n",
    "    a.append(1/EWT_tree_count)\n",
    "b = []\n",
    "for _ in range(GPT_tree_count):\n",
    "    b.append(1/GPT_tree_count)"
   ]
  },
  {
   "cell_type": "code",
   "execution_count": 4,
   "metadata": {},
   "outputs": [
    {
     "data": {
      "application/vnd.jupyter.widget-view+json": {
       "model_id": "fa2fb53123d74474a06c01f1462cf3bd",
       "version_major": 2,
       "version_minor": 0
      },
      "text/plain": [
       "  0%|          | 0/16621 [00:00<?, ?it/s]"
      ]
     },
     "metadata": {},
     "output_type": "display_data"
    }
   ],
   "source": [
    "cost_matrix = torch.zeros((EWT_tree_count, GPT_tree_count))\n",
    "\n",
    "tensors_EWT = torch.stack([t.to(\"cuda\") for t in tensors_EWT])\n",
    "tensors_GPT = torch.stack([t.to(\"cuda\") for t in tensors_GPT])\n",
    "\n",
    "for i in tqdm(range(EWT_tree_count)):\n",
    "    t_ewt = tensors_EWT[i].unsqueeze(0)\n",
    "    cost_matrix[i] = w_pq.weighted_pqgram_distance_batch(weights, tensors_GPT, t_ewt.repeat(tensors_GPT.size(0), 1))"
   ]
  },
  {
   "cell_type": "code",
   "execution_count": 7,
   "metadata": {},
   "outputs": [
    {
     "data": {
      "text/plain": [
       "1.5900653316080489"
      ]
     },
     "execution_count": 7,
     "metadata": {},
     "output_type": "execute_result"
    }
   ],
   "source": [
    "ot.emd2(a, b, cost_matrix.detach().numpy(), numItermax=1000000)"
   ]
  },
  {
   "cell_type": "markdown",
   "metadata": {},
   "source": [
    "### EWT - EWT"
   ]
  },
  {
   "cell_type": "code",
   "execution_count": 2,
   "metadata": {},
   "outputs": [
    {
     "data": {
      "application/vnd.jupyter.widget-view+json": {
       "model_id": "163bc9a5ebba45c996c6df7a928af39b",
       "version_major": 2,
       "version_minor": 0
      },
      "text/plain": [
       "[convert tensor]:   0%|          | 0/16621 [00:00<?, ?it/s]"
      ]
     },
     "metadata": {},
     "output_type": "display_data"
    },
    {
     "data": {
      "application/vnd.jupyter.widget-view+json": {
       "model_id": "d94987be1c94453797f31e339f4425e4",
       "version_major": 2,
       "version_minor": 0
      },
      "text/plain": [
       "[convert tensor]:   0%|          | 0/16621 [00:00<?, ?it/s]"
      ]
     },
     "metadata": {},
     "output_type": "display_data"
    },
    {
     "data": {
      "application/vnd.jupyter.widget-view+json": {
       "model_id": "b39c6bf284e348f89236ba45f2379bb7",
       "version_major": 2,
       "version_minor": 0
      },
      "text/plain": [
       "[cost matrix]:   0%|          | 0/16621 [00:00<?, ?it/s]"
      ]
     },
     "metadata": {},
     "output_type": "display_data"
    },
    {
     "name": "stdout",
     "output_type": "stream",
     "text": [
      "0.0\n"
     ]
    }
   ],
   "source": [
    "CoNLLU_source_PATH = \"corpora/English/English-EWT.conllu\"\n",
    "CoNLLU = pyconll.load_from_file(CoNLLU_source_PATH)\n",
    "source_tree_count = len(CoNLLU)\n",
    "\n",
    "CoNLLU_target_PATH = \"corpora/English/English-EWT.conllu\"\n",
    "CoNLLU += pyconll.load_from_file(CoNLLU_target_PATH)\n",
    "target_tree_count = len(CoNLLU) - source_tree_count\n",
    "\n",
    "\n",
    "PQ_Trees = [trees.conllTree_to_pqTree_unlabeled(conll.to_tree()) for conll in CoNLLU]\n",
    "PQ_Index = [Profile(tree, p=2, q=2) for tree in PQ_Trees]\n",
    "\n",
    "J = set(PQ_Index[0])\n",
    "for pq_set  in PQ_Index[1:]:\n",
    "    J = J.union(pq_set)\n",
    "J = list(J)\n",
    "\n",
    "tensors_source = [pq_gram.pqgram_to_tensor(pqgram, J) for pqgram in tqdm(PQ_Index[:source_tree_count], desc=\"[convert tensor]\")]\n",
    "tensors_target = [pq_gram.pqgram_to_tensor(pqgram, J) for pqgram in tqdm(PQ_Index[source_tree_count:], desc=\"[convert tensor]\")]\n",
    "\n",
    "\n",
    "model_path = \"models/model_en_corpora_EWT_EWT_unlabel_50.pth\"\n",
    "distance_function = w_pq.WeightedPqgramDistance(tensors_source[0].size(), [], [])\n",
    "distance_function.load_state_dict(torch.load(model_path))\n",
    "distance_function.eval()\n",
    "weights = distance_function.weights\n",
    "\n",
    "a = []\n",
    "for _ in range(source_tree_count):\n",
    "    a.append(1/source_tree_count)\n",
    "b = []\n",
    "for _ in range(target_tree_count):\n",
    "    b.append(1/target_tree_count)\n",
    "\n",
    "cost_matrix = torch.zeros((source_tree_count, target_tree_count))\n",
    "\n",
    "tensors_source = torch.stack([t.to(\"cuda\") for t in tensors_source])\n",
    "tensors_target = torch.stack([t.to(\"cuda\") for t in tensors_target])\n",
    "\n",
    "for i in tqdm(range(source_tree_count), desc=\"[cost matrix]\"):\n",
    "    t_source = tensors_source[i].unsqueeze(0)\n",
    "    cost_matrix[i] = w_pq.weighted_pqgram_distance_batch(weights, tensors_target, t_source.repeat(tensors_target.size(0), 1))\n",
    "\n",
    "print(ot.emd2(a, b, cost_matrix.detach().numpy(), numItermax=1000000))"
   ]
  },
  {
   "cell_type": "markdown",
   "metadata": {},
   "source": [
    "### EWT-ESL"
   ]
  },
  {
   "cell_type": "code",
   "execution_count": 5,
   "metadata": {},
   "outputs": [
    {
     "name": "stdout",
     "output_type": "stream",
     "text": [
      "16621 5124\n"
     ]
    },
    {
     "data": {
      "application/vnd.jupyter.widget-view+json": {
       "model_id": "0f20ae644164412e82487d4a8cb79576",
       "version_major": 2,
       "version_minor": 0
      },
      "text/plain": [
       "[convert tensor]:   0%|          | 0/16621 [00:00<?, ?it/s]"
      ]
     },
     "metadata": {},
     "output_type": "display_data"
    },
    {
     "data": {
      "application/vnd.jupyter.widget-view+json": {
       "model_id": "8f00c930ed524de2b761ae1c1111ee67",
       "version_major": 2,
       "version_minor": 0
      },
      "text/plain": [
       "[convert tensor]:   0%|          | 0/5124 [00:00<?, ?it/s]"
      ]
     },
     "metadata": {},
     "output_type": "display_data"
    },
    {
     "data": {
      "application/vnd.jupyter.widget-view+json": {
       "model_id": "a51025d315e249fe94bc4bbbc949e3af",
       "version_major": 2,
       "version_minor": 0
      },
      "text/plain": [
       "[cost matrix]:   0%|          | 0/16621 [00:00<?, ?it/s]"
      ]
     },
     "metadata": {},
     "output_type": "display_data"
    },
    {
     "name": "stdout",
     "output_type": "stream",
     "text": [
      "5.996618130895733\n"
     ]
    }
   ],
   "source": [
    "CoNLLU_source_PATH = \"corpora/English/English-EWT.conllu\"\n",
    "CoNLLU = pyconll.load_from_file(CoNLLU_source_PATH)\n",
    "source_tree_count = len(CoNLLU)\n",
    "\n",
    "CoNLLU_target_PATH = \"corpora/English/English-ESL.conllu\"\n",
    "CoNLLU += pyconll.load_from_file(CoNLLU_target_PATH)\n",
    "target_tree_count = len(CoNLLU) - source_tree_count\n",
    "\n",
    "print(source_tree_count, target_tree_count)\n",
    "\n",
    "PQ_Trees = [trees.conllTree_to_pqTree_unlabeled(conll.to_tree()) for conll in CoNLLU]\n",
    "PQ_Index = [Profile(tree, p=2, q=2) for tree in PQ_Trees]\n",
    "\n",
    "J = set(PQ_Index[0])\n",
    "for pq_set  in PQ_Index[1:]:\n",
    "    J = J.union(pq_set)\n",
    "J = list(J)\n",
    "\n",
    "tensors_source = [pq_gram.pqgram_to_tensor(pqgram, J) for pqgram in tqdm(PQ_Index[:source_tree_count], desc=\"[convert tensor]\")]\n",
    "tensors_target = [pq_gram.pqgram_to_tensor(pqgram, J) for pqgram in tqdm(PQ_Index[source_tree_count:], desc=\"[convert tensor]\")]\n",
    "\n",
    "\n",
    "model_path = \"models/model_en_corpora_En_EWT_ESL_unlabel_50.pth\"\n",
    "distance_function = w_pq.WeightedPqgramDistance(tensors_source[0].size(), [], [])\n",
    "distance_function.load_state_dict(torch.load(model_path))\n",
    "distance_function.eval()\n",
    "weights = distance_function.weights\n",
    "\n",
    "a = []\n",
    "for _ in range(source_tree_count):\n",
    "    a.append(1/source_tree_count)\n",
    "b = []\n",
    "for _ in range(target_tree_count):\n",
    "    b.append(1/target_tree_count)\n",
    "\n",
    "cost_matrix = torch.zeros((source_tree_count, target_tree_count))\n",
    "\n",
    "tensors_source = torch.stack([t.to(\"cuda:3\") for t in tensors_source])\n",
    "tensors_target = torch.stack([t.to(\"cuda:3\") for t in tensors_target])\n",
    "\n",
    "for i in tqdm(range(source_tree_count), desc=\"[cost matrix]\"):\n",
    "    t_source = tensors_source[i].unsqueeze(0)\n",
    "    cost_matrix[i] = w_pq.weighted_pqgram_distance_batch(weights, tensors_target, t_source.repeat(tensors_target.size(0), 1))\n",
    "\n",
    "print(ot.emd2(a, b, cost_matrix.detach().numpy(), numItermax=1000000))"
   ]
  },
  {
   "cell_type": "markdown",
   "metadata": {},
   "source": [
    "### EWT - Atis"
   ]
  },
  {
   "cell_type": "code",
   "execution_count": 4,
   "metadata": {},
   "outputs": [
    {
     "name": "stdout",
     "output_type": "stream",
     "text": [
      "16621 5432\n"
     ]
    },
    {
     "data": {
      "application/vnd.jupyter.widget-view+json": {
       "model_id": "c857dd22e5e140e4ab00ccd9fa908e1e",
       "version_major": 2,
       "version_minor": 0
      },
      "text/plain": [
       "[convert tensor]:   0%|          | 0/16621 [00:00<?, ?it/s]"
      ]
     },
     "metadata": {},
     "output_type": "display_data"
    },
    {
     "data": {
      "application/vnd.jupyter.widget-view+json": {
       "model_id": "01cfe25cb7ef4b2390aa718d04985d64",
       "version_major": 2,
       "version_minor": 0
      },
      "text/plain": [
       "[convert tensor]:   0%|          | 0/5432 [00:00<?, ?it/s]"
      ]
     },
     "metadata": {},
     "output_type": "display_data"
    },
    {
     "data": {
      "application/vnd.jupyter.widget-view+json": {
       "model_id": "c0081260c081496ab575dc12197e8802",
       "version_major": 2,
       "version_minor": 0
      },
      "text/plain": [
       "[cost matrix]:   0%|          | 0/16621 [00:00<?, ?it/s]"
      ]
     },
     "metadata": {},
     "output_type": "display_data"
    },
    {
     "name": "stdout",
     "output_type": "stream",
     "text": [
      "5.267264440750935\n"
     ]
    }
   ],
   "source": [
    "CoNLLU_source_PATH = \"corpora/English/English-EWT.conllu\"\n",
    "CoNLLU = pyconll.load_from_file(CoNLLU_source_PATH)\n",
    "source_tree_count = len(CoNLLU)\n",
    "\n",
    "CoNLLU_target_PATH = \"corpora/English/English-Atis.conllu\"\n",
    "CoNLLU += pyconll.load_from_file(CoNLLU_target_PATH)\n",
    "target_tree_count = len(CoNLLU) - source_tree_count\n",
    "\n",
    "print(source_tree_count, target_tree_count)\n",
    "\n",
    "PQ_Trees = [trees.conllTree_to_pqTree_unlabeled(conll.to_tree()) for conll in CoNLLU]\n",
    "PQ_Index = [Profile(tree, p=2, q=2) for tree in PQ_Trees]\n",
    "\n",
    "J = set(PQ_Index[0])\n",
    "for pq_set  in PQ_Index[1:]:\n",
    "    J = J.union(pq_set)\n",
    "J = list(J)\n",
    "\n",
    "tensors_source = [pq_gram.pqgram_to_tensor(pqgram, J) for pqgram in tqdm(PQ_Index[:source_tree_count], desc=\"[convert tensor]\")]\n",
    "tensors_target = [pq_gram.pqgram_to_tensor(pqgram, J) for pqgram in tqdm(PQ_Index[source_tree_count:], desc=\"[convert tensor]\")]\n",
    "\n",
    "\n",
    "model_path = \"models/model_en_corpora_EWT_Atis_unlabel_50.pth\"\n",
    "distance_function = w_pq.WeightedPqgramDistance(tensors_source[0].size(), [], [])\n",
    "distance_function.load_state_dict(torch.load(model_path))\n",
    "distance_function.eval()\n",
    "weights = distance_function.weights\n",
    "\n",
    "a = []\n",
    "for _ in range(source_tree_count):\n",
    "    a.append(1/source_tree_count)\n",
    "b = []\n",
    "for _ in range(target_tree_count):\n",
    "    b.append(1/target_tree_count)\n",
    "\n",
    "cost_matrix = torch.zeros((source_tree_count, target_tree_count))\n",
    "\n",
    "tensors_source = torch.stack([t.to(\"cuda:3\") for t in tensors_source])\n",
    "tensors_target = torch.stack([t.to(\"cuda:3\") for t in tensors_target])\n",
    "\n",
    "for i in tqdm(range(source_tree_count), desc=\"[cost matrix]\"):\n",
    "    t_source = tensors_source[i].unsqueeze(0)\n",
    "    cost_matrix[i] = w_pq.weighted_pqgram_distance_batch(weights, tensors_target, t_source.repeat(tensors_target.size(0), 1))\n",
    "\n",
    "print(ot.emd2(a, b, cost_matrix.detach().numpy(), numItermax=1000000))"
   ]
  },
  {
   "cell_type": "markdown",
   "metadata": {},
   "source": [
    "### EWT - Ja-BCCWJ"
   ]
  },
  {
   "cell_type": "code",
   "execution_count": 2,
   "metadata": {},
   "outputs": [
    {
     "name": "stdout",
     "output_type": "stream",
     "text": [
      "200 400\n"
     ]
    },
    {
     "data": {
      "application/vnd.jupyter.widget-view+json": {
       "model_id": "08c7a5a5bf4848eaba2397b51e7214b1",
       "version_major": 2,
       "version_minor": 0
      },
      "text/plain": [
       "[convert tensor]:   0%|          | 0/200 [00:00<?, ?it/s]"
      ]
     },
     "metadata": {},
     "output_type": "display_data"
    },
    {
     "data": {
      "application/vnd.jupyter.widget-view+json": {
       "model_id": "f3a089aca22740dfb82e6aab5051fed1",
       "version_major": 2,
       "version_minor": 0
      },
      "text/plain": [
       "[convert tensor]:   0%|          | 0/400 [00:00<?, ?it/s]"
      ]
     },
     "metadata": {},
     "output_type": "display_data"
    },
    {
     "data": {
      "application/vnd.jupyter.widget-view+json": {
       "model_id": "c3b73fc04ebd4796a81bd5aadf804fcd",
       "version_major": 2,
       "version_minor": 0
      },
      "text/plain": [
       "[cost matrix]:   0%|          | 0/200 [00:00<?, ?it/s]"
      ]
     },
     "metadata": {},
     "output_type": "display_data"
    },
    {
     "name": "stdout",
     "output_type": "stream",
     "text": [
      "3.3886754661349476\n"
     ]
    }
   ],
   "source": [
    "CoNLLU_source_PATH = \"corpora_20/English-EWT_20.conllu\"\n",
    "CoNLLU = pyconll.load_from_file(CoNLLU_source_PATH)\n",
    "source_tree_count = len(CoNLLU)\n",
    "\n",
    "CoNLLU_target_PATH = \"corpora_20/Japanese-GSDLUW_20.conllu\"\n",
    "CoNLLU += pyconll.load_from_file(CoNLLU_target_PATH)\n",
    "target_tree_count = len(CoNLLU) - source_tree_count\n",
    "\n",
    "print(source_tree_count, target_tree_count)\n",
    "\n",
    "PQ_Trees = [trees.conllTree_to_pqTree_unlabeled(conll.to_tree()) for conll in CoNLLU]\n",
    "PQ_Index = [Profile(tree, p=2, q=2) for tree in PQ_Trees]\n",
    "\n",
    "J = set(PQ_Index[0])\n",
    "for pq_set  in PQ_Index[1:]:\n",
    "    J = J.union(pq_set)\n",
    "J = list(J)\n",
    "\n",
    "tensors_source = [pq_gram.pqgram_to_tensor(pqgram, J) for pqgram in tqdm(PQ_Index[:source_tree_count], desc=\"[convert tensor]\")]\n",
    "tensors_target = [pq_gram.pqgram_to_tensor(pqgram, J) for pqgram in tqdm(PQ_Index[source_tree_count:], desc=\"[convert tensor]\")]\n",
    "\n",
    "\n",
    "model_path = \"models/model_English-EWT_Japanese-GSDLUW_unlabel_20.pth\"\n",
    "distance_function = w_pq.WeightedPqgramDistance(tensors_source[0].size(), [], [])\n",
    "distance_function.load_state_dict(torch.load(model_path))\n",
    "distance_function.eval()\n",
    "weights = distance_function.weights\n",
    "\n",
    "a = []\n",
    "for _ in range(source_tree_count):\n",
    "    a.append(1/source_tree_count)\n",
    "b = []\n",
    "for _ in range(target_tree_count):\n",
    "    b.append(1/target_tree_count)\n",
    "\n",
    "cost_matrix = torch.zeros((source_tree_count, target_tree_count))\n",
    "\n",
    "tensors_source = torch.stack([t.to(\"cuda:3\") for t in tensors_source])\n",
    "tensors_target = torch.stack([t.to(\"cuda:3\") for t in tensors_target])\n",
    "\n",
    "for i in tqdm(range(source_tree_count), desc=\"[cost matrix]\"):\n",
    "    t_source = tensors_source[i].unsqueeze(0)\n",
    "    cost_matrix[i] = w_pq.weighted_pqgram_distance_batch(weights, tensors_target, t_source.repeat(tensors_target.size(0), 1))\n",
    "\n",
    "print(ot.emd2(a, b, cost_matrix.detach().numpy(), numItermax=1000000))"
   ]
  },
  {
   "cell_type": "markdown",
   "metadata": {},
   "source": [
    "### En-EWT -- Fr-GSD"
   ]
  },
  {
   "cell_type": "code",
   "execution_count": 10,
   "metadata": {},
   "outputs": [
    {
     "name": "stdout",
     "output_type": "stream",
     "text": [
      "16621 14450\n"
     ]
    },
    {
     "data": {
      "application/vnd.jupyter.widget-view+json": {
       "model_id": "82ddf720c3ff438ba036db9bb1f10b2f",
       "version_major": 2,
       "version_minor": 0
      },
      "text/plain": [
       "[convert tensor]:   0%|          | 0/16621 [00:00<?, ?it/s]"
      ]
     },
     "metadata": {},
     "output_type": "display_data"
    },
    {
     "data": {
      "application/vnd.jupyter.widget-view+json": {
       "model_id": "6a53f2947fae4a76a0e5238951edd3e0",
       "version_major": 2,
       "version_minor": 0
      },
      "text/plain": [
       "[convert tensor]:   0%|          | 0/14450 [00:00<?, ?it/s]"
      ]
     },
     "metadata": {},
     "output_type": "display_data"
    },
    {
     "data": {
      "application/vnd.jupyter.widget-view+json": {
       "model_id": "cb6aaf70d8d245a5922747562864f842",
       "version_major": 2,
       "version_minor": 0
      },
      "text/plain": [
       "[cost matrix]:   0%|          | 0/16621 [00:00<?, ?it/s]"
      ]
     },
     "metadata": {},
     "output_type": "display_data"
    },
    {
     "name": "stdout",
     "output_type": "stream",
     "text": [
      "3.909186519127199\n"
     ]
    },
    {
     "name": "stderr",
     "output_type": "stream",
     "text": [
      "/home/yamazoe/.pyenv/versions/3.11.7/envs/env_pq/lib/python3.11/site-packages/ot/lp/__init__.py:580: UserWarning: numItermax reached before optimality. Try to increase numItermax.\n",
      "  check_result(result_code)\n"
     ]
    }
   ],
   "source": [
    "CoNLLU_source_PATH = \"corpora/English/English-EWT.conllu\"\n",
    "CoNLLU = pyconll.load_from_file(CoNLLU_source_PATH)\n",
    "source_tree_count = len(CoNLLU)\n",
    "\n",
    "CoNLLU_target_PATH = \"corpora/French/French-GSD.conllu\"\n",
    "CoNLLU += pyconll.load_from_file(CoNLLU_target_PATH)\n",
    "target_tree_count = len(CoNLLU) - source_tree_count\n",
    "\n",
    "print(source_tree_count, target_tree_count)\n",
    "\n",
    "PQ_Trees = [trees.conllTree_to_pqTree_unlabeled(conll.to_tree()) for conll in CoNLLU]\n",
    "PQ_Index = [Profile(tree, p=2, q=2) for tree in PQ_Trees]\n",
    "\n",
    "J = set(PQ_Index[0])\n",
    "for pq_set  in PQ_Index[1:]:\n",
    "    J = J.union(pq_set)\n",
    "J = list(J)\n",
    "\n",
    "tensors_source = [pq_gram.pqgram_to_tensor(pqgram, J) for pqgram in tqdm(PQ_Index[:source_tree_count], desc=\"[convert tensor]\")]\n",
    "tensors_target = [pq_gram.pqgram_to_tensor(pqgram, J) for pqgram in tqdm(PQ_Index[source_tree_count:], desc=\"[convert tensor]\")]\n",
    "\n",
    "\n",
    "model_path = \"models/model_En-EWT_Fr-GSD_unlabel_50.pth\"\n",
    "distance_function = w_pq.WeightedPqgramDistance(tensors_source[0].size(), [], [])\n",
    "distance_function.load_state_dict(torch.load(model_path))\n",
    "distance_function.eval()\n",
    "weights = distance_function.weights\n",
    "\n",
    "a = []\n",
    "for _ in range(source_tree_count):\n",
    "    a.append(1/source_tree_count)\n",
    "b = []\n",
    "for _ in range(target_tree_count):\n",
    "    b.append(1/target_tree_count)\n",
    "\n",
    "cost_matrix = torch.zeros((source_tree_count, target_tree_count))\n",
    "\n",
    "tensors_source = torch.stack([t.to(\"cuda:3\") for t in tensors_source])\n",
    "tensors_target = torch.stack([t.to(\"cuda:3\") for t in tensors_target])\n",
    "\n",
    "for i in tqdm(range(source_tree_count), desc=\"[cost matrix]\"):\n",
    "    t_source = tensors_source[i].unsqueeze(0)\n",
    "    cost_matrix[i] = w_pq.weighted_pqgram_distance_batch(weights, tensors_target, t_source.repeat(tensors_target.size(0), 1))\n",
    "\n",
    "print(ot.emd2(a, b, cost_matrix.detach().numpy(), numItermax=1000000))"
   ]
  },
  {
   "cell_type": "markdown",
   "metadata": {},
   "source": [
    "### EWT -- Korean-Kaist"
   ]
  },
  {
   "cell_type": "code",
   "execution_count": 11,
   "metadata": {},
   "outputs": [
    {
     "name": "stdout",
     "output_type": "stream",
     "text": [
      "16621 23010\n"
     ]
    },
    {
     "data": {
      "application/vnd.jupyter.widget-view+json": {
       "model_id": "e4be19767d2a4e629f08701792af850b",
       "version_major": 2,
       "version_minor": 0
      },
      "text/plain": [
       "[convert tensor]:   0%|          | 0/16621 [00:00<?, ?it/s]"
      ]
     },
     "metadata": {},
     "output_type": "display_data"
    },
    {
     "data": {
      "application/vnd.jupyter.widget-view+json": {
       "model_id": "33da7cb5580d416bbbfc3fdf8c5bbe14",
       "version_major": 2,
       "version_minor": 0
      },
      "text/plain": [
       "[convert tensor]:   0%|          | 0/23010 [00:00<?, ?it/s]"
      ]
     },
     "metadata": {},
     "output_type": "display_data"
    },
    {
     "data": {
      "application/vnd.jupyter.widget-view+json": {
       "model_id": "19237a6a9c0d4a3f9ed1dc67eaf163e7",
       "version_major": 2,
       "version_minor": 0
      },
      "text/plain": [
       "[cost matrix]:   0%|          | 0/16621 [00:00<?, ?it/s]"
      ]
     },
     "metadata": {},
     "output_type": "display_data"
    },
    {
     "name": "stdout",
     "output_type": "stream",
     "text": [
      "2.889577513517188\n"
     ]
    },
    {
     "name": "stderr",
     "output_type": "stream",
     "text": [
      "/home/yamazoe/.pyenv/versions/3.11.7/envs/env_pq/lib/python3.11/site-packages/ot/lp/__init__.py:580: UserWarning: numItermax reached before optimality. Try to increase numItermax.\n",
      "  check_result(result_code)\n"
     ]
    }
   ],
   "source": [
    "CoNLLU_source_PATH = \"corpora/English/English-EWT.conllu\"\n",
    "CoNLLU = pyconll.load_from_file(CoNLLU_source_PATH)\n",
    "source_tree_count = len(CoNLLU)\n",
    "\n",
    "CoNLLU_target_PATH = \"corpora/Korean/Korean-Kaist.conllu\"\n",
    "CoNLLU += pyconll.load_from_file(CoNLLU_target_PATH)\n",
    "target_tree_count = len(CoNLLU) - source_tree_count\n",
    "\n",
    "print(source_tree_count, target_tree_count)\n",
    "\n",
    "PQ_Trees = [trees.conllTree_to_pqTree_unlabeled(conll.to_tree()) for conll in CoNLLU]\n",
    "PQ_Index = [Profile(tree, p=2, q=2) for tree in PQ_Trees]\n",
    "\n",
    "J = set(PQ_Index[0])\n",
    "for pq_set  in PQ_Index[1:]:\n",
    "    J = J.union(pq_set)\n",
    "J = list(J)\n",
    "\n",
    "tensors_source = [pq_gram.pqgram_to_tensor(pqgram, J) for pqgram in tqdm(PQ_Index[:source_tree_count], desc=\"[convert tensor]\")]\n",
    "tensors_target = [pq_gram.pqgram_to_tensor(pqgram, J) for pqgram in tqdm(PQ_Index[source_tree_count:], desc=\"[convert tensor]\")]\n",
    "\n",
    "\n",
    "model_path = \"models/model_En-EWT_Ko-Kaist_unlabel_50.pth\"\n",
    "distance_function = w_pq.WeightedPqgramDistance(tensors_source[0].size(), [], [])\n",
    "distance_function.load_state_dict(torch.load(model_path))\n",
    "distance_function.eval()\n",
    "weights = distance_function.weights\n",
    "\n",
    "a = []\n",
    "for _ in range(source_tree_count):\n",
    "    a.append(1/source_tree_count)\n",
    "b = []\n",
    "for _ in range(target_tree_count):\n",
    "    b.append(1/target_tree_count)\n",
    "\n",
    "cost_matrix = torch.zeros((source_tree_count, target_tree_count))\n",
    "\n",
    "tensors_source = torch.stack([t.to(\"cuda:3\") for t in tensors_source])\n",
    "tensors_target = torch.stack([t.to(\"cuda:3\") for t in tensors_target])\n",
    "\n",
    "for i in tqdm(range(source_tree_count), desc=\"[cost matrix]\"):\n",
    "    t_source = tensors_source[i].unsqueeze(0)\n",
    "    cost_matrix[i] = w_pq.weighted_pqgram_distance_batch(weights, tensors_target, t_source.repeat(tensors_target.size(0), 1))\n",
    "\n",
    "print(ot.emd2(a, b, cost_matrix.detach().numpy(), numItermax=1000000))"
   ]
  },
  {
   "cell_type": "markdown",
   "metadata": {},
   "source": [
    "### Fr-GSD -- Ja-BCCWJ"
   ]
  },
  {
   "cell_type": "code",
   "execution_count": 4,
   "metadata": {},
   "outputs": [
    {
     "name": "stdout",
     "output_type": "stream",
     "text": [
      "30000 14450\n"
     ]
    },
    {
     "data": {
      "application/vnd.jupyter.widget-view+json": {
       "model_id": "c62227c3f7244e3197a1602fd208b38f",
       "version_major": 2,
       "version_minor": 0
      },
      "text/plain": [
       "[convert tensor]:   0%|          | 0/30000 [00:00<?, ?it/s]"
      ]
     },
     "metadata": {},
     "output_type": "display_data"
    },
    {
     "data": {
      "application/vnd.jupyter.widget-view+json": {
       "model_id": "eaeabae0df6d4cbaa44a00a41e664158",
       "version_major": 2,
       "version_minor": 0
      },
      "text/plain": [
       "[convert tensor]:   0%|          | 0/14450 [00:00<?, ?it/s]"
      ]
     },
     "metadata": {},
     "output_type": "display_data"
    },
    {
     "data": {
      "application/vnd.jupyter.widget-view+json": {
       "model_id": "7486852b08254dddb992ef5e045d1dd0",
       "version_major": 2,
       "version_minor": 0
      },
      "text/plain": [
       "[cost matrix]:   0%|          | 0/30000 [00:00<?, ?it/s]"
      ]
     },
     "metadata": {},
     "output_type": "display_data"
    },
    {
     "name": "stdout",
     "output_type": "stream",
     "text": [
      "1.4892249959879988\n"
     ]
    },
    {
     "name": "stderr",
     "output_type": "stream",
     "text": [
      "/home/yamazoe/.pyenv/versions/3.11.7/envs/env_pq/lib/python3.11/site-packages/ot/lp/__init__.py:580: UserWarning: numItermax reached before optimality. Try to increase numItermax.\n",
      "  check_result(result_code)\n"
     ]
    }
   ],
   "source": [
    "CoNLLU_source_PATH = \"corpora/Japanese/Japanese-BCCWJ.conllu\"\n",
    "CoNLLU = random.sample(pyconll.load_from_file(CoNLLU_source_PATH), k=30000)\n",
    "source_tree_count = len(CoNLLU)\n",
    "\n",
    "CoNLLU_target_PATH = \"corpora/French/French-GSD.conllu\"\n",
    "CoNLLU += pyconll.load_from_file(CoNLLU_target_PATH)\n",
    "target_tree_count = len(CoNLLU) - source_tree_count\n",
    "\n",
    "print(source_tree_count, target_tree_count)\n",
    "\n",
    "PQ_Trees = [trees.conllTree_to_pqTree_unlabeled(conll.to_tree()) for conll in CoNLLU]\n",
    "PQ_Index = [Profile(tree, p=2, q=2) for tree in PQ_Trees]\n",
    "\n",
    "J = set(PQ_Index[0])\n",
    "for pq_set  in PQ_Index[1:]:\n",
    "    J = J.union(pq_set)\n",
    "J = list(J)\n",
    "\n",
    "tensors_source = [pq_gram.pqgram_to_tensor(pqgram, J) for pqgram in tqdm(PQ_Index[:source_tree_count], desc=\"[convert tensor]\")]\n",
    "tensors_target = [pq_gram.pqgram_to_tensor(pqgram, J) for pqgram in tqdm(PQ_Index[source_tree_count:], desc=\"[convert tensor]\")]\n",
    "\n",
    "\n",
    "model_path = \"models/model_Fr-GSD_Ja-BCCWJ_unlabel_50.pth\"\n",
    "distance_function = w_pq.WeightedPqgramDistance(tensors_source[0].size(), [], [])\n",
    "distance_function.load_state_dict(torch.load(model_path))\n",
    "distance_function.eval()\n",
    "weights = distance_function.weights\n",
    "\n",
    "a = []\n",
    "for _ in range(source_tree_count):\n",
    "    a.append(1/source_tree_count)\n",
    "b = []\n",
    "for _ in range(target_tree_count):\n",
    "    b.append(1/target_tree_count)\n",
    "\n",
    "cost_matrix = torch.zeros((source_tree_count, target_tree_count))\n",
    "\n",
    "tensors_source = torch.stack([t.to(\"cuda:3\") for t in tensors_source])\n",
    "tensors_target = torch.stack([t.to(\"cuda:3\") for t in tensors_target])\n",
    "\n",
    "\n",
    "for i in tqdm(range(source_tree_count), desc=\"[cost matrix]\"):\n",
    "    t_source = tensors_source[i].unsqueeze(0)\n",
    "    cost_matrix[i] = w_pq.weighted_pqgram_distance_batch(weights, tensors_target, t_source.repeat(tensors_target.size(0), 1)).to(\"cpu\")\n",
    "\n",
    "\n",
    "print(ot.emd2(a, b, cost_matrix.detach().numpy(), numItermax=1000000))"
   ]
  },
  {
   "cell_type": "markdown",
   "metadata": {},
   "source": [
    "### Fr-GSD -- Korean-kaist"
   ]
  },
  {
   "cell_type": "code",
   "execution_count": 3,
   "metadata": {},
   "outputs": [
    {
     "name": "stdout",
     "output_type": "stream",
     "text": [
      "23010 14450\n"
     ]
    },
    {
     "data": {
      "application/vnd.jupyter.widget-view+json": {
       "model_id": "ea8dfdcf2c3742a3a4dbe5dbec5196ec",
       "version_major": 2,
       "version_minor": 0
      },
      "text/plain": [
       "[convert tensor]:   0%|          | 0/23010 [00:00<?, ?it/s]"
      ]
     },
     "metadata": {},
     "output_type": "display_data"
    },
    {
     "data": {
      "application/vnd.jupyter.widget-view+json": {
       "model_id": "59b2e656970f4013ace9e028cc42ce59",
       "version_major": 2,
       "version_minor": 0
      },
      "text/plain": [
       "[convert tensor]:   0%|          | 0/14450 [00:00<?, ?it/s]"
      ]
     },
     "metadata": {},
     "output_type": "display_data"
    },
    {
     "data": {
      "application/vnd.jupyter.widget-view+json": {
       "model_id": "d8c83dbbb4ac4f9a9bfdf13b3e2693b3",
       "version_major": 2,
       "version_minor": 0
      },
      "text/plain": [
       "[cost matrix]:   0%|          | 0/23010 [00:00<?, ?it/s]"
      ]
     },
     "metadata": {},
     "output_type": "display_data"
    },
    {
     "name": "stdout",
     "output_type": "stream",
     "text": [
      "6.481494471447322\n"
     ]
    },
    {
     "name": "stderr",
     "output_type": "stream",
     "text": [
      "/home/yamazoe/.pyenv/versions/3.11.7/envs/env_pq/lib/python3.11/site-packages/ot/lp/__init__.py:580: UserWarning: numItermax reached before optimality. Try to increase numItermax.\n",
      "  check_result(result_code)\n"
     ]
    }
   ],
   "source": [
    "CoNLLU_source_PATH = \"corpora/Korean/Korean-Kaist.conllu\"\n",
    "CoNLLU = pyconll.load_from_file(CoNLLU_source_PATH)\n",
    "source_tree_count = len(CoNLLU)\n",
    "\n",
    "CoNLLU_target_PATH = \"corpora/French/French-GSD.conllu\"\n",
    "CoNLLU += pyconll.load_from_file(CoNLLU_target_PATH)\n",
    "target_tree_count = len(CoNLLU) - source_tree_count\n",
    "\n",
    "print(source_tree_count, target_tree_count)\n",
    "\n",
    "PQ_Trees = [trees.conllTree_to_pqTree_unlabeled(conll.to_tree()) for conll in CoNLLU]\n",
    "PQ_Index = [Profile(tree, p=2, q=2) for tree in PQ_Trees]\n",
    "\n",
    "J = set(PQ_Index[0])\n",
    "for pq_set  in PQ_Index[1:]:\n",
    "    J = J.union(pq_set)\n",
    "J = list(J)\n",
    "\n",
    "tensors_source = [pq_gram.pqgram_to_tensor(pqgram, J) for pqgram in tqdm(PQ_Index[:source_tree_count], desc=\"[convert tensor]\")]\n",
    "tensors_target = [pq_gram.pqgram_to_tensor(pqgram, J) for pqgram in tqdm(PQ_Index[source_tree_count:], desc=\"[convert tensor]\")]\n",
    "\n",
    "\n",
    "model_path = \"models/model_Fr-GSD_Ko-Kaist_unlabel_50.pth\"\n",
    "distance_function = w_pq.WeightedPqgramDistance(tensors_source[0].size(), [], [])\n",
    "distance_function.load_state_dict(torch.load(model_path))\n",
    "distance_function.eval()\n",
    "weights = distance_function.weights\n",
    "\n",
    "a = []\n",
    "for _ in range(source_tree_count):\n",
    "    a.append(1/source_tree_count)\n",
    "b = []\n",
    "for _ in range(target_tree_count):\n",
    "    b.append(1/target_tree_count)\n",
    "\n",
    "cost_matrix = torch.zeros((source_tree_count, target_tree_count))\n",
    "\n",
    "tensors_source = torch.stack([t.to(\"cuda:3\") for t in tensors_source])\n",
    "tensors_target = torch.stack([t.to(\"cuda:3\") for t in tensors_target])\n",
    "\n",
    "\n",
    "for i in tqdm(range(source_tree_count), desc=\"[cost matrix]\"):\n",
    "    t_source = tensors_source[i].unsqueeze(0)\n",
    "    cost_matrix[i] = w_pq.weighted_pqgram_distance_batch(weights, tensors_target, t_source.repeat(tensors_target.size(0), 1)).to(\"cpu\")\n",
    "\n",
    "\n",
    "print(ot.emd2(a, b, cost_matrix.detach().numpy(), numItermax=1000000))"
   ]
  },
  {
   "cell_type": "markdown",
   "metadata": {},
   "source": [
    "### Ja-BCCWJ -- Ko-Kaist"
   ]
  },
  {
   "cell_type": "code",
   "execution_count": 2,
   "metadata": {},
   "outputs": [
    {
     "name": "stdout",
     "output_type": "stream",
     "text": [
      "23010 30000\n"
     ]
    },
    {
     "data": {
      "application/vnd.jupyter.widget-view+json": {
       "model_id": "2341c3f7831f4bb9b4fa7f509d6d1cf0",
       "version_major": 2,
       "version_minor": 0
      },
      "text/plain": [
       "[convert tensor]:   0%|          | 0/23010 [00:00<?, ?it/s]"
      ]
     },
     "metadata": {},
     "output_type": "display_data"
    },
    {
     "data": {
      "application/vnd.jupyter.widget-view+json": {
       "model_id": "83257fb631ef4fd5ade765db767db007",
       "version_major": 2,
       "version_minor": 0
      },
      "text/plain": [
       "[convert tensor]:   0%|          | 0/30000 [00:00<?, ?it/s]"
      ]
     },
     "metadata": {},
     "output_type": "display_data"
    },
    {
     "data": {
      "application/vnd.jupyter.widget-view+json": {
       "model_id": "bb6a6982d93a44d296177bab0fe54961",
       "version_major": 2,
       "version_minor": 0
      },
      "text/plain": [
       "[cost matrix]:   0%|          | 0/23010 [00:00<?, ?it/s]"
      ]
     },
     "metadata": {},
     "output_type": "display_data"
    },
    {
     "name": "stdout",
     "output_type": "stream",
     "text": [
      "0.6388610794329189\n"
     ]
    },
    {
     "name": "stderr",
     "output_type": "stream",
     "text": [
      "/home/yamazoe/.pyenv/versions/3.11.7/envs/env_pq/lib/python3.11/site-packages/ot/lp/__init__.py:580: UserWarning: numItermax reached before optimality. Try to increase numItermax.\n",
      "  check_result(result_code)\n"
     ]
    }
   ],
   "source": [
    "CoNLLU_source_PATH = \"corpora/Korean/Korean-Kaist.conllu\"\n",
    "CoNLLU = pyconll.load_from_file(CoNLLU_source_PATH)\n",
    "source_tree_count = len(CoNLLU)\n",
    "\n",
    "CoNLLU_target_PATH = \"corpora/Japanese/Japanese-BCCWJ.conllu\"\n",
    "CoNLLU += random.sample(pyconll.load_from_file(CoNLLU_target_PATH), k=30000)\n",
    "target_tree_count = len(CoNLLU) - source_tree_count\n",
    "\n",
    "print(source_tree_count, target_tree_count)\n",
    "\n",
    "PQ_Trees = [trees.conllTree_to_pqTree_unlabeled(conll.to_tree()) for conll in CoNLLU]\n",
    "PQ_Index = [Profile(tree, p=2, q=2) for tree in PQ_Trees]\n",
    "\n",
    "J = set(PQ_Index[0])\n",
    "for pq_set  in PQ_Index[1:]:\n",
    "    J = J.union(pq_set)\n",
    "J = list(J)\n",
    "\n",
    "tensors_source = [pq_gram.pqgram_to_tensor(pqgram, J) for pqgram in tqdm(PQ_Index[:source_tree_count], desc=\"[convert tensor]\")]\n",
    "tensors_target = [pq_gram.pqgram_to_tensor(pqgram, J) for pqgram in tqdm(PQ_Index[source_tree_count:], desc=\"[convert tensor]\")]\n",
    "\n",
    "\n",
    "model_path = \"models/model_Ja-BCCWJ_Ko-Kaist_unlabel_50.pth\"\n",
    "distance_function = w_pq.WeightedPqgramDistance(tensors_source[0].size(), [], [])\n",
    "distance_function.load_state_dict(torch.load(model_path))\n",
    "distance_function.eval()\n",
    "weights = distance_function.weights\n",
    "\n",
    "a = []\n",
    "for _ in range(source_tree_count):\n",
    "    a.append(1/source_tree_count)\n",
    "b = []\n",
    "for _ in range(target_tree_count):\n",
    "    b.append(1/target_tree_count)\n",
    "\n",
    "cost_matrix = torch.zeros((source_tree_count, target_tree_count))\n",
    "\n",
    "tensors_source = torch.stack([t.to(\"cuda:3\") for t in tensors_source])\n",
    "tensors_target = torch.stack([t.to(\"cuda:3\") for t in tensors_target])\n",
    "\n",
    "\n",
    "for i in tqdm(range(source_tree_count), desc=\"[cost matrix]\"):\n",
    "    t_source = tensors_source[i].unsqueeze(0)\n",
    "    cost_matrix[i] = w_pq.weighted_pqgram_distance_batch(weights, tensors_target, t_source.repeat(tensors_target.size(0), 1)).to(\"cpu\")\n",
    "\n",
    "\n",
    "print(ot.emd2(a, b, cost_matrix.detach().numpy(), numItermax=1000000))"
   ]
  },
  {
   "cell_type": "code",
   "execution_count": 16,
   "metadata": {},
   "outputs": [
    {
     "name": "stdout",
     "output_type": "stream",
     "text": [
      "3997 30000\n"
     ]
    },
    {
     "data": {
      "application/vnd.jupyter.widget-view+json": {
       "model_id": "24b2855d873441bbb36c0a332aee72cf",
       "version_major": 2,
       "version_minor": 0
      },
      "text/plain": [
       "[convert tensor]:   0%|          | 0/3997 [00:00<?, ?it/s]"
      ]
     },
     "metadata": {},
     "output_type": "display_data"
    },
    {
     "data": {
      "application/vnd.jupyter.widget-view+json": {
       "model_id": "1bfac250f15c41209bfac93ed64ab1f2",
       "version_major": 2,
       "version_minor": 0
      },
      "text/plain": [
       "[convert tensor]:   0%|          | 0/30000 [00:00<?, ?it/s]"
      ]
     },
     "metadata": {},
     "output_type": "display_data"
    },
    {
     "data": {
      "application/vnd.jupyter.widget-view+json": {
       "model_id": "a66bd5d3c231473e9b286a23538409fd",
       "version_major": 2,
       "version_minor": 0
      },
      "text/plain": [
       "[cost matrix]:   0%|          | 0/3997 [00:00<?, ?it/s]"
      ]
     },
     "metadata": {},
     "output_type": "display_data"
    },
    {
     "name": "stdout",
     "output_type": "stream",
     "text": [
      "1.9918164736164332\n"
     ]
    }
   ],
   "source": [
    "CoNLLU_source_PATH = \"corpora/Chinese/Chinese-GSD.conllu\"\n",
    "CoNLLU = pyconll.load_from_file(CoNLLU_source_PATH)\n",
    "source_tree_count = len(CoNLLU)\n",
    "\n",
    "CoNLLU_target_PATH = \"corpora/Japanese/Japanese-BCCWJ.conllu\"\n",
    "CoNLLU += random.sample(pyconll.load_from_file(CoNLLU_target_PATH), k=30000)\n",
    "target_tree_count = len(CoNLLU) - source_tree_count\n",
    "\n",
    "print(source_tree_count, target_tree_count)\n",
    "\n",
    "PQ_Trees = [trees.conllTree_to_pqTree_unlabeled(conll.to_tree()) for conll in CoNLLU]\n",
    "PQ_Index = [Profile(tree, p=2, q=2) for tree in PQ_Trees]\n",
    "\n",
    "J = set(PQ_Index[0])\n",
    "for pq_set  in PQ_Index[1:]:\n",
    "    J = J.union(pq_set)\n",
    "J = list(J)\n",
    "\n",
    "tensors_source = [pq_gram.pqgram_to_tensor(pqgram, J) for pqgram in tqdm(PQ_Index[:source_tree_count], desc=\"[convert tensor]\")]\n",
    "tensors_target = [pq_gram.pqgram_to_tensor(pqgram, J) for pqgram in tqdm(PQ_Index[source_tree_count:], desc=\"[convert tensor]\")]\n",
    "\n",
    "\n",
    "model_path = \"models/model_Chinese-GSD_Japanese-BCCWJ_unlabel_50.pth\"\n",
    "distance_function = w_pq.WeightedPqgramDistance(tensors_source[0].size(), [], [])\n",
    "distance_function.load_state_dict(torch.load(model_path))\n",
    "distance_function.eval()\n",
    "weights = distance_function.weights\n",
    "\n",
    "a = []\n",
    "for _ in range(source_tree_count):\n",
    "    a.append(1/source_tree_count)\n",
    "b = []\n",
    "for _ in range(target_tree_count):\n",
    "    b.append(1/target_tree_count)\n",
    "\n",
    "cost_matrix = torch.zeros((source_tree_count, target_tree_count))\n",
    "\n",
    "tensors_source = torch.stack([t.to(\"cuda:3\") for t in tensors_source])\n",
    "tensors_target = torch.stack([t.to(\"cuda:3\") for t in tensors_target])\n",
    "\n",
    "\n",
    "for i in tqdm(range(source_tree_count), desc=\"[cost matrix]\"):\n",
    "    t_source = tensors_source[i].unsqueeze(0)\n",
    "    cost_matrix[i] = w_pq.weighted_pqgram_distance_batch(weights, tensors_target, t_source.repeat(tensors_target.size(0), 1)).to(\"cpu\")\n",
    "\n",
    "\n",
    "print(ot.emd2(a, b, cost_matrix.detach().numpy(), numItermax=1000000))"
   ]
  },
  {
   "cell_type": "code",
   "execution_count": 17,
   "metadata": {},
   "outputs": [
    {
     "name": "stdout",
     "output_type": "stream",
     "text": [
      "3997 16621\n"
     ]
    },
    {
     "data": {
      "application/vnd.jupyter.widget-view+json": {
       "model_id": "f16ca5d01fda48ccbf0d5e70c1586562",
       "version_major": 2,
       "version_minor": 0
      },
      "text/plain": [
       "[convert tensor]:   0%|          | 0/3997 [00:00<?, ?it/s]"
      ]
     },
     "metadata": {},
     "output_type": "display_data"
    },
    {
     "data": {
      "application/vnd.jupyter.widget-view+json": {
       "model_id": "7756b6f7a3fa403fabb42361458b28d5",
       "version_major": 2,
       "version_minor": 0
      },
      "text/plain": [
       "[convert tensor]:   0%|          | 0/16621 [00:00<?, ?it/s]"
      ]
     },
     "metadata": {},
     "output_type": "display_data"
    },
    {
     "data": {
      "application/vnd.jupyter.widget-view+json": {
       "model_id": "68fda530191044aab679d2c3d224421d",
       "version_major": 2,
       "version_minor": 0
      },
      "text/plain": [
       "[cost matrix]:   0%|          | 0/3997 [00:00<?, ?it/s]"
      ]
     },
     "metadata": {},
     "output_type": "display_data"
    },
    {
     "name": "stdout",
     "output_type": "stream",
     "text": [
      "4.022910527215509\n"
     ]
    }
   ],
   "source": [
    "CoNLLU_source_PATH = \"corpora/Chinese/Chinese-GSD.conllu\"\n",
    "CoNLLU = pyconll.load_from_file(CoNLLU_source_PATH)\n",
    "source_tree_count = len(CoNLLU)\n",
    "\n",
    "CoNLLU_target_PATH = \"corpora/English/English-EWT.conllu\"\n",
    "CoNLLU += pyconll.load_from_file(CoNLLU_target_PATH)\n",
    "target_tree_count = len(CoNLLU) - source_tree_count\n",
    "\n",
    "print(source_tree_count, target_tree_count)\n",
    "\n",
    "PQ_Trees = [trees.conllTree_to_pqTree_unlabeled(conll.to_tree()) for conll in CoNLLU]\n",
    "PQ_Index = [Profile(tree, p=2, q=2) for tree in PQ_Trees]\n",
    "\n",
    "J = set(PQ_Index[0])\n",
    "for pq_set  in PQ_Index[1:]:\n",
    "    J = J.union(pq_set)\n",
    "J = list(J)\n",
    "\n",
    "tensors_source = [pq_gram.pqgram_to_tensor(pqgram, J) for pqgram in tqdm(PQ_Index[:source_tree_count], desc=\"[convert tensor]\")]\n",
    "tensors_target = [pq_gram.pqgram_to_tensor(pqgram, J) for pqgram in tqdm(PQ_Index[source_tree_count:], desc=\"[convert tensor]\")]\n",
    "\n",
    "\n",
    "model_path = \"models/model_Chinese-GSD_English-EWT_unlabel_50.pth\"\n",
    "distance_function = w_pq.WeightedPqgramDistance(tensors_source[0].size(), [], [])\n",
    "distance_function.load_state_dict(torch.load(model_path))\n",
    "distance_function.eval()\n",
    "weights = distance_function.weights\n",
    "\n",
    "a = []\n",
    "for _ in range(source_tree_count):\n",
    "    a.append(1/source_tree_count)\n",
    "b = []\n",
    "for _ in range(target_tree_count):\n",
    "    b.append(1/target_tree_count)\n",
    "\n",
    "cost_matrix = torch.zeros((source_tree_count, target_tree_count))\n",
    "\n",
    "tensors_source = torch.stack([t.to(\"cuda:3\") for t in tensors_source])\n",
    "tensors_target = torch.stack([t.to(\"cuda:3\") for t in tensors_target])\n",
    "\n",
    "\n",
    "for i in tqdm(range(source_tree_count), desc=\"[cost matrix]\"):\n",
    "    t_source = tensors_source[i].unsqueeze(0)\n",
    "    cost_matrix[i] = w_pq.weighted_pqgram_distance_batch(weights, tensors_target, t_source.repeat(tensors_target.size(0), 1)).to(\"cpu\")\n",
    "\n",
    "\n",
    "print(ot.emd2(a, b, cost_matrix.detach().numpy(), numItermax=1000000))"
   ]
  },
  {
   "cell_type": "code",
   "execution_count": 18,
   "metadata": {},
   "outputs": [
    {
     "name": "stdout",
     "output_type": "stream",
     "text": [
      "3997 14450\n"
     ]
    },
    {
     "data": {
      "application/vnd.jupyter.widget-view+json": {
       "model_id": "16596fe4c4f94d78b5446bf5fd9f428b",
       "version_major": 2,
       "version_minor": 0
      },
      "text/plain": [
       "[convert tensor]:   0%|          | 0/3997 [00:00<?, ?it/s]"
      ]
     },
     "metadata": {},
     "output_type": "display_data"
    },
    {
     "data": {
      "application/vnd.jupyter.widget-view+json": {
       "model_id": "34527bf1a2974d84a82f479ccee4ced1",
       "version_major": 2,
       "version_minor": 0
      },
      "text/plain": [
       "[convert tensor]:   0%|          | 0/14450 [00:00<?, ?it/s]"
      ]
     },
     "metadata": {},
     "output_type": "display_data"
    },
    {
     "data": {
      "application/vnd.jupyter.widget-view+json": {
       "model_id": "41bc6e16a03344c088d24ef3f89d43c3",
       "version_major": 2,
       "version_minor": 0
      },
      "text/plain": [
       "[cost matrix]:   0%|          | 0/3997 [00:00<?, ?it/s]"
      ]
     },
     "metadata": {},
     "output_type": "display_data"
    },
    {
     "name": "stdout",
     "output_type": "stream",
     "text": [
      "1.5812372912845252\n"
     ]
    }
   ],
   "source": [
    "CoNLLU_source_PATH = \"corpora/Chinese/Chinese-GSD.conllu\"\n",
    "CoNLLU = pyconll.load_from_file(CoNLLU_source_PATH)\n",
    "source_tree_count = len(CoNLLU)\n",
    "\n",
    "CoNLLU_target_PATH = \"corpora/French/French-GSD.conllu\"\n",
    "CoNLLU += pyconll.load_from_file(CoNLLU_target_PATH)\n",
    "target_tree_count = len(CoNLLU) - source_tree_count\n",
    "\n",
    "print(source_tree_count, target_tree_count)\n",
    "\n",
    "PQ_Trees = [trees.conllTree_to_pqTree_unlabeled(conll.to_tree()) for conll in CoNLLU]\n",
    "PQ_Index = [Profile(tree, p=2, q=2) for tree in PQ_Trees]\n",
    "\n",
    "J = set(PQ_Index[0])\n",
    "for pq_set  in PQ_Index[1:]:\n",
    "    J = J.union(pq_set)\n",
    "J = list(J)\n",
    "\n",
    "tensors_source = [pq_gram.pqgram_to_tensor(pqgram, J) for pqgram in tqdm(PQ_Index[:source_tree_count], desc=\"[convert tensor]\")]\n",
    "tensors_target = [pq_gram.pqgram_to_tensor(pqgram, J) for pqgram in tqdm(PQ_Index[source_tree_count:], desc=\"[convert tensor]\")]\n",
    "\n",
    "\n",
    "model_path = \"models/model_Chinese-GSD_French-GSD_unlabel_50.pth\"\n",
    "distance_function = w_pq.WeightedPqgramDistance(tensors_source[0].size(), [], [])\n",
    "distance_function.load_state_dict(torch.load(model_path))\n",
    "distance_function.eval()\n",
    "weights = distance_function.weights\n",
    "\n",
    "a = []\n",
    "for _ in range(source_tree_count):\n",
    "    a.append(1/source_tree_count)\n",
    "b = []\n",
    "for _ in range(target_tree_count):\n",
    "    b.append(1/target_tree_count)\n",
    "\n",
    "cost_matrix = torch.zeros((source_tree_count, target_tree_count))\n",
    "\n",
    "tensors_source = torch.stack([t.to(\"cuda:3\") for t in tensors_source])\n",
    "tensors_target = torch.stack([t.to(\"cuda:3\") for t in tensors_target])\n",
    "\n",
    "\n",
    "for i in tqdm(range(source_tree_count), desc=\"[cost matrix]\"):\n",
    "    t_source = tensors_source[i].unsqueeze(0)\n",
    "    cost_matrix[i] = w_pq.weighted_pqgram_distance_batch(weights, tensors_target, t_source.repeat(tensors_target.size(0), 1)).to(\"cpu\")\n",
    "\n",
    "\n",
    "print(ot.emd2(a, b, cost_matrix.detach().numpy(), numItermax=1000000))"
   ]
  },
  {
   "cell_type": "code",
   "execution_count": 20,
   "metadata": {},
   "outputs": [
    {
     "name": "stdout",
     "output_type": "stream",
     "text": [
      "3997 23010\n"
     ]
    },
    {
     "data": {
      "application/vnd.jupyter.widget-view+json": {
       "model_id": "9f24500114cb4d1bb2e50f219f380a55",
       "version_major": 2,
       "version_minor": 0
      },
      "text/plain": [
       "[convert tensor]:   0%|          | 0/3997 [00:00<?, ?it/s]"
      ]
     },
     "metadata": {},
     "output_type": "display_data"
    },
    {
     "data": {
      "application/vnd.jupyter.widget-view+json": {
       "model_id": "0a7a706b45af4bc884614effed201b05",
       "version_major": 2,
       "version_minor": 0
      },
      "text/plain": [
       "[convert tensor]:   0%|          | 0/23010 [00:00<?, ?it/s]"
      ]
     },
     "metadata": {},
     "output_type": "display_data"
    },
    {
     "data": {
      "application/vnd.jupyter.widget-view+json": {
       "model_id": "ecd9d75aecaa4766ae34b7b8dad603c1",
       "version_major": 2,
       "version_minor": 0
      },
      "text/plain": [
       "[cost matrix]:   0%|          | 0/3997 [00:00<?, ?it/s]"
      ]
     },
     "metadata": {},
     "output_type": "display_data"
    },
    {
     "name": "stdout",
     "output_type": "stream",
     "text": [
      "10.241156247193615\n"
     ]
    },
    {
     "name": "stderr",
     "output_type": "stream",
     "text": [
      "/home/yamazoe/.pyenv/versions/3.11.7/envs/env_pq/lib/python3.11/site-packages/ot/lp/__init__.py:580: UserWarning: numItermax reached before optimality. Try to increase numItermax.\n",
      "  check_result(result_code)\n"
     ]
    }
   ],
   "source": [
    "CoNLLU_source_PATH = \"corpora/Chinese/Chinese-GSD.conllu\"\n",
    "CoNLLU = pyconll.load_from_file(CoNLLU_source_PATH)\n",
    "source_tree_count = len(CoNLLU)\n",
    "\n",
    "CoNLLU_target_PATH = \"corpora/Korean/Korean-Kaist.conllu\"\n",
    "CoNLLU += pyconll.load_from_file(CoNLLU_target_PATH)\n",
    "target_tree_count = len(CoNLLU) - source_tree_count\n",
    "\n",
    "print(source_tree_count, target_tree_count)\n",
    "\n",
    "PQ_Trees = [trees.conllTree_to_pqTree_unlabeled(conll.to_tree()) for conll in CoNLLU]\n",
    "PQ_Index = [Profile(tree, p=2, q=2) for tree in PQ_Trees]\n",
    "\n",
    "J = set(PQ_Index[0])\n",
    "for pq_set  in PQ_Index[1:]:\n",
    "    J = J.union(pq_set)\n",
    "J = list(J)\n",
    "\n",
    "tensors_source = [pq_gram.pqgram_to_tensor(pqgram, J) for pqgram in tqdm(PQ_Index[:source_tree_count], desc=\"[convert tensor]\")]\n",
    "tensors_target = [pq_gram.pqgram_to_tensor(pqgram, J) for pqgram in tqdm(PQ_Index[source_tree_count:], desc=\"[convert tensor]\")]\n",
    "\n",
    "\n",
    "model_path = \"models/model_Chinese-GSD_Korean-Kaist_unlabel_50.pth\"\n",
    "distance_function = w_pq.WeightedPqgramDistance(tensors_source[0].size(), [], [])\n",
    "distance_function.load_state_dict(torch.load(model_path))\n",
    "distance_function.eval()\n",
    "weights = distance_function.weights\n",
    "\n",
    "a = []\n",
    "for _ in range(source_tree_count):\n",
    "    a.append(1/source_tree_count)\n",
    "b = []\n",
    "for _ in range(target_tree_count):\n",
    "    b.append(1/target_tree_count)\n",
    "\n",
    "cost_matrix = torch.zeros((source_tree_count, target_tree_count))\n",
    "\n",
    "tensors_source = torch.stack([t.to(\"cuda:3\") for t in tensors_source])\n",
    "tensors_target = torch.stack([t.to(\"cuda:3\") for t in tensors_target])\n",
    "\n",
    "\n",
    "for i in tqdm(range(source_tree_count), desc=\"[cost matrix]\"):\n",
    "    t_source = tensors_source[i].unsqueeze(0)\n",
    "    cost_matrix[i] = w_pq.weighted_pqgram_distance_batch(weights, tensors_target, t_source.repeat(tensors_target.size(0), 1)).to(\"cpu\")\n",
    "\n",
    "\n",
    "print(ot.emd2(a, b, cost_matrix.detach().numpy(), numItermax=1000000))"
   ]
  },
  {
   "cell_type": "markdown",
   "metadata": {},
   "source": [
    "## デンドログラムの作成例"
   ]
  },
  {
   "cell_type": "code",
   "execution_count": 6,
   "metadata": {},
   "outputs": [
    {
     "data": {
      "image/png": "[encoded data removed]",
      "text/plain": [
       "<Figure size 640x480 with 1 Axes>"
      ]
     },
     "metadata": {},
     "output_type": "display_data"
    }
   ],
   "source": [
    "mat = np.array([\n",
    "    [0.0, 2.9210620399488905, 3.909186519127199, 2.889577513517188, 4.022910527215509],\n",
    "    [2.9210620399488905, 0.0, 1.6574226261167868, 0.6388610794329189, 1.9918164736164332],\n",
    "    [3.909186519127199, 1.6574226261167868, 0.0, 6.481494471447322, 1.5812372912845252],\n",
    "    [2.889577513517188, 0.6388610794329189, 6.481494471447322, 0.0, 10.241156247193615],\n",
    "    [4.022910527215509, 1.9918164736164332, 1.5812372912845252, 10.241156247193615, 0.0]\n",
    "])\n",
    "\n",
    "condensed_distance = distance.squareform(mat)\n",
    "\n",
    "linkage_matrix = linkage(condensed_distance, method=\"ward\")\n",
    "\n",
    "plt.figure()\n",
    "dend = dendrogram(linkage_matrix, labels=[\"English\", \"Japanese\", \"French\", \"Korean\", \"Chinese\"])\n",
    "plt.yticks([])\n",
    "plt.savefig(\"dendrogram/M_w_unlabel.png\", dpi=300)"
   ]
  },
  {
   "cell_type": "markdown",
   "metadata": {},
   "source": [
    "### ノードラベルを品詞にしたとき"
   ]
  },
  {
   "cell_type": "code",
   "execution_count": 4,
   "metadata": {},
   "outputs": [
    {
     "name": "stdout",
     "output_type": "stream",
     "text": [
      "14450 8100\n"
     ]
    },
    {
     "data": {
      "application/vnd.jupyter.widget-view+json": {
       "model_id": "45b30c9b66074b7da22b1d34530db091",
       "version_major": 2,
       "version_minor": 0
      },
      "text/plain": [
       "[convert tensor]:   0%|          | 0/14450 [00:00<?, ?it/s]"
      ]
     },
     "metadata": {},
     "output_type": "display_data"
    },
    {
     "data": {
      "application/vnd.jupyter.widget-view+json": {
       "model_id": "3f3cfac9883244fb84c0f7ab488e327c",
       "version_major": 2,
       "version_minor": 0
      },
      "text/plain": [
       "[convert tensor]:   0%|          | 0/8100 [00:00<?, ?it/s]"
      ]
     },
     "metadata": {},
     "output_type": "display_data"
    },
    {
     "data": {
      "application/vnd.jupyter.widget-view+json": {
       "model_id": "766bf0e538c044a2b27ec77a967e345f",
       "version_major": 2,
       "version_minor": 0
      },
      "text/plain": [
       "[cost matrix]:   0%|          | 0/14450 [00:00<?, ?it/s]"
      ]
     },
     "metadata": {},
     "output_type": "display_data"
    },
    {
     "ename": "OutOfMemoryError",
     "evalue": "CUDA out of memory. Tried to allocate 256.00 MiB. GPU 0 has a total capacity of 23.65 GiB of which 188.25 MiB is free. Process 161512 has 6.32 GiB memory in use. Including non-PyTorch memory, this process has 17.13 GiB memory in use. Of the allocated memory 16.60 GiB is allocated by PyTorch, and 98.68 MiB is reserved by PyTorch but unallocated. If reserved but unallocated memory is large try setting PYTORCH_CUDA_ALLOC_CONF=expandable_segments:True to avoid fragmentation.  See documentation for Memory Management  (https://pytorch.org/docs/stable/notes/cuda.html#environment-variables)",
     "output_type": "error",
     "traceback": [
      "\u001b[0;31m---------------------------------------------------------------------------\u001b[0m",
      "\u001b[0;31mOutOfMemoryError\u001b[0m                          Traceback (most recent call last)",
      "Cell \u001b[0;32mIn[4], line 44\u001b[0m\n\u001b[1;32m     42\u001b[0m \u001b[38;5;28;01mfor\u001b[39;00m i \u001b[38;5;129;01min\u001b[39;00m tqdm(\u001b[38;5;28mrange\u001b[39m(source_tree_count), desc\u001b[38;5;241m=\u001b[39m\u001b[38;5;124m\"\u001b[39m\u001b[38;5;124m[cost matrix]\u001b[39m\u001b[38;5;124m\"\u001b[39m):\n\u001b[1;32m     43\u001b[0m     t_source \u001b[38;5;241m=\u001b[39m tensors_source[i]\u001b[38;5;241m.\u001b[39munsqueeze(\u001b[38;5;241m0\u001b[39m)\n\u001b[0;32m---> 44\u001b[0m     cost_matrix[i] \u001b[38;5;241m=\u001b[39m \u001b[43mw_pq\u001b[49m\u001b[38;5;241;43m.\u001b[39;49m\u001b[43mweighted_pqgram_distance_batch\u001b[49m\u001b[43m(\u001b[49m\u001b[43mweights\u001b[49m\u001b[43m,\u001b[49m\u001b[43m \u001b[49m\u001b[43mtensors_target\u001b[49m\u001b[43m,\u001b[49m\u001b[43m \u001b[49m\u001b[43mt_source\u001b[49m\u001b[38;5;241;43m.\u001b[39;49m\u001b[43mrepeat\u001b[49m\u001b[43m(\u001b[49m\u001b[43mtensors_target\u001b[49m\u001b[38;5;241;43m.\u001b[39;49m\u001b[43msize\u001b[49m\u001b[43m(\u001b[49m\u001b[38;5;241;43m0\u001b[39;49m\u001b[43m)\u001b[49m\u001b[43m,\u001b[49m\u001b[43m \u001b[49m\u001b[38;5;241;43m1\u001b[39;49m\u001b[43m)\u001b[49m\u001b[43m)\u001b[49m\u001b[38;5;241m.\u001b[39mto(\u001b[38;5;124m\"\u001b[39m\u001b[38;5;124mcpu\u001b[39m\u001b[38;5;124m\"\u001b[39m)\n\u001b[1;32m     47\u001b[0m \u001b[38;5;28mprint\u001b[39m(ot\u001b[38;5;241m.\u001b[39memd2(a, b, cost_matrix\u001b[38;5;241m.\u001b[39mdetach()\u001b[38;5;241m.\u001b[39mnumpy(), numItermax\u001b[38;5;241m=\u001b[39m\u001b[38;5;241m1000000\u001b[39m))\n",
      "File \u001b[0;32m/misc/home/yamazoe/zoe/scripts/w_pq_batch.py:35\u001b[0m, in \u001b[0;36mweighted_pqgram_distance_batch\u001b[0;34m(weights, batch1, batch2)\u001b[0m\n\u001b[1;32m     33\u001b[0m device \u001b[38;5;241m=\u001b[39m batch1\u001b[38;5;241m.\u001b[39mdevice\n\u001b[1;32m     34\u001b[0m min12 \u001b[38;5;241m=\u001b[39m torch\u001b[38;5;241m.\u001b[39mminimum(batch1, batch2)\n\u001b[0;32m---> 35\u001b[0m diff \u001b[38;5;241m=\u001b[39m \u001b[43mbatch1\u001b[49m\u001b[38;5;241;43m+\u001b[39;49m\u001b[43mbatch2\u001b[49m\u001b[38;5;241;43m-\u001b[39;49m\u001b[38;5;241;43m2\u001b[39;49m\u001b[38;5;241;43m*\u001b[39;49m\u001b[43mmin12\u001b[49m\n\u001b[1;32m     36\u001b[0m aw \u001b[38;5;241m=\u001b[39m func\u001b[38;5;241m.\u001b[39msoftplus(weights\u001b[38;5;241m.\u001b[39mto(device))\n\u001b[1;32m     37\u001b[0m \u001b[38;5;28;01mreturn\u001b[39;00m (diff\u001b[38;5;241m*\u001b[39maw)\u001b[38;5;241m.\u001b[39msum(dim\u001b[38;5;241m=\u001b[39m\u001b[38;5;241m1\u001b[39m)\n",
      "\u001b[0;31mOutOfMemoryError\u001b[0m: CUDA out of memory. Tried to allocate 256.00 MiB. GPU 0 has a total capacity of 23.65 GiB of which 188.25 MiB is free. Process 161512 has 6.32 GiB memory in use. Including non-PyTorch memory, this process has 17.13 GiB memory in use. Of the allocated memory 16.60 GiB is allocated by PyTorch, and 98.68 MiB is reserved by PyTorch but unallocated. If reserved but unallocated memory is large try setting PYTORCH_CUDA_ALLOC_CONF=expandable_segments:True to avoid fragmentation.  See documentation for Memory Management  (https://pytorch.org/docs/stable/notes/cuda.html#environment-variables)"
     ]
    }
   ],
   "source": [
    "CoNLLU_source_PATH = \"corpora/French/French-GSD.conllu\"\n",
    "CoNLLU = pyconll.load_from_file(CoNLLU_source_PATH)\n",
    "source_tree_count = len(CoNLLU)\n",
    "\n",
    "CoNLLU_target_PATH = \"corpora/Japanese/Japanese-GSDLUW.conllu\"\n",
    "CoNLLU += pyconll.load_from_file(CoNLLU_target_PATH)\n",
    "target_tree_count = len(CoNLLU) - source_tree_count\n",
    "\n",
    "print(source_tree_count, target_tree_count)\n",
    "\n",
    "PQ_Trees = [trees.conllTree_to_pqTree_upos(conll.to_tree()) for conll in CoNLLU]\n",
    "PQ_Index = [Profile(tree, p=2, q=2) for tree in PQ_Trees]\n",
    "\n",
    "J = set(PQ_Index[0])\n",
    "for pq_set  in PQ_Index[1:]:\n",
    "    J = J.union(pq_set)\n",
    "J = list(J)\n",
    "\n",
    "tensors_source = [pq_gram.pqgram_to_tensor(pqgram, J) for pqgram in tqdm(PQ_Index[:source_tree_count], desc=\"[convert tensor]\")]\n",
    "tensors_target = [pq_gram.pqgram_to_tensor(pqgram, J) for pqgram in tqdm(PQ_Index[source_tree_count:], desc=\"[convert tensor]\")]\n",
    "\n",
    "\n",
    "model_path = \"models/model_French-GSD_Japanese-GSDLUW_upos_50.pth\"\n",
    "distance_function = w_pq.WeightedPqgramDistance(tensors_source[0].size(), [], [])\n",
    "distance_function.load_state_dict(torch.load(model_path))\n",
    "distance_function.eval()\n",
    "weights = distance_function.weights\n",
    "\n",
    "a = []\n",
    "for _ in range(source_tree_count):\n",
    "    a.append(1/source_tree_count)\n",
    "b = []\n",
    "for _ in range(target_tree_count):\n",
    "    b.append(1/target_tree_count)\n",
    "\n",
    "cost_matrix = torch.zeros((source_tree_count, target_tree_count))\n",
    "\n",
    "tensors_source = torch.stack([t.to(\"cuda:0\") for t in tensors_source])\n",
    "tensors_target = torch.stack([t.to(\"cuda:0\") for t in tensors_target])\n",
    "\n",
    "\n",
    "for i in tqdm(range(source_tree_count), desc=\"[cost matrix]\"):\n",
    "    t_source = tensors_source[i].unsqueeze(0)\n",
    "    cost_matrix[i] = w_pq.weighted_pqgram_distance_batch(weights, tensors_target, t_source.repeat(tensors_target.size(0), 1)).to(\"cpu\")\n",
    "\n",
    "\n",
    "print(ot.emd2(a, b, cost_matrix.detach().numpy(), numItermax=1000000))"
   ]
  },
  {
   "cell_type": "markdown",
   "metadata": {},
   "source": [
    "### 学習しないでやると"
   ]
  },
  {
   "cell_type": "code",
   "execution_count": 45,
   "metadata": {},
   "outputs": [
    {
     "name": "stdout",
     "output_type": "stream",
     "text": [
      "14450 3997\n"
     ]
    },
    {
     "data": {
      "application/vnd.jupyter.widget-view+json": {
       "model_id": "dfb170766d5f40d1bcafe7e9bb0f6534",
       "version_major": 2,
       "version_minor": 0
      },
      "text/plain": [
       "[convert tensor]:   0%|          | 0/14450 [00:00<?, ?it/s]"
      ]
     },
     "metadata": {},
     "output_type": "display_data"
    },
    {
     "data": {
      "application/vnd.jupyter.widget-view+json": {
       "model_id": "d8a0198a2d8a43118ea7b23c8e5b8b47",
       "version_major": 2,
       "version_minor": 0
      },
      "text/plain": [
       "[convert tensor]:   0%|          | 0/3997 [00:00<?, ?it/s]"
      ]
     },
     "metadata": {},
     "output_type": "display_data"
    },
    {
     "data": {
      "application/vnd.jupyter.widget-view+json": {
       "model_id": "f0f43937438c4e708513582465d78a29",
       "version_major": 2,
       "version_minor": 0
      },
      "text/plain": [
       "[cost matrix]:   0%|          | 0/14450 [00:00<?, ?it/s]"
      ]
     },
     "metadata": {},
     "output_type": "display_data"
    },
    {
     "name": "stdout",
     "output_type": "stream",
     "text": [
      "6.305707212931308\n"
     ]
    }
   ],
   "source": [
    "CoNLLU_source_PATH = \"corpora/French/French-GSD.conllu\"\n",
    "CoNLLU = pyconll.load_from_file(CoNLLU_source_PATH)\n",
    "source_tree_count = len(CoNLLU)\n",
    "\n",
    "CoNLLU_target_PATH = \"corpora/Chinese/Chinese-GSD.conllu\"\n",
    "CoNLLU += pyconll.load_from_file(CoNLLU_target_PATH)\n",
    "target_tree_count = len(CoNLLU) - source_tree_count\n",
    "\n",
    "print(source_tree_count, target_tree_count)\n",
    "\n",
    "PQ_Trees = [trees.conllTree_to_pqTree_unlabeled(conll.to_tree()) for conll in CoNLLU]\n",
    "PQ_Index = [Profile(tree, p=2, q=2) for tree in PQ_Trees]\n",
    "\n",
    "J = set(PQ_Index[0])\n",
    "for pq_set  in PQ_Index[1:]:\n",
    "    J = J.union(pq_set)\n",
    "J = list(J)\n",
    "\n",
    "tensors_source = [pq_gram.pqgram_to_tensor(pqgram, J) for pqgram in tqdm(PQ_Index[:source_tree_count], desc=\"[convert tensor]\")]\n",
    "tensors_target = [pq_gram.pqgram_to_tensor(pqgram, J) for pqgram in tqdm(PQ_Index[source_tree_count:], desc=\"[convert tensor]\")]\n",
    "\n",
    "weights = torch.ones(len(J))\n",
    "\n",
    "a = []\n",
    "for _ in range(source_tree_count):\n",
    "    a.append(1/source_tree_count)\n",
    "b = []\n",
    "for _ in range(target_tree_count):\n",
    "    b.append(1/target_tree_count)\n",
    "\n",
    "cost_matrix = torch.zeros((source_tree_count, target_tree_count))\n",
    "\n",
    "tensors_source = torch.stack([t.to(\"cuda:3\") for t in tensors_source])\n",
    "tensors_target = torch.stack([t.to(\"cuda:3\") for t in tensors_target])\n",
    "\n",
    "for i in tqdm(range(source_tree_count), desc=\"[cost matrix]\"):\n",
    "    t_source = tensors_source[i].unsqueeze(0)\n",
    "    cost_matrix[i] = w_pq.weighted_pqgram_distance_batch(weights, tensors_target, t_source.repeat(tensors_target.size(0), 1))\n",
    "\n",
    "print(ot.emd2(a, b, cost_matrix.detach().numpy(), numItermax=1000000))"
   ]
  },
  {
   "cell_type": "code",
   "execution_count": 7,
   "metadata": {},
   "outputs": [
    {
     "data": {
      "image/png": "[encoded data removed]",
      "text/plain": [
       "<Figure size 640x480 with 1 Axes>"
      ]
     },
     "metadata": {},
     "output_type": "display_data"
    }
   ],
   "source": [
    "mat = np.array([\n",
    "    [0.0,   13.921808713761822, 24.462756607012043,\t16.37367393637651,\t24.727866582687017],\n",
    "    [13.921808713761822,\t0.0,\t13.283233099995035,\t20.98275578765745,\t15.733250120095386],\n",
    "    [24.462756607012043,\t13.283233099995035,\t0.0,\t27.790417556951798,\t6.305707212931308],\n",
    "    [16.37367393637651,\t20.98275578765745,\t27.790417556951798,\t0.0,\t30.96447059833724],\n",
    "    [24.727866582687017,\t15.733250120095386,\t6.305707212931308,\t30.96447059833724,\t0.0]\n",
    "])\n",
    "\n",
    "condensed_distance = distance.squareform(mat)\n",
    "\n",
    "linkage_matrix = linkage(condensed_distance, method=\"ward\")\n",
    "\n",
    "plt.figure()\n",
    "dend = dendrogram(linkage_matrix, labels=[\"English\", \"Japanese\", \"French\", \"Korean\", \"Chinese\"])\n",
    "plt.yticks([])\n",
    "plt.savefig(\"dendrogram/M_pq_unlabel.png\")\n",
    "#plt.title(r\"Dendrogram (pure-$pq$gram, unlabel)\")"
   ]
  },
  {
   "cell_type": "code",
   "execution_count": null,
   "metadata": {},
   "outputs": [],
   "source": []
  },
  {
   "cell_type": "markdown",
   "metadata": {},
   "source": [
    "### TED ならどうなる？"
   ]
  },
  {
   "cell_type": "code",
   "execution_count": 52,
   "metadata": {},
   "outputs": [
    {
     "data": {
      "application/vnd.jupyter.widget-view+json": {
       "model_id": "906c8b8dc8c34804bf55c70545e636e2",
       "version_major": 2,
       "version_minor": 0
      },
      "text/plain": [
       "[cost matrix]: 0it [00:00, ?it/s]"
      ]
     },
     "metadata": {},
     "output_type": "display_data"
    },
    {
     "name": "stdout",
     "output_type": "stream",
     "text": [
      "11.339999746531248\n"
     ]
    }
   ],
   "source": [
    "CoNLLU_source_PATH = \"corpora/French/French-GSD.conllu\"\n",
    "CoNLLU_src = random.sample(pyconll.load_from_file(CoNLLU_source_PATH), k=100)\n",
    "source_tree_count = len(CoNLLU_src)\n",
    "\n",
    "CoNLLU_target_PATH = \"corpora/Chinese/Chinese-GSD.conllu\"\n",
    "CoNLLU_tar = random.sample(pyconll.load_from_file(CoNLLU_target_PATH), k=100)\n",
    "target_tree_count = len(CoNLLU_tar)\n",
    "\n",
    "zss_trees_src = [trees.conllTree_to_zssNode_unlabel(conll.to_tree()) for conll in CoNLLU_src]\n",
    "zss_trees_tar = [trees.conllTree_to_zssNode_unlabel(conll.to_tree()) for conll in CoNLLU_tar]\n",
    "\n",
    "a = []\n",
    "for _ in range(source_tree_count):\n",
    "    a.append(1/source_tree_count)\n",
    "b = []\n",
    "for _ in range(target_tree_count):\n",
    "    b.append(1/target_tree_count)\n",
    "\n",
    "cost_matrix = torch.zeros((source_tree_count, target_tree_count))\n",
    "\n",
    "for i, src in tqdm(enumerate(zss_trees_src), desc=\"[cost matrix]\"):\n",
    "    for j, tar in enumerate(zss_trees_tar):\n",
    "        cost_matrix[i,j] = zss.simple_distance(src, tar)\n",
    "        \n",
    "\n",
    "print(ot.emd2(a, b, cost_matrix.detach().numpy(), numItermax=1000000))"
   ]
  },
  {
   "cell_type": "markdown",
   "metadata": {},
   "source": [
    "### 1/17"
   ]
  },
  {
   "cell_type": "code",
   "execution_count": 40,
   "metadata": {},
   "outputs": [
    {
     "name": "stdout",
     "output_type": "stream",
     "text": [
      "16621 5432\n"
     ]
    },
    {
     "data": {
      "application/vnd.jupyter.widget-view+json": {
       "model_id": "b7d8408f946a48139afe45c0db9f7aff",
       "version_major": 2,
       "version_minor": 0
      },
      "text/plain": [
       "[convert tensor]:   0%|          | 0/16621 [00:00<?, ?it/s]"
      ]
     },
     "metadata": {},
     "output_type": "display_data"
    },
    {
     "data": {
      "application/vnd.jupyter.widget-view+json": {
       "model_id": "f82bc042c0494403bccc4f6497c2156b",
       "version_major": 2,
       "version_minor": 0
      },
      "text/plain": [
       "[convert tensor]:   0%|          | 0/5432 [00:00<?, ?it/s]"
      ]
     },
     "metadata": {},
     "output_type": "display_data"
    },
    {
     "data": {
      "application/vnd.jupyter.widget-view+json": {
       "model_id": "43e00f25991d43a7a777f5fa6cdf6adc",
       "version_major": 2,
       "version_minor": 0
      },
      "text/plain": [
       "[cost matrix]:   0%|          | 0/16621 [00:00<?, ?it/s]"
      ]
     },
     "metadata": {},
     "output_type": "display_data"
    },
    {
     "name": "stdout",
     "output_type": "stream",
     "text": [
      "4.7612555376449865\n"
     ]
    }
   ],
   "source": [
    "# w-pq unlabel\n",
    "\n",
    "CoNLLU_source_PATH = \"corpora/English/English-EWT.conllu\"\n",
    "CoNLLU = pyconll.load_from_file(CoNLLU_source_PATH)\n",
    "source_tree_count = len(CoNLLU)\n",
    "\n",
    "CoNLLU_target_PATH = \"corpora/English/English-Atis.conllu\"\n",
    "CoNLLU += pyconll.load_from_file(CoNLLU_target_PATH)\n",
    "target_tree_count = len(CoNLLU) - source_tree_count\n",
    "\n",
    "print(source_tree_count, target_tree_count)\n",
    "\n",
    "PQ_Trees = [trees.conllTree_to_pqTree_unlabeled(conll.to_tree()) for conll in CoNLLU]\n",
    "PQ_Index = [Profile(tree, p=2, q=2) for tree in PQ_Trees]\n",
    "\n",
    "J = set(PQ_Index[0])\n",
    "for pq_set  in PQ_Index[1:]:\n",
    "    J = J.union(pq_set)\n",
    "J = list(J)\n",
    "\n",
    "tensors_source = [pq_gram.pqgram_to_tensor(pqgram, J) for pqgram in tqdm(PQ_Index[:source_tree_count], desc=\"[convert tensor]\")]\n",
    "tensors_target = [pq_gram.pqgram_to_tensor(pqgram, J) for pqgram in tqdm(PQ_Index[source_tree_count:], desc=\"[convert tensor]\")]\n",
    "\n",
    "model_path = \"models/model_English-Atis_English-EWT_unlabel_10.pth\"\n",
    "distance_function = w_pq.WeightedPqgramDistance(tensors_source[0].size(), [], [])\n",
    "distance_function.load_state_dict(torch.load(model_path))\n",
    "distance_function.eval()\n",
    "weights = distance_function.weights\n",
    "\n",
    "a = []\n",
    "for _ in range(source_tree_count):\n",
    "    a.append(1/source_tree_count)\n",
    "b = []\n",
    "for _ in range(target_tree_count):\n",
    "    b.append(1/target_tree_count)\n",
    "\n",
    "cost_matrix = torch.zeros((source_tree_count, target_tree_count))\n",
    "\n",
    "tensors_source = torch.stack([t.to(\"cuda:3\") for t in tensors_source])\n",
    "tensors_target = torch.stack([t.to(\"cuda:3\") for t in tensors_target])\n",
    "\n",
    "\n",
    "for i in tqdm(range(source_tree_count), desc=\"[cost matrix]\"):\n",
    "    t_source = tensors_source[i].unsqueeze(0)\n",
    "    cost_matrix[i] = w_pq.weighted_pqgram_distance_batch(weights, tensors_target, t_source.repeat(tensors_target.size(0), 1)).to(\"cpu\")\n",
    "\n",
    "\n",
    "print(ot.emd2(a, b, cost_matrix.detach().numpy(), numItermax=1000000))"
   ]
  },
  {
   "cell_type": "code",
   "execution_count": 6,
   "metadata": {},
   "outputs": [
    {
     "name": "stdout",
     "output_type": "stream",
     "text": [
      "Korean-Kaist Chinese-GSD\n",
      "23010 3997\n"
     ]
    },
    {
     "data": {
      "application/vnd.jupyter.widget-view+json": {
       "model_id": "bc7c070d77d84dfc81655d8d6a422fa2",
       "version_major": 2,
       "version_minor": 0
      },
      "text/plain": [
       "[convert tensor]:   0%|          | 0/23010 [00:00<?, ?it/s]"
      ]
     },
     "metadata": {},
     "output_type": "display_data"
    },
    {
     "data": {
      "application/vnd.jupyter.widget-view+json": {
       "model_id": "375c149c75bd43b8bda9362a60a38556",
       "version_major": 2,
       "version_minor": 0
      },
      "text/plain": [
       "[convert tensor]:   0%|          | 0/3997 [00:00<?, ?it/s]"
      ]
     },
     "metadata": {},
     "output_type": "display_data"
    },
    {
     "data": {
      "application/vnd.jupyter.widget-view+json": {
       "model_id": "39c5ce0baedc4edf8f98017a974541ae",
       "version_major": 2,
       "version_minor": 0
      },
      "text/plain": [
       "[cost matrix]:   0%|          | 0/500 [00:00<?, ?it/s]"
      ]
     },
     "metadata": {},
     "output_type": "display_data"
    },
    {
     "name": "stdout",
     "output_type": "stream",
     "text": [
      "29.034956383301612\n"
     ]
    }
   ],
   "source": [
    "# w-pq upos\n",
    "\n",
    "CoNLLU_source_PATH = \"corpora/Korean/Korean-Kaist.conllu\"\n",
    "CoNLLU = pyconll.load_from_file(CoNLLU_source_PATH)\n",
    "source_name = CoNLLU_source_PATH.split(\"/\")[-1].split(\".\")[0]\n",
    "source_tree_count = len(CoNLLU)\n",
    "\n",
    "CoNLLU_target_PATH = \"corpora/Chinese/Chinese-GSD.conllu\"\n",
    "CoNLLU += pyconll.load_from_file(CoNLLU_target_PATH)\n",
    "target_name = CoNLLU_target_PATH.split(\"/\")[-1].split(\".\")[0]\n",
    "target_tree_count = len(CoNLLU) - source_tree_count\n",
    "\n",
    "model_path = f\"models/model_{source_name}_{target_name}_upos_10.pth\"\n",
    "if not path.exists(model_path):\n",
    "    print(\"no file:\", model_path)\n",
    "    sys.exit()\n",
    "\n",
    "print(source_name, target_name)\n",
    "print(source_tree_count, target_tree_count)\n",
    "\n",
    "PQ_Trees = [trees.conllTree_to_pqTree_upos(conll.to_tree()) for conll in CoNLLU]\n",
    "PQ_Index = [Profile(tree, p=2, q=2) for tree in PQ_Trees]\n",
    "\n",
    "J = set(PQ_Index[0])\n",
    "for pq_set  in PQ_Index[1:]:\n",
    "    J = J.union(pq_set)\n",
    "J = list(J)\n",
    "\n",
    "\n",
    "\n",
    "tensors_source = [pq_gram.pqgram_to_tensor(pqgram, J).to(\"cuda:2\") for pqgram in tqdm(PQ_Index[:source_tree_count], desc=\"[convert tensor]\")]\n",
    "tensors_target = [pq_gram.pqgram_to_tensor(pqgram, J).to(\"cuda:2\") for pqgram in tqdm(PQ_Index[source_tree_count:], desc=\"[convert tensor]\")]\n",
    "\n",
    "distance_function = w_pq.WeightedPqgramDistance(tensors_source[0].size(), [], [])\n",
    "distance_function.load_state_dict(torch.load(model_path))\n",
    "distance_function.eval()\n",
    "weights = distance_function.weights.to(\"cuda:2\")\n",
    "\n",
    "k=500\n",
    "\n",
    "a = []\n",
    "for _ in range(k):\n",
    "    a.append(1/k)\n",
    "b = []\n",
    "for _ in range(k):\n",
    "    b.append(1/k)\n",
    "\n",
    "\n",
    "cost_matrix = torch.zeros((k, k), device=\"cpu\")\n",
    "\n",
    "tensors_source = random.sample(tensors_source, k=k)\n",
    "tensors_target = random.sample(tensors_target, k=k)\n",
    "\n",
    "tensors_source = torch.stack([t.to(\"cuda:2\") for t in tensors_source])\n",
    "tensors_target = torch.stack([t.to(\"cuda:2\") for t in tensors_target])\n",
    "\n",
    "\n",
    "for i in tqdm(range(k), desc=\"[cost matrix]\"):\n",
    "    t_source = tensors_source[i].unsqueeze(0)\n",
    "    cost_matrix[i] = w_pq.weighted_pqgram_distance_batch(weights, tensors_target, t_source.repeat(tensors_target.size(0), 1)).to(\"cpu\")\n",
    "\n",
    "\n",
    "print(ot.emd2(a, b, cost_matrix.detach().numpy(), numItermax=1000000))"
   ]
  },
  {
   "cell_type": "code",
   "execution_count": 3,
   "metadata": {},
   "outputs": [
    {
     "name": "stdout",
     "output_type": "stream",
     "text": [
      "Chinese-GSD French-GSD\n",
      "3997 14450\n"
     ]
    },
    {
     "data": {
      "application/vnd.jupyter.widget-view+json": {
       "model_id": "74239b184bbf4b68bf9c7777eda2ee6e",
       "version_major": 2,
       "version_minor": 0
      },
      "text/plain": [
       "[convert tensor]:   0%|          | 0/3997 [00:00<?, ?it/s]"
      ]
     },
     "metadata": {},
     "output_type": "display_data"
    },
    {
     "data": {
      "application/vnd.jupyter.widget-view+json": {
       "model_id": "769d763e4be548539053634d11365193",
       "version_major": 2,
       "version_minor": 0
      },
      "text/plain": [
       "[convert tensor]:   0%|          | 0/14450 [00:00<?, ?it/s]"
      ]
     },
     "metadata": {},
     "output_type": "display_data"
    },
    {
     "data": {
      "application/vnd.jupyter.widget-view+json": {
       "model_id": "225752623ea74982ab59178d1aad8b02",
       "version_major": 2,
       "version_minor": 0
      },
      "text/plain": [
       "[cost matrix]:   0%|          | 0/3997 [00:00<?, ?it/s]"
      ]
     },
     "metadata": {},
     "output_type": "display_data"
    },
    {
     "name": "stdout",
     "output_type": "stream",
     "text": [
      "91.60771144318804\n"
     ]
    }
   ],
   "source": [
    "# pure-pq\n",
    "CoNLLU_source_PATH = \"corpora/Chinese/Chinese-GSD.conllu\"\n",
    "source_name = CoNLLU_source_PATH.split(\"/\")[-1].split(\".\")[0]\n",
    "CoNLLU = pyconll.load_from_file(CoNLLU_source_PATH)\n",
    "source_tree_count = len(CoNLLU)\n",
    "\n",
    "CoNLLU_target_PATH = \"corpora/French/French-GSD.conllu\"\n",
    "target_name = CoNLLU_target_PATH.split(\"/\")[-1].split(\".\")[0]\n",
    "CoNLLU += pyconll.load_from_file(CoNLLU_target_PATH)\n",
    "target_tree_count = len(CoNLLU) - source_tree_count\n",
    "\n",
    "print(source_name, target_name)\n",
    "print(source_tree_count, target_tree_count)\n",
    "\n",
    "PQ_Trees = [trees.conllTree_to_pqTree_upos(conll.to_tree()) for conll in CoNLLU]\n",
    "PQ_Index = [Profile(tree, p=2, q=2) for tree in PQ_Trees]\n",
    "\n",
    "J = set(PQ_Index[0])\n",
    "for pq_set  in PQ_Index[1:]:\n",
    "    J = J.union(pq_set)\n",
    "J = list(J)\n",
    "\n",
    "tensors_source = [pq_gram.pqgram_to_tensor(pqgram, J) for pqgram in tqdm(PQ_Index[:source_tree_count], desc=\"[convert tensor]\")]\n",
    "tensors_target = [pq_gram.pqgram_to_tensor(pqgram, J) for pqgram in tqdm(PQ_Index[source_tree_count:], desc=\"[convert tensor]\")]\n",
    "\n",
    "weights = torch.ones(len(J))\n",
    "\n",
    "a = []\n",
    "for _ in range(source_tree_count):\n",
    "    a.append(1/source_tree_count)\n",
    "b = []\n",
    "for _ in range(target_tree_count):\n",
    "    b.append(1/target_tree_count)\n",
    "\n",
    "cost_matrix = torch.zeros((source_tree_count, target_tree_count))\n",
    "\n",
    "tensors_source = torch.stack([t.to(\"cuda:3\") for t in tensors_source])\n",
    "tensors_target = torch.stack([t.to(\"cuda:3\") for t in tensors_target])\n",
    "\n",
    "\n",
    "for i in tqdm(range(source_tree_count), desc=\"[cost matrix]\"):\n",
    "    t_source = tensors_source[i].unsqueeze(0)\n",
    "    cost_matrix[i] = w_pq.weighted_pqgram_distance_batch(weights, tensors_target, t_source.repeat(tensors_target.size(0), 1)).to(\"cpu\")\n",
    "\n",
    "\n",
    "print(ot.emd2(a, b, cost_matrix.detach().numpy(), numItermax=1000000))"
   ]
  },
  {
   "cell_type": "markdown",
   "metadata": {},
   "source": [
    "## 同一言語 unlabel"
   ]
  },
  {
   "cell_type": "code",
   "execution_count": 16,
   "metadata": {},
   "outputs": [],
   "source": [
    "#unlabel\n",
    "labels = [\"EWT\", \"Atis\", \"ESL\"]\n",
    "\n",
    "\n",
    "mat_ted = np.array([\n",
    "    [0.0,   6.936000329442322, 7.288000346161425],\n",
    "    [6.936000329442322,\t0.0, 8.878000421682373],\n",
    "    [7.288000346161425,\t8.878000421682373,\t0.0]\n",
    "])\n",
    "condensed_distance_ted = distance.squareform(mat_ted)\n",
    "\n",
    "linkage_matrix_ted = linkage(condensed_distance_ted, method=\"ward\")\n",
    "\n",
    "mat_pq = np.array([\n",
    "    [0.0,   17.192041658809213, 11.361408042680942],\n",
    "    [17.192041658809213,\t0.0,\t20.522939105862605],\n",
    "    [11.361408042680942,\t20.522939105862605,\t0.0]\n",
    "])\n",
    "\n",
    "condensed_distance_pq = distance.squareform(mat_pq)\n",
    "\n",
    "linkage_matrix_pq = linkage(condensed_distance_pq, method=\"ward\")\n",
    "\n",
    "mat_w = np.array([\n",
    "    [0.0,   4.7612555376449865, 1.609928982219267],\n",
    "    [4.7612555376449865,\t0.0,\t11.924351579316237],\n",
    "    [1.609928982219267,\t11.924351579316237,\t0.0]\n",
    "])\n",
    "\n",
    "condensed_distance_w = distance.squareform(mat_w)\n",
    "\n",
    "linkage_matrix_w = linkage(condensed_distance_w, method=\"ward\")\n",
    "\n",
    "mat_tk = np.array([\n",
    "    [0.0,   3.163204443946818, 1.6267729176664416],\n",
    "    [3.163204443946818,\t0.0,\t4.01830758586451],\n",
    "    [1.6267729176664416,\t4.01830758586451,\t0.0]\n",
    "])\n",
    "\n",
    "condensed_distance_tk = distance.squareform(mat_tk)\n",
    "\n",
    "linkage_matrix_tk = linkage(condensed_distance_tk, method=\"ward\")\n"
   ]
  },
  {
   "cell_type": "code",
   "execution_count": 20,
   "metadata": {},
   "outputs": [
    {
     "data": {
      "image/png": "[encoded data removed]",
      "text/plain": [
       "<Figure size 640x480 with 4 Axes>"
      ]
     },
     "metadata": {},
     "output_type": "display_data"
    }
   ],
   "source": [
    "# unlabel\n",
    "fig, ax = plt.subplots(2,2, tight_layout=True)\n",
    "\n",
    "dend = dendrogram(linkage_matrix_ted, labels=labels, ax=ax[0][0])\n",
    "ax[0][0].set_xlabel(\"TED\")\n",
    "ax[0][0].set_yticklabels([])\n",
    "ax[0][0].set_yticks([])\n",
    "\n",
    "dend = dendrogram(linkage_matrix_pq, labels=labels, ax=ax[0][1])\n",
    "ax[0][1].set_xlabel(r\"${pq}$-gram距離\")\n",
    "ax[0][1].set_yticklabels([])\n",
    "ax[0][1].set_yticks([])\n",
    "\n",
    "dend = dendrogram(linkage_matrix_w, labels=labels, ax=ax[1][0])\n",
    "ax[1][0].set_xlabel(r\"重み付き${pq}$-gram距離\")\n",
    "ax[1][0].set_yticklabels([])\n",
    "ax[1][0].set_yticks([])\n",
    "\n",
    "dend = dendrogram(linkage_matrix_tk, labels=labels, ax=ax[1][1])\n",
    "ax[1][1].set_xlabel(\"木カーネル\")\n",
    "ax[1][1].set_yticklabels([])\n",
    "ax[1][1].set_yticks([])\n",
    "\n",
    "fig.savefig(\"dendrogram/ENs_unlabel.png\", dpi=300)"
   ]
  },
  {
   "cell_type": "markdown",
   "metadata": {},
   "source": [
    "## 同一言語 pos"
   ]
  },
  {
   "cell_type": "code",
   "execution_count": 28,
   "metadata": {},
   "outputs": [],
   "source": [
    "# upos\n",
    "labels = [\"EWT\", \"Atis\", \"ESL\"]\n",
    "\n",
    "\n",
    "mat_ted = np.array([ \n",
    "    [0.0,   12.85000061034225, 13.192000626586378],\n",
    "    [12.85000061034225,\t0.0,\t14.57600069232285],\n",
    "    [13.192000626586378,\t14.57600069232285,\t0.0]\n",
    "])\n",
    "condensed_distance_ted = distance.squareform(mat_ted)\n",
    "\n",
    "linkage_matrix_ted = linkage(condensed_distance_ted, method=\"ward\")\n",
    "\n",
    "mat_pq = np.array([\n",
    "    [0.0,   48.52271805775432, 47.651640532104274],\n",
    "    [48.52271805775432,\t0.0,\t58.68858117668224],\n",
    "    [47.651640532104274,\t58.68858117668224,\t0.0]\n",
    "])\n",
    "\n",
    "condensed_distance_pq = distance.squareform(mat_pq)\n",
    "\n",
    "linkage_matrix_pq = linkage(condensed_distance_pq, method=\"ward\")\n",
    "\n",
    "mat_w = np.array([ \n",
    "    [0.0,   18.877265944410606, 22.008843849855467],\n",
    "    [18.877265944410606,\t0.0,\t20.97149509880895],\n",
    "    [22.008843849855467,\t20.97149509880895,\t0.0]\n",
    "])\n",
    "\n",
    "condensed_distance_w = distance.squareform(mat_w)\n",
    "\n",
    "linkage_matrix_w = linkage(condensed_distance_w, method=\"ward\")\n",
    "\n",
    "mat_tk = np.array([ # \n",
    "    [0.0,   2.6243887854037045, 2.089494286945049],\n",
    "    [2.6243887854037045,\t0.0,\t2.9399664574243625],\n",
    "    [2.089494286945049,\t2.9399664574243625,\t0.0]\n",
    "])\n",
    "\n",
    "condensed_distance_tk = distance.squareform(mat_tk)\n",
    "\n",
    "linkage_matrix_tk = linkage(condensed_distance_tk, method=\"ward\")\n"
   ]
  },
  {
   "cell_type": "code",
   "execution_count": 29,
   "metadata": {},
   "outputs": [
    {
     "data": {
      "image/png": "[encoded data removed]",
      "text/plain": [
       "<Figure size 640x480 with 4 Axes>"
      ]
     },
     "metadata": {},
     "output_type": "display_data"
    }
   ],
   "source": [
    "# unlabel\n",
    "fig, ax = plt.subplots(2,2, tight_layout=True)\n",
    "\n",
    "dend = dendrogram(linkage_matrix_ted, labels=labels, ax=ax[0][0])\n",
    "ax[0][0].set_xlabel(\"TED\")\n",
    "ax[0][0].set_yticklabels([])\n",
    "ax[0][0].set_yticks([])\n",
    "\n",
    "dend = dendrogram(linkage_matrix_pq, labels=labels, ax=ax[0][1])\n",
    "ax[0][1].set_xlabel(r\"${pq}$-gram距離\")\n",
    "ax[0][1].set_yticklabels([])\n",
    "ax[0][1].set_yticks([])\n",
    "\n",
    "dend = dendrogram(linkage_matrix_w, labels=labels, ax=ax[1][0])\n",
    "ax[1][0].set_xlabel(r\"重み付き${pq}$-gram距離\")\n",
    "ax[1][0].set_yticklabels([])\n",
    "ax[1][0].set_yticks([])\n",
    "\n",
    "dend = dendrogram(linkage_matrix_tk, labels=labels, ax=ax[1][1])\n",
    "ax[1][1].set_xlabel(\"木カーネル\")\n",
    "ax[1][1].set_yticklabels([])\n",
    "ax[1][1].set_yticks([])\n",
    "\n",
    "fig.savefig(\"dendrogram/ENs_upos.png\", dpi=300)"
   ]
  },
  {
   "cell_type": "markdown",
   "metadata": {},
   "source": [
    "## 多言語 unlabel"
   ]
  },
  {
   "cell_type": "code",
   "execution_count": 34,
   "metadata": {},
   "outputs": [],
   "source": [
    "#unlabel\n",
    "labels = [\"English\", \"Japanese\", \"Korean\", \"Chinese\", \"French\"]\n",
    "\n",
    "\n",
    "mat_ted = np.array([ #\n",
    "    [0.0, 8.248000391758978, 8.12600038596429, 11.39800054137595, 10.728000509552658],\n",
    "    [8.248000391758978, 0.0, 7.944000377319753, 9.812000466044992, 11.306000537006184],\n",
    "    [8.12600038596429, 7.944000377319753, 0.0, 13.016000618226826, 13.522000642260537],\n",
    "    [11.39800054137595, 9.812000466044992, 13.016000618226826, 0.0, 9.926000471459702],\n",
    "    [10.728000509552658, 11.306000537006184, 13.522000642260537, 9.926000471459702, 0.0]\n",
    "])\n",
    "\n",
    "if not np.array_equal(mat_ted, mat_ted.T):\n",
    "    print(\"mat_ted: 対称行列ではありません\")\n",
    "    sys.exit()\n",
    "\n",
    "condensed_distance_ted = distance.squareform(mat_ted)\n",
    "\n",
    "linkage_matrix_ted = linkage(condensed_distance_ted, method=\"ward\")\n",
    "\n",
    "mat_pq = np.array([ #\n",
    "    [0.0, 13.921808713761822, 16.37367393637651, 24.727866582687017, 24.462756607012043],\n",
    "    [13.921808713761822, 0.0, 20.98275578765745, 15.733250120095386, 13.283233099995035],\n",
    "    [16.37367393637651, 20.98275578765745, 0.0, 30.96447059833724, 27.790417556951798],\n",
    "    [24.727866582687017, 15.733250120095386, 30.96447059833724, 0.0, 6.305707212931308],\n",
    "    [24.462756607012043, 13.283233099995035, 27.790417556951798, 6.305707212931308, 0.0]\n",
    "])\n",
    "\n",
    "if not np.array_equal(mat_pq, mat_pq.T):\n",
    "    print(\"mat_pq: 対称行列ではありません\")\n",
    "    sys.exit()\n",
    "\n",
    "condensed_distance_pq = distance.squareform(mat_pq)\n",
    "\n",
    "linkage_matrix_pq = linkage(condensed_distance_pq, method=\"ward\")\n",
    "\n",
    "mat_w = np.array([ #\n",
    "    [0.0, 2.9210620399488905, 2.889577513517188, 4.022910527215509, 3.909186519127199],\n",
    "    [2.9210620399488905, 0.0, 0.6388610794329189, 1.9918164736164332, 1.6574226261167868],\n",
    "    [2.889577513517188, 0.6388610794329189, 0.0, 10.241156247193615, 6.481494471447322],\n",
    "    [4.022910527215509, 1.9918164736164332, 10.241156247193615, 0.0, 1.5812372912845252],\n",
    "    [3.909186519127199, 1.6574226261167868, 6.481494471447322, 1.5812372912845252, 0.0]\n",
    "])\n",
    "\n",
    "if not np.array_equal(mat_w, mat_w.T):\n",
    "    print(\"mat_w: 対称行列ではありません\")\n",
    "    sys.exit()\n",
    "\n",
    "\n",
    "condensed_distance_w = distance.squareform(mat_w)\n",
    "\n",
    "linkage_matrix_w = linkage(condensed_distance_w, method=\"ward\")\n",
    "\n",
    "mat_tk = np.array([ #\n",
    "    [0.0, 1.946071234282316, 2.393762294850131, 2.6977858722834562, 2.9640205193235203],\n",
    "    [1.946071234282316, 0.0, 3.4016729725208505, 2.41043857563696, 3.0987292406555706],\n",
    "    [2.393762294850131, 3.4016729725208505, 0.0, 4.593427266897028, 2.755254020255854],\n",
    "    [2.6977858722834562, 2.41043857563696, 4.593427266897028, 0.0, 1.2110784481698305],\n",
    "    [2.9640205193235203, 3.0987292406555706, 2.755254020255854, 1.2110784481698305, 0.0]\n",
    "])\n",
    "\n",
    "if not np.array_equal(mat_tk, mat_tk.T):\n",
    "    print(\"mat_tk: 対称行列ではありません\")\n",
    "    sys.exit()\n",
    "\n",
    "condensed_distance_tk = distance.squareform(mat_tk)\n",
    "\n",
    "linkage_matrix_tk = linkage(condensed_distance_tk, method=\"ward\")\n"
   ]
  },
  {
   "cell_type": "code",
   "execution_count": 35,
   "metadata": {},
   "outputs": [
    {
     "data": {
      "image/png": "[encoded data removed]",
      "text/plain": [
       "<Figure size 640x480 with 4 Axes>"
      ]
     },
     "metadata": {},
     "output_type": "display_data"
    }
   ],
   "source": [
    "fig, ax = plt.subplots(2,2, tight_layout=True)\n",
    "\n",
    "dend = dendrogram(linkage_matrix_ted, labels=labels, ax=ax[0][0], leaf_font_size=10)\n",
    "ax[0][0].set_xlabel(\"TED\")\n",
    "ax[0][0].set_yticklabels([])\n",
    "ax[0][0].set_yticks([])\n",
    "\n",
    "dend = dendrogram(linkage_matrix_pq, labels=labels, ax=ax[0][1], leaf_font_size=10)\n",
    "ax[0][1].set_xlabel(r\"${pq}$-gram距離\")\n",
    "ax[0][1].set_yticklabels([])\n",
    "ax[0][1].set_yticks([])\n",
    "\n",
    "dend = dendrogram(linkage_matrix_w, labels=labels, ax=ax[1][0], leaf_font_size=10)\n",
    "ax[1][0].set_xlabel(r\"重み付き${pq}$-gram距離\")\n",
    "ax[1][0].set_yticklabels([])\n",
    "ax[1][0].set_yticks([])\n",
    "\n",
    "dend = dendrogram(linkage_matrix_tk, labels=labels, ax=ax[1][1], leaf_font_size=10)\n",
    "ax[1][1].set_xlabel(\"木カーネル\")\n",
    "ax[1][1].set_yticklabels([])\n",
    "ax[1][1].set_yticks([])\n",
    "\n",
    "fig.savefig(\"dendrogram/multi_unlabel.png\", dpi=300)"
   ]
  },
  {
   "cell_type": "markdown",
   "metadata": {},
   "source": [
    "## 多言語 pos"
   ]
  },
  {
   "cell_type": "code",
   "execution_count": 4,
   "metadata": {},
   "outputs": [],
   "source": [
    "#unlabel\n",
    "labels = [\"English\", \"Japanese\", \"Korean\", \"Chinese\", \"French\"]\n",
    "\n",
    "\n",
    "mat_ted = np.array([ #\n",
    "    [0.0, 15.570000739535317, 13.896000660024583, 19.396000921260566, 18.640000885352492],\n",
    "    [15.570000739535317, 0.0, 15.156000719871372, 19.5000009262003, 20.36000096704811],\n",
    "    [13.896000660024583, 15.156000719871372, 0.0, 19.1740009107613, 20.084000953938812],\n",
    "    [19.396000921260566, 19.5000009262003, 19.1740009107613, 0.0, 22.038001046748832],\n",
    "    [18.640000885352492, 20.36000096704811, 20.084000953938812, 22.038001046748832, 0.0]\n",
    "])\n",
    "\n",
    "if not np.array_equal(mat_ted, mat_ted.T):\n",
    "    print(\"mat_ted: 対称行列ではありません\")\n",
    "    sys.exit()\n",
    "\n",
    "condensed_distance_ted = distance.squareform(mat_ted)\n",
    "\n",
    "linkage_matrix_ted = linkage(condensed_distance_ted, method=\"average\")\n",
    "\n",
    "mat_pq = np.array([ #\n",
    "    [0.0, 64.12907238615725, 38.02076954970009, 74.82593092529805, 61.76612773085129],\n",
    "   [64.12907238615725, 0.0, 63.45651842832739, 81.2033798361233, 76.37542568772226],\n",
    "    [38.02076954970009, 63.45651842832739, 0.0, 91.60771144318804, 70.62698641668473],\n",
    "    [74.82593092529805, 81.2033798361233, 91.60771144318804, 0.0, 72.71041269061594],\n",
    "    [61.76612773085129, 76.37542568772226, 70.62698641668473, 72.71041269061594, 0.0]\n",
    "\n",
    "])\n",
    "\n",
    "if not np.array_equal(mat_pq, mat_pq.T):\n",
    "    print(\"mat_pq: 対称行列ではありません\")\n",
    "    sys.exit()\n",
    "\n",
    "condensed_distance_pq = distance.squareform(mat_pq)\n",
    "\n",
    "linkage_matrix_pq = linkage(condensed_distance_pq, method=\"average\")\n",
    "\n",
    "mat_w = np.array([ #\n",
    "    [0.0, 25.624873607863183, 22.71678013707682, 29.456847012980745, 27.222222133154638],\n",
    "    [25.624873607863183, 0.0, 26.708610336604057, 29.37898371946083, 33.198058937260846],\n",
    "    [22.71678013707682, 26.708610336604057, 0.0, 29.3789483855617, 29.41254523123031],\n",
    "    [29.456847012980745, 29.37898371946083, 29.3789483855617, 0.0, 34.58202461534421],\n",
    "    [27.222222133154638, 33.198058937260846, 29.41254523123031, 34.58202461534421, 0.0]\n",
    "])\n",
    "\n",
    "if not np.array_equal(mat_w, mat_w.T):\n",
    "    print(\"mat_w: 対称行列ではありません\")\n",
    "    sys.exit()\n",
    "\n",
    "\n",
    "condensed_distance_w = distance.squareform(mat_w)\n",
    "\n",
    "linkage_matrix_w = linkage(condensed_distance_w, method=\"average\")\n",
    "\n",
    "mat_tk = np.array([ #\n",
    "    [0.0, 3.300472307636681, 2.618984488362486, 3.2914996307842, 3.1152178921366227],\n",
    "    [3.300472307636681, 0.0, 3.855815176895514, 3.9470595457265083, 3.903443210303773],\n",
    "    [2.618984488362486, 3.855815176895514, 0.0, 3.0176676174161687, 4.235532961352487],\n",
    "    [3.2914996307842, 3.9470595457265083, 3.0176676174161687, 0.0, 4.34727110643389],\n",
    "    [3.1152178921366227, 3.903443210303773, 4.235532961352487, 4.34727110643389, 0.0]\n",
    "])\n",
    "\n",
    "if not np.array_equal(mat_tk, mat_tk.T):\n",
    "    print(\"mat_tk: 対称行列ではありません\")\n",
    "    sys.exit()\n",
    "\n",
    "condensed_distance_tk = distance.squareform(mat_tk)\n",
    "\n",
    "linkage_matrix_tk = linkage(condensed_distance_tk, method=\"average\")\n"
   ]
  },
  {
   "cell_type": "code",
   "execution_count": 5,
   "metadata": {},
   "outputs": [
    {
     "data": {
      "image/png": "[encoded data removed]",
      "text/plain": [
       "<Figure size 640x480 with 4 Axes>"
      ]
     },
     "metadata": {},
     "output_type": "display_data"
    }
   ],
   "source": [
    "fig, ax = plt.subplots(2,2, tight_layout=True)\n",
    "\n",
    "dend = dendrogram(linkage_matrix_ted, labels=labels, ax=ax[0][0], leaf_font_size=10)\n",
    "ax[0][0].set_xlabel(\"TED\")\n",
    "ax[0][0].set_yticklabels([])\n",
    "ax[0][0].set_yticks([])\n",
    "\n",
    "dend = dendrogram(linkage_matrix_pq, labels=labels, ax=ax[0][1], leaf_font_size=10)\n",
    "ax[0][1].set_xlabel(r\"${pq}$-gram距離\")\n",
    "ax[0][1].set_yticklabels([])\n",
    "ax[0][1].set_yticks([])\n",
    "\n",
    "dend = dendrogram(linkage_matrix_w, labels=labels, ax=ax[1][0], leaf_font_size=10)\n",
    "ax[1][0].set_xlabel(r\"重み付き${pq}$-gram距離\")\n",
    "ax[1][0].set_yticklabels([])\n",
    "ax[1][0].set_yticks([])\n",
    "\n",
    "dend = dendrogram(linkage_matrix_tk, labels=labels, ax=ax[1][1], leaf_font_size=10)\n",
    "ax[1][1].set_xlabel(\"木カーネル\")\n",
    "ax[1][1].set_yticklabels([])\n",
    "ax[1][1].set_yticks([])\n",
    "\n",
    "fig.savefig(\"dendrogram/multi_upos.png\", dpi=300)"
   ]
  },
  {
   "cell_type": "markdown",
   "metadata": {},
   "source": [
    "## 構文解析"
   ]
  },
  {
   "cell_type": "code",
   "execution_count": 12,
   "metadata": {},
   "outputs": [
    {
     "name": "stdout",
     "output_type": "stream",
     "text": [
      "English-EWT udpipe\n",
      "16621 16621\n"
     ]
    },
    {
     "data": {
      "application/vnd.jupyter.widget-view+json": {
       "model_id": "c14a74e68a7f4e6da1b71f283477eb42",
       "version_major": 2,
       "version_minor": 0
      },
      "text/plain": [
       "[convert tensor]:   0%|          | 0/16621 [00:00<?, ?it/s]"
      ]
     },
     "metadata": {},
     "output_type": "display_data"
    },
    {
     "data": {
      "application/vnd.jupyter.widget-view+json": {
       "model_id": "89e4ca1c00824cc68d9eb50018920a07",
       "version_major": 2,
       "version_minor": 0
      },
      "text/plain": [
       "[convert tensor]:   0%|          | 0/16621 [00:00<?, ?it/s]"
      ]
     },
     "metadata": {},
     "output_type": "display_data"
    },
    {
     "data": {
      "application/vnd.jupyter.widget-view+json": {
       "model_id": "b5e1664f8bc04c7a91a86ca649489e88",
       "version_major": 2,
       "version_minor": 0
      },
      "text/plain": [
       "[cost matrix]:   0%|          | 0/500 [00:00<?, ?it/s]"
      ]
     },
     "metadata": {},
     "output_type": "display_data"
    },
    {
     "name": "stdout",
     "output_type": "stream",
     "text": [
      "21.2068893229508\n"
     ]
    }
   ],
   "source": [
    "# w-pq unlabel\n",
    "\n",
    "source_name = \"English-EWT\"\n",
    "CoNLLU_source_PATH = f\"corpora/English/{source_name}.conllu\"\n",
    "CoNLLU = pyconll.load_from_file(CoNLLU_source_PATH)\n",
    "source_tree_count = len(CoNLLU)\n",
    "\n",
    "target_name = \"udpipe\"\n",
    "CoNLLU_target_PATH = f\"parsed/En-EWT-{target_name}.conllu\"\n",
    "CoNLLU += pyconll.load_from_file(CoNLLU_target_PATH)\n",
    "target_tree_count = len(CoNLLU) - source_tree_count\n",
    "\n",
    "model_path = f\"models/model_en_corpora_EWT_{target_name}_upos_10.pth\"\n",
    "if not path.exists(model_path):\n",
    "    print(\"no model...\")\n",
    "    sys.exit()\n",
    "\n",
    "print(source_name, target_name)\n",
    "print(source_tree_count, target_tree_count)\n",
    "\n",
    "PQ_Trees = [trees.conllTree_to_pqTree_upos(conll.to_tree()) for conll in CoNLLU]\n",
    "PQ_Index = [Profile(tree, p=2, q=2) for tree in PQ_Trees]\n",
    "\n",
    "J = set(PQ_Index[0])\n",
    "for pq_set  in PQ_Index[1:]:\n",
    "    J = J.union(pq_set)\n",
    "J = list(J)\n",
    "\n",
    "tensors_source = [pq_gram.pqgram_to_tensor(pqgram, J) for pqgram in tqdm(PQ_Index[:source_tree_count], desc=\"[convert tensor]\")]\n",
    "tensors_target = [pq_gram.pqgram_to_tensor(pqgram, J) for pqgram in tqdm(PQ_Index[source_tree_count:], desc=\"[convert tensor]\")]\n",
    "\n",
    "\n",
    "distance_function = w_pq.WeightedPqgramDistance(tensors_source[0].size(), [], [])\n",
    "distance_function.load_state_dict(torch.load(model_path))\n",
    "distance_function.eval()\n",
    "weights = distance_function.weights\n",
    "\n",
    "\n",
    "k = 500\n",
    "tensors_source = random.sample(tensors_source, k=k)\n",
    "tensors_target = random.sample(tensors_target, k=k)\n",
    "\n",
    "\n",
    "a = []\n",
    "b = []\n",
    "for _ in range(k):\n",
    "    a.append(1/k)\n",
    "    b.append(1/k)\n",
    "\n",
    "cost_matrix = torch.zeros((k, k))\n",
    "\n",
    "tensors_source = torch.stack([t.to(\"cuda:3\") for t in tensors_source])\n",
    "tensors_target = torch.stack([t.to(\"cuda:3\") for t in tensors_target])\n",
    "\n",
    "\n",
    "for i in tqdm(range(k), desc=\"[cost matrix]\"):\n",
    "    t_source = tensors_source[i].unsqueeze(0)\n",
    "    cost_matrix[i] = w_pq.weighted_pqgram_distance_batch(weights, tensors_target, t_source.repeat(tensors_target.size(0), 1)).to(\"cpu\")\n",
    "\n",
    "\n",
    "print(ot.emd2(a, b, cost_matrix.detach().numpy(), numItermax=1000000))"
   ]
  },
  {
   "cell_type": "code",
   "execution_count": 13,
   "metadata": {},
   "outputs": [
    {
     "name": "stdout",
     "output_type": "stream",
     "text": [
      "English-EWT udpipe\n",
      "16621 16621\n"
     ]
    },
    {
     "data": {
      "application/vnd.jupyter.widget-view+json": {
       "model_id": "0e350aa71baa487bb1ef09014e4ae635",
       "version_major": 2,
       "version_minor": 0
      },
      "text/plain": [
       "[convert tensor]:   0%|          | 0/16621 [00:00<?, ?it/s]"
      ]
     },
     "metadata": {},
     "output_type": "display_data"
    },
    {
     "data": {
      "application/vnd.jupyter.widget-view+json": {
       "model_id": "f8ee96446d3d4751944788c3d1a972cd",
       "version_major": 2,
       "version_minor": 0
      },
      "text/plain": [
       "[convert tensor]:   0%|          | 0/16621 [00:00<?, ?it/s]"
      ]
     },
     "metadata": {},
     "output_type": "display_data"
    },
    {
     "data": {
      "application/vnd.jupyter.widget-view+json": {
       "model_id": "1be2affd8461480da34b8acca743cccc",
       "version_major": 2,
       "version_minor": 0
      },
      "text/plain": [
       "[cost matrix]:   0%|          | 0/500 [00:00<?, ?it/s]"
      ]
     },
     "metadata": {},
     "output_type": "display_data"
    },
    {
     "name": "stdout",
     "output_type": "stream",
     "text": [
      "43.29035803753152\n"
     ]
    }
   ],
   "source": [
    "# pure-pq unlabel\n",
    "\n",
    "source_name = \"English-EWT\"\n",
    "CoNLLU_source_PATH = f\"corpora/English/{source_name}.conllu\"\n",
    "CoNLLU = pyconll.load_from_file(CoNLLU_source_PATH)\n",
    "source_tree_count = len(CoNLLU)\n",
    "\n",
    "target_name = \"udpipe\"\n",
    "CoNLLU_target_PATH = f\"parsed/En-EWT-{target_name}.conllu\"\n",
    "CoNLLU += pyconll.load_from_file(CoNLLU_target_PATH)\n",
    "target_tree_count = len(CoNLLU) - source_tree_count\n",
    "\n",
    "\n",
    "print(source_name, target_name)\n",
    "print(source_tree_count, target_tree_count)\n",
    "\n",
    "PQ_Trees = [trees.conllTree_to_pqTree_upos(conll.to_tree()) for conll in CoNLLU]\n",
    "PQ_Index = [Profile(tree, p=2, q=2) for tree in PQ_Trees]\n",
    "\n",
    "J = set(PQ_Index[0])\n",
    "for pq_set  in PQ_Index[1:]:\n",
    "    J = J.union(pq_set)\n",
    "J = list(J)\n",
    "\n",
    "tensors_source = [pq_gram.pqgram_to_tensor(pqgram, J) for pqgram in tqdm(PQ_Index[:source_tree_count], desc=\"[convert tensor]\")]\n",
    "tensors_target = [pq_gram.pqgram_to_tensor(pqgram, J) for pqgram in tqdm(PQ_Index[source_tree_count:], desc=\"[convert tensor]\")]\n",
    "\n",
    "weights = torch.ones(tensors_source[0].size())\n",
    "\n",
    "\n",
    "k = 500\n",
    "tensors_source = random.sample(tensors_source, k=k)\n",
    "tensors_target = random.sample(tensors_target, k=k)\n",
    "\n",
    "a = []\n",
    "b = []\n",
    "for _ in range(k):\n",
    "    a.append(1/k)\n",
    "    b.append(1/k)\n",
    "\n",
    "cost_matrix = torch.zeros((k, k))\n",
    "\n",
    "tensors_source = torch.stack([t.to(\"cuda:3\") for t in tensors_source])\n",
    "tensors_target = torch.stack([t.to(\"cuda:3\") for t in tensors_target])\n",
    "\n",
    "\n",
    "for i in tqdm(range(k), desc=\"[cost matrix]\"):\n",
    "    t_source = tensors_source[i].unsqueeze(0)\n",
    "    cost_matrix[i] = w_pq.weighted_pqgram_distance_batch(weights, tensors_target, t_source.repeat(tensors_target.size(0), 1)).to(\"cpu\")\n",
    "\n",
    "\n",
    "print(ot.emd2(a, b, cost_matrix.detach().numpy(), numItermax=1000000))"
   ]
  },
  {
   "cell_type": "code",
   "execution_count": null,
   "metadata": {},
   "outputs": [],
   "source": []
  }
 ],
 "metadata": {
  "kernelspec": {
   "display_name": "env_pq",
   "language": "python",
   "name": "python3"
  },
  "language_info": {
   "codemirror_mode": {
    "name": "ipython",
    "version": 3
   },
   "file_extension": ".py",
   "mimetype": "text/x-python",
   "name": "python",
   "nbconvert_exporter": "python",
   "pygments_lexer": "ipython3",
   "version": "3.11.7"
  }
 },
 "nbformat": 4,
 "nbformat_minor": 2
}

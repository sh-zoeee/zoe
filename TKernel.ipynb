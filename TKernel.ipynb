{
 "cells": [
  {
   "cell_type": "code",
   "execution_count": 1,
   "metadata": {},
   "outputs": [],
   "source": [
    "import numpy as np\n",
    "from tqdm.notebook import tqdm_notebook as tqdm\n",
    "from time import time\n",
    "\n",
    "import pyconll\n",
    "from scripts.TreeKernel import tree, tree_kernels\n",
    "\n",
    "from sklearn.svm import SVC\n",
    "from sklearn.model_selection import train_test_split\n",
    "from sklearn.metrics import classification_report, accuracy_score"
   ]
  },
  {
   "cell_type": "code",
   "execution_count": 8,
   "metadata": {},
   "outputs": [],
   "source": [
    "\n",
    "def to_prolog(tree: pyconll.tree.tree.Tree) -> str:\n",
    "    if tree._children:\n",
    "        children_repr = ', '.join(to_prolog(child) for child in tree._children)\n",
    "        return f'_({children_repr})'\n",
    "    else:\n",
    "        return f'_'\n",
    "\n",
    "\n",
    "def calc_kernel_matrix(data1, data2, kernel: tree_kernels.KernelST):\n",
    "    n1, n2 = len(data1), len(data2)\n",
    "    matrix = np.zeros((n1, n2))\n",
    "    for i in range(n1):\n",
    "        for j in range(n2):\n",
    "            matrix[i][j] = kernel.kernel(data1[i], data2[j])\n",
    "    return matrix\n"
   ]
  },
  {
   "cell_type": "code",
   "execution_count": 3,
   "metadata": {},
   "outputs": [],
   "source": [
    "random_state = 50"
   ]
  },
  {
   "cell_type": "code",
   "execution_count": 4,
   "metadata": {},
   "outputs": [],
   "source": [
    "CoNLL = pyconll.load_from_file(\"corpora/English/English-EWT.conllu\")\n",
    "count_en = len(CoNLL)\n",
    "CoNLL += pyconll.load_from_file(\"corpora/English/English-Atis.conllu\")\n",
    "count_ja = len(CoNLL) - count_en\n",
    "\n",
    "labels = [0]*count_en + [1]*count_ja\n",
    "\n",
    "trees = [conll.to_tree() for conll in CoNLL]\n",
    "\n",
    "data = []\n",
    "\n",
    "for t in trees:\n",
    "    root = tree.TreeNode.fromPrologString(to_prolog(t))\n",
    "    tree_ = tree.Tree(root)\n",
    "    data.append(tree_)\n"
   ]
  },
  {
   "cell_type": "code",
   "execution_count": 6,
   "metadata": {},
   "outputs": [],
   "source": [
    "train_data, test_data, train_labels, test_labels = train_test_split(\n",
    "    data, labels, test_size=0.20, random_state=random_state\n",
    ")\n",
    "\n",
    "    # 部分木の比較用カーネルを作成\n",
    "lambda_value = 0.5\n",
    "kernel = tree_kernels.KernelST(lambda_value)\n"
   ]
  },
  {
   "cell_type": "code",
   "execution_count": 9,
   "metadata": {},
   "outputs": [],
   "source": [
    "train_kernel_matrix = calc_kernel_matrix(train_data[:100], train_data[:100], kernel)"
   ]
  },
  {
   "cell_type": "code",
   "execution_count": 10,
   "metadata": {},
   "outputs": [
    {
     "data": {
      "text/plain": [
       "array([[ 84.91412359, 100.8125    ,  97.25      , ...,  22.25      ,\n",
       "         16.25      ,  27.75      ],\n",
       "       [100.8125    , 125.46319962, 123.375     , ...,  31.375     ,\n",
       "         24.875     ,  40.875     ],\n",
       "       [ 97.25      , 123.375     , 122.67604268, ...,  32.625     ,\n",
       "         26.375     ,  42.875     ],\n",
       "       ...,\n",
       "       [ 22.25      ,  31.375     ,  32.625     , ...,  10.63330078,\n",
       "          9.375     ,  14.875     ],\n",
       "       [ 16.25      ,  24.875     ,  26.375     , ...,   9.375     ,\n",
       "          8.88476562,  13.875     ],\n",
       "       [ 27.75      ,  40.875     ,  42.875     , ...,  14.875     ,\n",
       "         13.875     ,  22.37530518]])"
      ]
     },
     "execution_count": 10,
     "metadata": {},
     "output_type": "execute_result"
    }
   ],
   "source": [
    "train_kernel_matrix"
   ]
  },
  {
   "cell_type": "code",
   "execution_count": 11,
   "metadata": {},
   "outputs": [],
   "source": [
    "matrix_T = train_kernel_matrix.copy().transpose()"
   ]
  },
  {
   "cell_type": "code",
   "execution_count": 12,
   "metadata": {},
   "outputs": [
    {
     "data": {
      "text/plain": [
       "array([[ 84.91412359, 100.8125    ,  97.25      , ...,  22.25      ,\n",
       "         16.25      ,  27.75      ],\n",
       "       [100.8125    , 125.46319962, 123.375     , ...,  31.375     ,\n",
       "         24.875     ,  40.875     ],\n",
       "       [ 97.25      , 123.375     , 122.67604268, ...,  32.625     ,\n",
       "         26.375     ,  42.875     ],\n",
       "       ...,\n",
       "       [ 22.25      ,  31.375     ,  32.625     , ...,  10.63330078,\n",
       "          9.375     ,  14.875     ],\n",
       "       [ 16.25      ,  24.875     ,  26.375     , ...,   9.375     ,\n",
       "          8.88476562,  13.875     ],\n",
       "       [ 27.75      ,  40.875     ,  42.875     , ...,  14.875     ,\n",
       "         13.875     ,  22.37530518]])"
      ]
     },
     "execution_count": 12,
     "metadata": {},
     "output_type": "execute_result"
    }
   ],
   "source": [
    "matrix_T"
   ]
  },
  {
   "cell_type": "code",
   "execution_count": 13,
   "metadata": {},
   "outputs": [
    {
     "data": {
      "text/plain": [
       "array([[ True,  True,  True, ...,  True,  True,  True],\n",
       "       [ True,  True,  True, ...,  True,  True,  True],\n",
       "       [ True,  True,  True, ...,  True,  True,  True],\n",
       "       ...,\n",
       "       [ True,  True,  True, ...,  True,  True,  True],\n",
       "       [ True,  True,  True, ...,  True,  True,  True],\n",
       "       [ True,  True,  True, ...,  True,  True,  True]])"
      ]
     },
     "execution_count": 13,
     "metadata": {},
     "output_type": "execute_result"
    }
   ],
   "source": [
    "np.equal(train_kernel_matrix, matrix_T)"
   ]
  },
  {
   "cell_type": "code",
   "execution_count": 14,
   "metadata": {},
   "outputs": [
    {
     "data": {
      "text/plain": [
       "True"
      ]
     },
     "execution_count": 14,
     "metadata": {},
     "output_type": "execute_result"
    }
   ],
   "source": [
    "np.array_equal(train_kernel_matrix, matrix_T)"
   ]
  },
  {
   "cell_type": "code",
   "execution_count": 20,
   "metadata": {},
   "outputs": [],
   "source": [
    "n = 5\n",
    "matrix = np.zeros((n,n))\n",
    "for i in range(n):\n",
    "    for j in range(i,n):\n",
    "        matrix[i,j] = kernel.kernel(train_data[i], train_data[j])"
   ]
  },
  {
   "cell_type": "code",
   "execution_count": 21,
   "metadata": {},
   "outputs": [
    {
     "data": {
      "text/plain": [
       "array([[ 84.91412359, 100.8125    ,  97.25      ,  44.        ,\n",
       "         26.5       ],\n",
       "       [  0.        , 125.46319962, 123.375     ,  53.        ,\n",
       "         30.5       ],\n",
       "       [  0.        ,   0.        , 122.67604268,  51.5       ,\n",
       "         29.        ],\n",
       "       [  0.        ,   0.        ,   0.        ,  23.50793457,\n",
       "         13.5       ],\n",
       "       [  0.        ,   0.        ,   0.        ,   0.        ,\n",
       "          8.515625  ]])"
      ]
     },
     "execution_count": 21,
     "metadata": {},
     "output_type": "execute_result"
    }
   ],
   "source": [
    "matrix"
   ]
  },
  {
   "cell_type": "code",
   "execution_count": 22,
   "metadata": {},
   "outputs": [
    {
     "data": {
      "text/plain": [
       "array([[ 84.91412359, 100.8125    ,  97.25      ,  44.        ,\n",
       "         26.5       ],\n",
       "       [100.8125    , 125.46319962, 123.375     ,  53.        ,\n",
       "         30.5       ],\n",
       "       [ 97.25      , 123.375     , 122.67604268,  51.5       ,\n",
       "         29.        ],\n",
       "       [ 44.        ,  53.        ,  51.5       ,  23.50793457,\n",
       "         13.5       ],\n",
       "       [ 26.5       ,  30.5       ,  29.        ,  13.5       ,\n",
       "          8.515625  ]])"
      ]
     },
     "execution_count": 22,
     "metadata": {},
     "output_type": "execute_result"
    }
   ],
   "source": [
    "matrix + matrix.T - np.diag(matrix.diagonal())"
   ]
  },
  {
   "cell_type": "code",
   "execution_count": null,
   "metadata": {},
   "outputs": [],
   "source": []
  }
 ],
 "metadata": {
  "kernelspec": {
   "display_name": "env_pq",
   "language": "python",
   "name": "python3"
  },
  "language_info": {
   "codemirror_mode": {
    "name": "ipython",
    "version": 3
   },
   "file_extension": ".py",
   "mimetype": "text/x-python",
   "name": "python",
   "nbconvert_exporter": "python",
   "pygments_lexer": "ipython3",
   "version": "3.11.7"
  }
 },
 "nbformat": 4,
 "nbformat_minor": 2
}

{
 "cells": [
  {
   "cell_type": "code",
   "execution_count": 1,
   "metadata": {},
   "outputs": [],
   "source": [
    "from scripts import trees, pq_gram\n",
    "import scripts.w_pq_batch as w_pq\n",
    "import torch, pyconll\n",
    "from sklearn.model_selection import train_test_split\n",
    "\n",
    "from pqgrams.PQGram import Profile\n",
    "import random\n",
    "from tqdm import tqdm\n",
    "\n",
    "CORPORA =   [\"corpora/English-EWT.conllu\"]\n",
    "LABELS = [\"EWT\"]"
   ]
  },
  {
   "cell_type": "code",
   "execution_count": null,
   "metadata": {},
   "outputs": [],
   "source": []
  },
  {
   "cell_type": "markdown",
   "metadata": {},
   "source": [
    "### ランダムな完全平衡二分木との比較"
   ]
  },
  {
   "cell_type": "code",
   "execution_count": 2,
   "metadata": {},
   "outputs": [],
   "source": [
    "train_tensors_path = \"data/train_tensors_en_corpora_En_EWT_binary_unlabel_50.pt\"\n",
    "train_labels_path = \"data/train_labels_en_corpora_En_EWT_binary_unlabel_50.pt\"\n",
    "train_indexes_path = \"data/train_indexes_en_corpora_En_EWT_binary_unlabel_50.pt\"\n",
    "\n",
    "valid_tensors_path = \"data/valid_tensors_en_corpora_En_EWT_binary_unlabel_50.pt\"\n",
    "valid_labels_path = \"data/valid_labels_en_corpora_En_EWT_binary_unlabel_50.pt\"\n",
    "valid_indexes_path = \"data/valid_indexes_en_corpora_En_EWT_binary_unlabel_50.pt\"\n",
    "\n",
    "test_tensors_path = \"data/test_tensors_en_corpora_En_EWT_binary_unlabel_50.pt\"\n",
    "test_labels_path = \"data/test_labels_en_corpora_En_EWT_binary_unlabel_50.pt\"\n",
    "test_indexes_path = \"data/test_indexes_en_corpora_En_EWT_binary_unlabel_50.pt\"\n",
    "\n",
    "model_path = \"models/model_en_corpora_En_EWT_binary_unlabel_50.pth\"\n",
    "\n",
    "save_file_list = [\n",
    "        train_tensors_path, train_labels_path, train_indexes_path,\n",
    "        valid_tensors_path, valid_labels_path, valid_indexes_path,\n",
    "        test_tensors_path, test_labels_path, test_indexes_path\n",
    "    ]\n",
    "\n",
    "loss_figure_path=\"figures/En_EWT_binary_unlabel_50.png\"\n"
   ]
  },
  {
   "cell_type": "code",
   "execution_count": 3,
   "metadata": {},
   "outputs": [
    {
     "name": "stderr",
     "output_type": "stream",
     "text": [
      "convert pqgram into tensor\t: 100%|██████████| 26621/26621 [00:01<00:00, 18960.60it/s]\n"
     ]
    },
    {
     "name": "stdout",
     "output_type": "stream",
     "text": [
      "26621 EWT random_binary\n"
     ]
    }
   ],
   "source": [
    "CORPUS_i_LENGTH = []\n",
    "\n",
    "EWT_conll = []\n",
    "labels = []\n",
    "\n",
    "EWT_conll = pyconll.load_from_file(CORPORA[0])\n",
    "labels = [LABELS[0]]*len(EWT_conll) + [\"random_binary\"]*10000\n",
    "\n",
    "\n",
    "pqtree_EWT = [trees.conllTree_to_pqTree_unlabeled(conll.to_tree()) for conll in EWT_conll]\n",
    "pqIndex = [Profile(tree, p=2, q=2) for tree in pqtree_EWT]\n",
    "\n",
    "\n",
    "for _ in range(10000):\n",
    "    height = random.randint(2,8)\n",
    "    t = trees.create_binary_tree(height, \"_\")\n",
    "    pqgram = Profile(t, p=2, q=2)\n",
    "    pqIndex.append(pqgram)\n",
    "\n",
    "J =set(pqIndex[0])\n",
    "for pq_set in pqIndex[1:]:\n",
    "    J = J.union(pq_set)\n",
    "J = list(J)\n",
    "\n",
    "tensors = [pq_gram.pqgram_to_tensor(pqgram, J) for pqgram in tqdm(pqIndex, desc=\"convert pqgram into tensor\\t\")]\n",
    "indexes = torch.Tensor(range(len(labels)))\n",
    "\n",
    "train_tensors, test_tensors, train_labels, test_labels, train_indexes, test_indexes = train_test_split(tensors, labels, indexes, test_size=0.4, random_state=50) # 無印はrandom state = 42\n",
    "valid_tensors, test_tensors, valid_labels, test_labels, valid_indexes, test_indexes = train_test_split(test_tensors, test_labels, test_indexes, test_size=0.5, random_state=50)\n",
    "\n",
    "\n",
    "# データの保存\n",
    "torch.save(train_tensors, save_file_list[0])\n",
    "torch.save(train_labels, save_file_list[1])\n",
    "torch.save(train_indexes, save_file_list[2])\n",
    "\n",
    "torch.save(valid_tensors, save_file_list[3])\n",
    "torch.save(valid_labels, save_file_list[4])\n",
    "torch.save(valid_indexes, save_file_list[5])\n",
    "\n",
    "torch.save(test_tensors, save_file_list[6])    \n",
    "torch.save(test_labels, save_file_list[7])\n",
    "torch.save(test_indexes, save_file_list[8])\n",
    "\n",
    "\n",
    "\n",
    "print(len(labels), labels[0], labels[-1])\n"
   ]
  },
  {
   "cell_type": "code",
   "execution_count": null,
   "metadata": {},
   "outputs": [
    {
     "name": "stderr",
     "output_type": "stream",
     "text": [
      "/home/yamazoe/.pyenv/versions/3.11.7/envs/env_pq/lib/python3.11/site-packages/tqdm/auto.py:21: TqdmWarning: IProgress not found. Please update jupyter and ipywidgets. See https://ipywidgets.readthedocs.io/en/stable/user_install.html\n",
      "  from .autonotebook import tqdm as notebook_tqdm\n",
      "[train loop]:   2%|▏         | 23/1000 [00:01<00:45, 21.36it/s]"
     ]
    },
    {
     "name": "stdout",
     "output_type": "stream",
     "text": [
      "\n",
      "Epoch: 1,\tLoss: 0.000784080708399415\n"
     ]
    },
    {
     "name": "stderr",
     "output_type": "stream",
     "text": [
      "[train loop]:   4%|▍         | 45/1000 [00:01<00:21, 44.80it/s]"
     ]
    },
    {
     "name": "stdout",
     "output_type": "stream",
     "text": [
      "\n",
      "Epoch: 50,\tLoss: 0.00023056216014083475\n"
     ]
    },
    {
     "name": "stderr",
     "output_type": "stream",
     "text": [
      "[train loop]:  10%|▉         | 96/1000 [00:04<00:38, 23.47it/s]"
     ]
    },
    {
     "name": "stdout",
     "output_type": "stream",
     "text": [
      "\n",
      "Epoch: 100,\tLoss: 4.031254502478987e-05\n"
     ]
    },
    {
     "name": "stderr",
     "output_type": "stream",
     "text": [
      "[train loop]:  15%|█▍        | 149/1000 [00:08<00:39, 21.57it/s]"
     ]
    },
    {
     "name": "stdout",
     "output_type": "stream",
     "text": [
      "\n",
      "Epoch: 150,\tLoss: 3.931401352019748e-06\n"
     ]
    },
    {
     "name": "stderr",
     "output_type": "stream",
     "text": [
      "[train loop]:  17%|█▋        | 169/1000 [00:11<01:03, 13.16it/s]"
     ]
    },
    {
     "name": "stdout",
     "output_type": "stream",
     "text": [
      "\n",
      "Epoch: 200,\tLoss: 1.9425941388817591e-07\n"
     ]
    },
    {
     "name": "stderr",
     "output_type": "stream",
     "text": [
      "[train loop]:  23%|██▎       | 233/1000 [00:14<00:43, 17.83it/s]"
     ]
    },
    {
     "name": "stdout",
     "output_type": "stream",
     "text": [
      "\n",
      "Epoch: 250,\tLoss: 4.20126822220368e-09\n"
     ]
    }
   ],
   "source": [
    "w_pq.train(\n",
    "        train_tensors_path, train_labels_path, \n",
    "        valid_tensors_path, valid_labels_path,\n",
    "        model_path, loss_figure_path=\"figures/En_EWT_chatGPT_unlabel_50.png\"\n",
    ")\n",
    "\n",
    "print('\\ntrain finished.')\n",
    "\n",
    "w_pq.test(\n",
    "        train_tensors_path, train_labels_path,\n",
    "        test_tensors_path, test_labels_path, \n",
    "        model_path\n",
    "    )\n",
    "\n",
    "print('\\ntest finished.')\n",
    "\n",
    "    "
   ]
  },
  {
   "cell_type": "markdown",
   "metadata": {},
   "source": []
  },
  {
   "cell_type": "code",
   "execution_count": null,
   "metadata": {},
   "outputs": [],
   "source": []
  }
 ],
 "metadata": {
  "kernelspec": {
   "display_name": "env_pq",
   "language": "python",
   "name": "python3"
  },
  "language_info": {
   "codemirror_mode": {
    "name": "ipython",
    "version": 3
   },
   "file_extension": ".py",
   "mimetype": "text/x-python",
   "name": "python",
   "nbconvert_exporter": "python",
   "pygments_lexer": "ipython3",
   "version": "3.11.7"
  }
 },
 "nbformat": 4,
 "nbformat_minor": 2
}

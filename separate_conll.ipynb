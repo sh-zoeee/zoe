{
 "cells": [
  {
   "cell_type": "code",
   "execution_count": 1,
   "metadata": {},
   "outputs": [],
   "source": [
    "from scripts import w_pq_batch as w_pq\n",
    "import random\n",
    "\n",
    "import numpy as np\n",
    "from sklearn.model_selection import train_test_split\n",
    "import pyconll\n",
    "from pqgrams.PQGram import Profile\n",
    "from scripts import pq_gram, trees, func\n",
    "import torch\n",
    "from torch import nn, optim\n",
    "from torch.nn import DataParallel\n",
    "from random import choices\n",
    "from tqdm import tqdm\n",
    "import matplotlib.pyplot as plt\n",
    "from collections import Counter\n",
    "from time import time\n",
    "from os import mkdir, makedirs, path\n",
    "\n",
    "\n",
    "from statistics import mode"
   ]
  },
  {
   "cell_type": "code",
   "execution_count": 23,
   "metadata": {},
   "outputs": [],
   "source": [
    "random.seed(10)\n",
    "k_tree = 500"
   ]
  },
  {
   "cell_type": "code",
   "execution_count": 24,
   "metadata": {},
   "outputs": [],
   "source": [
    "label_type = \"unlabel\" # \"unlabel\" or \"upos\""
   ]
  },
  {
   "cell_type": "code",
   "execution_count": 31,
   "metadata": {},
   "outputs": [],
   "source": [
    "corpora_path = f\"corpora/English/English-EWT.conllu\"\n",
    "save_path = corpora_path.split(\"/\")[0]+f\"_{k_tree}\"+corpora_path[7:]\n",
    "\n",
    "corpora = corpora_path.split(\"/\")[-1]\n",
    "\n",
    "dir_path = \"/\".join(save_path.split(\"/\")[:-1])+\"/\"\n",
    "\n",
    "\n",
    "\n",
    "if not path.exists(dir_path):\n",
    "    mkdir(dir_path)\n",
    "\n",
    "CoNLL_src = random.sample(pyconll.load_from_file(corpora_path), k=k_tree)\n",
    "\n",
    "with open(save_path, mode=\"w\") as f:\n",
    "    for conll in CoNLL_src:\n",
    "        print(conll.conll(),  file=f, end=\"\\n\\n\")"
   ]
  },
  {
   "cell_type": "code",
   "execution_count": 26,
   "metadata": {},
   "outputs": [
    {
     "name": "stdout",
     "output_type": "stream",
     "text": [
      "# sent_id = newsgroup-groups.google.com_JokeEruption_df151b356f94881c_ENG_20050819_155700-0027\n",
      "# text = Every now and then she stops to breathe.\n",
      "1\tEvery\tevery\tADV\tRB\t_\t2\tadvmod\t2:advmod\t_\n",
      "2\tnow\tnow\tADV\tRB\t_\t6\tadvmod\t6:advmod\t_\n",
      "3\tand\tand\tCCONJ\tCC\t_\t4\tcc\t4:cc\t_\n",
      "4\tthen\tthen\tADV\tRB\tPronType=Dem\t2\tconj\t2:conj:and|6:advmod\t_\n",
      "5\tshe\tshe\tPRON\tPRP\tCase=Nom|Gender=Fem|Number=Sing|Person=3|PronType=Prs\t6\tnsubj\t6:nsubj|8:nsubj:xsubj\t_\n",
      "6\tstops\tstop\tVERB\tVBZ\tMood=Ind|Number=Sing|Person=3|Tense=Pres|VerbForm=Fin\t0\troot\t0:root\t_\n",
      "7\tto\tto\tPART\tTO\t_\t8\tmark\t8:mark\t_\n",
      "8\tbreathe\tbreathe\tVERB\tVB\tVerbForm=Inf\t6\txcomp\t6:xcomp\tSpaceAfter=No\n",
      "9\t.\t.\tPUNCT\t.\t_\t6\tpunct\t6:punct\t_\n"
     ]
    }
   ],
   "source": []
  },
  {
   "cell_type": "code",
   "execution_count": null,
   "metadata": {},
   "outputs": [],
   "source": []
  }
 ],
 "metadata": {
  "kernelspec": {
   "display_name": "env_pq",
   "language": "python",
   "name": "python3"
  },
  "language_info": {
   "codemirror_mode": {
    "name": "ipython",
    "version": 3
   },
   "file_extension": ".py",
   "mimetype": "text/x-python",
   "name": "python",
   "nbconvert_exporter": "python",
   "pygments_lexer": "ipython3",
   "version": "3.11.7"
  }
 },
 "nbformat": 4,
 "nbformat_minor": 2
}

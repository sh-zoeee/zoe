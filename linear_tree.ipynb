{
 "cells": [
  {
   "cell_type": "markdown",
   "metadata": {},
   "source": [
    "### 実装すること："
   ]
  },
  {
   "cell_type": "markdown",
   "metadata": {},
   "source": [
    "- 大きさnの線形の木の距離を、pq-gram と 編集距離 で考えるとどのようになるか\n",
    "- 横軸：木の大きさn、縦軸：距離でグラフを描くとどのような曲線になるか"
   ]
  },
  {
   "cell_type": "code",
   "execution_count": 1,
   "metadata": {},
   "outputs": [],
   "source": [
    "from scripts import create_strings, dist\n",
    "from zss import simple_distance\n",
    "import numpy as np\n",
    "\n",
    "from tqdm import tqdm"
   ]
  },
  {
   "cell_type": "code",
   "execution_count": 2,
   "metadata": {},
   "outputs": [],
   "source": [
    "%matplotlib inline\n",
    "import matplotlib.pyplot as plt\n",
    "import japanize_matplotlib"
   ]
  },
  {
   "cell_type": "code",
   "execution_count": 3,
   "metadata": {},
   "outputs": [
    {
     "name": "stderr",
     "output_type": "stream",
     "text": [
      "100%|██████████| 100/100 [00:00<00:00, 1370687.58it/s]\n"
     ]
    }
   ],
   "source": [
    "import time\n",
    "for i in tqdm(range(100)):\n",
    "    continue"
   ]
  },
  {
   "cell_type": "code",
   "execution_count": 4,
   "metadata": {},
   "outputs": [],
   "source": [
    "count_strings = 100"
   ]
  },
  {
   "cell_type": "code",
   "execution_count": 5,
   "metadata": {},
   "outputs": [
    {
     "name": "stderr",
     "output_type": "stream",
     "text": [
      "  0%|          | 0/100 [00:00<?, ?it/s]"
     ]
    },
    {
     "name": "stderr",
     "output_type": "stream",
     "text": [
      "100%|██████████| 100/100 [00:00<00:00, 327.37it/s]\n"
     ]
    }
   ],
   "source": [
    "chars_n = []\n",
    "for length_chars in tqdm(range(1,101)):\n",
    "    chars = []\n",
    "    for _ in range(count_strings):\n",
    "        chars.append(create_strings.generate_strings(length_chars))\n",
    "    chars_n.append(chars)"
   ]
  },
  {
   "cell_type": "markdown",
   "metadata": {},
   "source": [
    "### TED"
   ]
  },
  {
   "cell_type": "code",
   "execution_count": 6,
   "metadata": {},
   "outputs": [
    {
     "name": "stderr",
     "output_type": "stream",
     "text": [
      " 63%|██████▎   | 63/100 [2:04:16<18:34, 30.12s/it]   "
     ]
    }
   ],
   "source": [
    "dist_mean_ted = []\n",
    "\n",
    "for id in tqdm(range(len(chars_n)-1, -1, -1)):\n",
    "    length_chars = id+1\n",
    "    chars_zss = []\n",
    "\n",
    "    chars_zss = [create_strings.string_to_zss_tree(string=s) for s in chars_n[id]]\n",
    "\n",
    "    distances_ted = []\n",
    "\n",
    "    for i in range(count_strings):\n",
    "        for j in range(i+1, count_strings):\n",
    "            distances_ted.append(simple_distance(chars_zss[i], chars_zss[j]))\n",
    "    \n",
    "    dist_mean = np.mean(distances_ted)\n",
    "    dist_mean_ted.append(dist_mean)\n",
    "\n",
    "dist_mean_ted.reverse()"
   ]
  },
  {
   "cell_type": "code",
   "execution_count": null,
   "metadata": {},
   "outputs": [],
   "source": [
    "dist_mean_ted.reverse()"
   ]
  },
  {
   "cell_type": "markdown",
   "metadata": {},
   "source": [
    "### 1,1-gram"
   ]
  },
  {
   "cell_type": "code",
   "execution_count": null,
   "metadata": {},
   "outputs": [
    {
     "name": "stderr",
     "output_type": "stream",
     "text": [
      " 45%|████▌     | 45/100 [00:38<00:47,  1.16it/s]\n"
     ]
    },
    {
     "ename": "KeyboardInterrupt",
     "evalue": "",
     "output_type": "error",
     "traceback": [
      "\u001b[0;31m---------------------------------------------------------------------------\u001b[0m",
      "\u001b[0;31mKeyboardInterrupt\u001b[0m                         Traceback (most recent call last)",
      "Cell \u001b[0;32mIn[28], line 13\u001b[0m\n\u001b[1;32m     11\u001b[0m \u001b[38;5;28;01mfor\u001b[39;00m i \u001b[38;5;129;01min\u001b[39;00m \u001b[38;5;28mrange\u001b[39m(count_strings):\n\u001b[1;32m     12\u001b[0m     \u001b[38;5;28;01mfor\u001b[39;00m j \u001b[38;5;129;01min\u001b[39;00m \u001b[38;5;28mrange\u001b[39m(i\u001b[38;5;241m+\u001b[39m\u001b[38;5;241m1\u001b[39m, count_strings):\n\u001b[0;32m---> 13\u001b[0m         distances_11gram\u001b[38;5;241m.\u001b[39mappend(\u001b[43mdist\u001b[49m\u001b[38;5;241;43m.\u001b[39;49m\u001b[43mpqgram_distance\u001b[49m\u001b[43m(\u001b[49m\u001b[43mchars_11gram\u001b[49m\u001b[43m[\u001b[49m\u001b[43mi\u001b[49m\u001b[43m]\u001b[49m\u001b[43m,\u001b[49m\u001b[43m \u001b[49m\u001b[43mchars_11gram\u001b[49m\u001b[43m[\u001b[49m\u001b[43mj\u001b[49m\u001b[43m]\u001b[49m\u001b[43m)\u001b[49m)\n\u001b[1;32m     15\u001b[0m dist_mean \u001b[38;5;241m=\u001b[39m np\u001b[38;5;241m.\u001b[39mmean(distances_11gram)\n\u001b[1;32m     16\u001b[0m dist_mean_11gram\u001b[38;5;241m.\u001b[39mappend(dist_mean)\n",
      "File \u001b[0;32m/misc/home/yamazoe/zoe/scripts/dist.py:28\u001b[0m, in \u001b[0;36mpqgram_distance\u001b[0;34m(pqgram1, pqgram2, normalize)\u001b[0m\n\u001b[1;32m     23\u001b[0m \u001b[38;5;250m\u001b[39m\u001b[38;5;124;03m\"\"\"\u001b[39;00m\n\u001b[1;32m     24\u001b[0m \u001b[38;5;124;03mpqgram1: pqgram profile\u001b[39;00m\n\u001b[1;32m     25\u001b[0m \u001b[38;5;124;03mpqgram2: pqgram profile\u001b[39;00m\n\u001b[1;32m     26\u001b[0m \u001b[38;5;124;03m\"\"\"\u001b[39;00m\n\u001b[1;32m     27\u001b[0m union \u001b[38;5;241m=\u001b[39m \u001b[38;5;28mlen\u001b[39m(pqgram1) \u001b[38;5;241m+\u001b[39m \u001b[38;5;28mlen\u001b[39m(pqgram2)\n\u001b[0;32m---> 28\u001b[0m intersection \u001b[38;5;241m=\u001b[39m \u001b[43mpqgram1\u001b[49m\u001b[38;5;241;43m.\u001b[39;49m\u001b[43mintersection\u001b[49m\u001b[43m(\u001b[49m\u001b[43mpqgram2\u001b[49m\u001b[43m)\u001b[49m\n\u001b[1;32m     29\u001b[0m dist \u001b[38;5;241m=\u001b[39m union \u001b[38;5;241m-\u001b[39m \u001b[38;5;241m2\u001b[39m\u001b[38;5;241m*\u001b[39mintersection\n\u001b[1;32m     30\u001b[0m \u001b[38;5;28;01mif\u001b[39;00m \u001b[38;5;129;01mnot\u001b[39;00m normalize:\n",
      "File \u001b[0;32m~/.pyenv/versions/3.11.7/envs/env_pq/lib/python3.11/site-packages/pqgrams-git.master-py3.11.egg/pqgrams/PQGram.py:78\u001b[0m, in \u001b[0;36mProfile.intersection\u001b[0;34m(self, other)\u001b[0m\n\u001b[1;32m     76\u001b[0m maxj \u001b[38;5;241m=\u001b[39m \u001b[38;5;28mlen\u001b[39m(other)\n\u001b[1;32m     77\u001b[0m \u001b[38;5;28;01mwhile\u001b[39;00m i \u001b[38;5;241m<\u001b[39m maxi \u001b[38;5;129;01mand\u001b[39;00m j \u001b[38;5;241m<\u001b[39m maxj:\n\u001b[0;32m---> 78\u001b[0m     intersect \u001b[38;5;241m+\u001b[39m\u001b[38;5;241m=\u001b[39m \u001b[38;5;28;43mself\u001b[39;49m\u001b[38;5;241;43m.\u001b[39;49m\u001b[43mgram_edit_distance\u001b[49m\u001b[43m(\u001b[49m\u001b[38;5;28;43mself\u001b[39;49m\u001b[43m[\u001b[49m\u001b[43mi\u001b[49m\u001b[43m]\u001b[49m\u001b[43m,\u001b[49m\u001b[43m \u001b[49m\u001b[43mother\u001b[49m\u001b[43m[\u001b[49m\u001b[43mj\u001b[49m\u001b[43m]\u001b[49m\u001b[43m)\u001b[49m\n\u001b[1;32m     79\u001b[0m     \u001b[38;5;28;01mif\u001b[39;00m \u001b[38;5;28mself\u001b[39m[i] \u001b[38;5;241m==\u001b[39m other[j]:\n\u001b[1;32m     80\u001b[0m         i \u001b[38;5;241m+\u001b[39m\u001b[38;5;241m=\u001b[39m \u001b[38;5;241m1\u001b[39m\n",
      "\u001b[0;31mKeyboardInterrupt\u001b[0m: "
     ]
    }
   ],
   "source": [
    "P, Q = 1, 1\n",
    "dist_mean_11gram = []\n",
    "\n",
    "for id in tqdm(range(len(chars_n)-1, -1, -1)):\n",
    "    length_chars = id+1\n",
    "\n",
    "    chars_11gram = [create_strings.string_to_pqgram_tree(string=s, p=P, q=Q) for s in chars_n[id]]\n",
    "\n",
    "    distances_11gram = []\n",
    "\n",
    "    for i in range(count_strings):\n",
    "        for j in range(i+1, count_strings):\n",
    "            distances_11gram.append(dist.pqgram_distance(chars_11gram[i], chars_11gram[j]))\n",
    "    \n",
    "    dist_mean = np.mean(distances_11gram)\n",
    "    dist_mean_11gram.append(dist_mean)\n",
    "\n",
    "dist_mean_11gram.reverse()"
   ]
  },
  {
   "cell_type": "markdown",
   "metadata": {},
   "source": [
    "### 2,2-gram"
   ]
  },
  {
   "cell_type": "code",
   "execution_count": null,
   "metadata": {},
   "outputs": [
    {
     "name": "stderr",
     "output_type": "stream",
     "text": [
      "100%|██████████| 100/100 [01:54<00:00,  1.14s/it]\n"
     ]
    }
   ],
   "source": [
    "P, Q = 2, 2\n",
    "dist_mean_22gram = []\n",
    "\n",
    "for id in tqdm(range(len(chars_n)-1, -1, -1)):\n",
    "    length_chars = id+1\n",
    "\n",
    "    chars_22gram = [create_strings.string_to_pqgram_tree(string=s, p=P, q=Q) for s in chars_n[id]]\n",
    "\n",
    "    distances_22gram = []\n",
    "\n",
    "    for i in range(count_strings):\n",
    "        for j in range(i+1, count_strings):\n",
    "            distances_22gram.append(dist.pqgram_distance(chars_22gram[i], chars_22gram[j]))\n",
    "    \n",
    "    dist_mean = np.mean(distances_22gram)\n",
    "    dist_mean_22gram.append(dist_mean)\n",
    "\n",
    "dist_mean_22gram.reverse()"
   ]
  },
  {
   "cell_type": "markdown",
   "metadata": {},
   "source": [
    "### 2,3-gram"
   ]
  },
  {
   "cell_type": "code",
   "execution_count": null,
   "metadata": {},
   "outputs": [
    {
     "name": "stderr",
     "output_type": "stream",
     "text": [
      "100%|██████████| 100/100 [02:50<00:00,  1.71s/it]\n"
     ]
    }
   ],
   "source": [
    "P, Q = 2, 3\n",
    "dist_mean_23gram = []\n",
    "\n",
    "for id in tqdm(range(len(chars_n)-1, -1, -1)):\n",
    "    length_chars = id+1\n",
    "\n",
    "    chars_23gram = [create_strings.string_to_pqgram_tree(string=s, p=P, q=Q) for s in chars_n[id]]\n",
    "\n",
    "    distances_23gram = []\n",
    "\n",
    "    for i in range(count_strings):\n",
    "        for j in range(i+1, count_strings):\n",
    "            distances_23gram.append(dist.pqgram_distance(chars_23gram[i], chars_23gram[j]))\n",
    "    \n",
    "    dist_mean = np.mean(distances_23gram)\n",
    "    dist_mean_23gram.append(dist_mean)\n",
    "\n",
    "dist_mean_23gram.reverse()"
   ]
  },
  {
   "cell_type": "markdown",
   "metadata": {},
   "source": [
    "### 3,2-gram"
   ]
  },
  {
   "cell_type": "code",
   "execution_count": null,
   "metadata": {},
   "outputs": [
    {
     "name": "stderr",
     "output_type": "stream",
     "text": [
      "100%|██████████| 100/100 [01:56<00:00,  1.17s/it]\n"
     ]
    }
   ],
   "source": [
    "P, Q = 3, 2\n",
    "dist_mean_32gram = []\n",
    "\n",
    "for id in tqdm(range(len(chars_n)-1, -1, -1)):\n",
    "    length_chars = id+1\n",
    "\n",
    "    chars_32gram = [create_strings.string_to_pqgram_tree(string=s, p=P, q=Q) for s in chars_n[id]]\n",
    "\n",
    "    distances_32gram = []\n",
    "\n",
    "    for i in range(count_strings):\n",
    "        for j in range(i+1, count_strings):\n",
    "            distances_32gram.append(dist.pqgram_distance(chars_32gram[i], chars_32gram[j]))\n",
    "    \n",
    "    dist_mean = np.mean(distances_32gram)\n",
    "    dist_mean_32gram.append(dist_mean)\n",
    "\n",
    "dist_mean_32gram.reverse()"
   ]
  },
  {
   "cell_type": "markdown",
   "metadata": {},
   "source": [
    "### 3,3-gram"
   ]
  },
  {
   "cell_type": "code",
   "execution_count": null,
   "metadata": {},
   "outputs": [
    {
     "name": "stderr",
     "output_type": "stream",
     "text": [
      "100%|██████████| 100/100 [02:53<00:00,  1.74s/it]\n"
     ]
    }
   ],
   "source": [
    "P, Q = 3, 3\n",
    "dist_mean_33gram = []\n",
    "\n",
    "for id in tqdm(range(len(chars_n)-1, -1, -1)):\n",
    "    length_chars = id+1\n",
    "\n",
    "    chars_33gram = [create_strings.string_to_pqgram_tree(string=s, p=P, q=Q) for s in chars_n[id]]\n",
    "\n",
    "    distances_33gram = []\n",
    "\n",
    "    for i in range(count_strings):\n",
    "        for j in range(i+1, count_strings):\n",
    "            distances_33gram.append(dist.pqgram_distance(chars_33gram[i], chars_33gram[j]))\n",
    "    \n",
    "    dist_mean = np.mean(distances_33gram)\n",
    "    dist_mean_33gram.append(dist_mean)\n",
    "\n",
    "dist_mean_33gram.reverse()"
   ]
  },
  {
   "cell_type": "markdown",
   "metadata": {},
   "source": [
    "### 4,4-gram"
   ]
  },
  {
   "cell_type": "code",
   "execution_count": null,
   "metadata": {},
   "outputs": [
    {
     "name": "stderr",
     "output_type": "stream",
     "text": [
      "100%|██████████| 100/100 [03:54<00:00,  2.35s/it]\n"
     ]
    }
   ],
   "source": [
    "P, Q = 4, 4\n",
    "dist_mean_44gram = []\n",
    "\n",
    "for id in tqdm(range(len(chars_n)-1, -1, -1)):\n",
    "    length_chars = id+1\n",
    "\n",
    "    chars_44gram = [create_strings.string_to_pqgram_tree(string=s, p=P, q=Q) for s in chars_n[id]]\n",
    "\n",
    "    distances_44gram = []\n",
    "\n",
    "    for i in range(count_strings):\n",
    "        for j in range(i+1, count_strings):\n",
    "            distances_44gram.append(dist.pqgram_distance(chars_44gram[i], chars_44gram[j]))\n",
    "    \n",
    "    dist_mean = np.mean(distances_44gram)\n",
    "    dist_mean_44gram.append(dist_mean)\n",
    "\n",
    "dist_mean_44gram.reverse()"
   ]
  },
  {
   "cell_type": "markdown",
   "metadata": {},
   "source": [
    "### 5,5-gram"
   ]
  },
  {
   "cell_type": "code",
   "execution_count": null,
   "metadata": {},
   "outputs": [
    {
     "name": "stderr",
     "output_type": "stream",
     "text": [
      "100%|██████████| 100/100 [04:54<00:00,  2.95s/it]\n"
     ]
    }
   ],
   "source": [
    "P, Q = 5, 5\n",
    "dist_mean_55gram = []\n",
    "\n",
    "for id in tqdm(range(len(chars_n)-1, -1, -1)):\n",
    "    length_chars = id+1\n",
    "\n",
    "    chars_55gram = [create_strings.string_to_pqgram_tree(string=s, p=P, q=Q) for s in chars_n[id]]\n",
    "\n",
    "    distances_55gram = []\n",
    "\n",
    "    for i in range(count_strings):\n",
    "        for j in range(i+1, count_strings):\n",
    "            distances_55gram.append(dist.pqgram_distance(chars_55gram[i], chars_55gram[j]))\n",
    "    \n",
    "    dist_mean = np.mean(distances_55gram)\n",
    "    dist_mean_55gram.append(dist_mean)\n",
    "\n",
    "dist_mean_55gram.reverse()"
   ]
  },
  {
   "cell_type": "markdown",
   "metadata": {},
   "source": [
    "### グラフ化"
   ]
  },
  {
   "cell_type": "code",
   "execution_count": null,
   "metadata": {},
   "outputs": [
    {
     "ename": "ValueError",
     "evalue": "x and y must have same first dimension, but have shapes (100,) and (45,)",
     "output_type": "error",
     "traceback": [
      "\u001b[0;31m---------------------------------------------------------------------------\u001b[0m",
      "\u001b[0;31mValueError\u001b[0m                                Traceback (most recent call last)",
      "Cell \u001b[0;32mIn[29], line 4\u001b[0m\n\u001b[1;32m      1\u001b[0m x \u001b[38;5;241m=\u001b[39m \u001b[38;5;28mrange\u001b[39m(\u001b[38;5;241m1\u001b[39m,\u001b[38;5;241m101\u001b[39m)\n\u001b[1;32m      3\u001b[0m plt\u001b[38;5;241m.\u001b[39mplot(x, dist_mean_ted, label\u001b[38;5;241m=\u001b[39m\u001b[38;5;124m'\u001b[39m\u001b[38;5;124mTED\u001b[39m\u001b[38;5;124m'\u001b[39m)\n\u001b[0;32m----> 4\u001b[0m \u001b[43mplt\u001b[49m\u001b[38;5;241;43m.\u001b[39;49m\u001b[43mplot\u001b[49m\u001b[43m(\u001b[49m\u001b[43mx\u001b[49m\u001b[43m,\u001b[49m\u001b[43m \u001b[49m\u001b[43mdist_mean_11gram\u001b[49m\u001b[43m,\u001b[49m\u001b[43m \u001b[49m\u001b[43mlabel\u001b[49m\u001b[38;5;241;43m=\u001b[39;49m\u001b[38;5;124;43m'\u001b[39;49m\u001b[38;5;124;43m1,1-gram\u001b[39;49m\u001b[38;5;124;43m'\u001b[39;49m\u001b[43m)\u001b[49m\n\u001b[1;32m      5\u001b[0m plt\u001b[38;5;241m.\u001b[39mplot(x, dist_mean_22gram, label\u001b[38;5;241m=\u001b[39m\u001b[38;5;124m'\u001b[39m\u001b[38;5;124m2,2-gram\u001b[39m\u001b[38;5;124m'\u001b[39m)\n\u001b[1;32m      6\u001b[0m plt\u001b[38;5;241m.\u001b[39mplot(x, dist_mean_23gram, label\u001b[38;5;241m=\u001b[39m\u001b[38;5;124m'\u001b[39m\u001b[38;5;124m2,3-gram\u001b[39m\u001b[38;5;124m'\u001b[39m)\n",
      "File \u001b[0;32m~/.pyenv/versions/3.11.7/envs/env_pq/lib/python3.11/site-packages/matplotlib/pyplot.py:3590\u001b[0m, in \u001b[0;36mplot\u001b[0;34m(scalex, scaley, data, *args, **kwargs)\u001b[0m\n\u001b[1;32m   3582\u001b[0m \u001b[38;5;129m@_copy_docstring_and_deprecators\u001b[39m(Axes\u001b[38;5;241m.\u001b[39mplot)\n\u001b[1;32m   3583\u001b[0m \u001b[38;5;28;01mdef\u001b[39;00m \u001b[38;5;21mplot\u001b[39m(\n\u001b[1;32m   3584\u001b[0m     \u001b[38;5;241m*\u001b[39margs: \u001b[38;5;28mfloat\u001b[39m \u001b[38;5;241m|\u001b[39m ArrayLike \u001b[38;5;241m|\u001b[39m \u001b[38;5;28mstr\u001b[39m,\n\u001b[0;32m   (...)\u001b[0m\n\u001b[1;32m   3588\u001b[0m     \u001b[38;5;241m*\u001b[39m\u001b[38;5;241m*\u001b[39mkwargs,\n\u001b[1;32m   3589\u001b[0m ) \u001b[38;5;241m-\u001b[39m\u001b[38;5;241m>\u001b[39m \u001b[38;5;28mlist\u001b[39m[Line2D]:\n\u001b[0;32m-> 3590\u001b[0m     \u001b[38;5;28;01mreturn\u001b[39;00m \u001b[43mgca\u001b[49m\u001b[43m(\u001b[49m\u001b[43m)\u001b[49m\u001b[38;5;241;43m.\u001b[39;49m\u001b[43mplot\u001b[49m\u001b[43m(\u001b[49m\n\u001b[1;32m   3591\u001b[0m \u001b[43m        \u001b[49m\u001b[38;5;241;43m*\u001b[39;49m\u001b[43margs\u001b[49m\u001b[43m,\u001b[49m\n\u001b[1;32m   3592\u001b[0m \u001b[43m        \u001b[49m\u001b[43mscalex\u001b[49m\u001b[38;5;241;43m=\u001b[39;49m\u001b[43mscalex\u001b[49m\u001b[43m,\u001b[49m\n\u001b[1;32m   3593\u001b[0m \u001b[43m        \u001b[49m\u001b[43mscaley\u001b[49m\u001b[38;5;241;43m=\u001b[39;49m\u001b[43mscaley\u001b[49m\u001b[43m,\u001b[49m\n\u001b[1;32m   3594\u001b[0m \u001b[43m        \u001b[49m\u001b[38;5;241;43m*\u001b[39;49m\u001b[38;5;241;43m*\u001b[39;49m\u001b[43m(\u001b[49m\u001b[43m{\u001b[49m\u001b[38;5;124;43m\"\u001b[39;49m\u001b[38;5;124;43mdata\u001b[39;49m\u001b[38;5;124;43m\"\u001b[39;49m\u001b[43m:\u001b[49m\u001b[43m \u001b[49m\u001b[43mdata\u001b[49m\u001b[43m}\u001b[49m\u001b[43m \u001b[49m\u001b[38;5;28;43;01mif\u001b[39;49;00m\u001b[43m \u001b[49m\u001b[43mdata\u001b[49m\u001b[43m \u001b[49m\u001b[38;5;129;43;01mis\u001b[39;49;00m\u001b[43m \u001b[49m\u001b[38;5;129;43;01mnot\u001b[39;49;00m\u001b[43m \u001b[49m\u001b[38;5;28;43;01mNone\u001b[39;49;00m\u001b[43m \u001b[49m\u001b[38;5;28;43;01melse\u001b[39;49;00m\u001b[43m \u001b[49m\u001b[43m{\u001b[49m\u001b[43m}\u001b[49m\u001b[43m)\u001b[49m\u001b[43m,\u001b[49m\n\u001b[1;32m   3595\u001b[0m \u001b[43m        \u001b[49m\u001b[38;5;241;43m*\u001b[39;49m\u001b[38;5;241;43m*\u001b[39;49m\u001b[43mkwargs\u001b[49m\u001b[43m,\u001b[49m\n\u001b[1;32m   3596\u001b[0m \u001b[43m    \u001b[49m\u001b[43m)\u001b[49m\n",
      "File \u001b[0;32m~/.pyenv/versions/3.11.7/envs/env_pq/lib/python3.11/site-packages/matplotlib/axes/_axes.py:1724\u001b[0m, in \u001b[0;36mAxes.plot\u001b[0;34m(self, scalex, scaley, data, *args, **kwargs)\u001b[0m\n\u001b[1;32m   1481\u001b[0m \u001b[38;5;250m\u001b[39m\u001b[38;5;124;03m\"\"\"\u001b[39;00m\n\u001b[1;32m   1482\u001b[0m \u001b[38;5;124;03mPlot y versus x as lines and/or markers.\u001b[39;00m\n\u001b[1;32m   1483\u001b[0m \n\u001b[0;32m   (...)\u001b[0m\n\u001b[1;32m   1721\u001b[0m \u001b[38;5;124;03m(``'green'``) or hex strings (``'#008000'``).\u001b[39;00m\n\u001b[1;32m   1722\u001b[0m \u001b[38;5;124;03m\"\"\"\u001b[39;00m\n\u001b[1;32m   1723\u001b[0m kwargs \u001b[38;5;241m=\u001b[39m cbook\u001b[38;5;241m.\u001b[39mnormalize_kwargs(kwargs, mlines\u001b[38;5;241m.\u001b[39mLine2D)\n\u001b[0;32m-> 1724\u001b[0m lines \u001b[38;5;241m=\u001b[39m [\u001b[38;5;241m*\u001b[39m\u001b[38;5;28mself\u001b[39m\u001b[38;5;241m.\u001b[39m_get_lines(\u001b[38;5;28mself\u001b[39m, \u001b[38;5;241m*\u001b[39margs, data\u001b[38;5;241m=\u001b[39mdata, \u001b[38;5;241m*\u001b[39m\u001b[38;5;241m*\u001b[39mkwargs)]\n\u001b[1;32m   1725\u001b[0m \u001b[38;5;28;01mfor\u001b[39;00m line \u001b[38;5;129;01min\u001b[39;00m lines:\n\u001b[1;32m   1726\u001b[0m     \u001b[38;5;28mself\u001b[39m\u001b[38;5;241m.\u001b[39madd_line(line)\n",
      "File \u001b[0;32m~/.pyenv/versions/3.11.7/envs/env_pq/lib/python3.11/site-packages/matplotlib/axes/_base.py:303\u001b[0m, in \u001b[0;36m_process_plot_var_args.__call__\u001b[0;34m(self, axes, data, *args, **kwargs)\u001b[0m\n\u001b[1;32m    301\u001b[0m     this \u001b[38;5;241m+\u001b[39m\u001b[38;5;241m=\u001b[39m args[\u001b[38;5;241m0\u001b[39m],\n\u001b[1;32m    302\u001b[0m     args \u001b[38;5;241m=\u001b[39m args[\u001b[38;5;241m1\u001b[39m:]\n\u001b[0;32m--> 303\u001b[0m \u001b[38;5;28;01myield from\u001b[39;00m \u001b[38;5;28;43mself\u001b[39;49m\u001b[38;5;241;43m.\u001b[39;49m\u001b[43m_plot_args\u001b[49m\u001b[43m(\u001b[49m\n\u001b[1;32m    304\u001b[0m \u001b[43m    \u001b[49m\u001b[43maxes\u001b[49m\u001b[43m,\u001b[49m\u001b[43m \u001b[49m\u001b[43mthis\u001b[49m\u001b[43m,\u001b[49m\u001b[43m \u001b[49m\u001b[43mkwargs\u001b[49m\u001b[43m,\u001b[49m\u001b[43m \u001b[49m\u001b[43mambiguous_fmt_datakey\u001b[49m\u001b[38;5;241;43m=\u001b[39;49m\u001b[43mambiguous_fmt_datakey\u001b[49m\u001b[43m)\u001b[49m\n",
      "File \u001b[0;32m~/.pyenv/versions/3.11.7/envs/env_pq/lib/python3.11/site-packages/matplotlib/axes/_base.py:499\u001b[0m, in \u001b[0;36m_process_plot_var_args._plot_args\u001b[0;34m(self, axes, tup, kwargs, return_kwargs, ambiguous_fmt_datakey)\u001b[0m\n\u001b[1;32m    496\u001b[0m     axes\u001b[38;5;241m.\u001b[39myaxis\u001b[38;5;241m.\u001b[39mupdate_units(y)\n\u001b[1;32m    498\u001b[0m \u001b[38;5;28;01mif\u001b[39;00m x\u001b[38;5;241m.\u001b[39mshape[\u001b[38;5;241m0\u001b[39m] \u001b[38;5;241m!=\u001b[39m y\u001b[38;5;241m.\u001b[39mshape[\u001b[38;5;241m0\u001b[39m]:\n\u001b[0;32m--> 499\u001b[0m     \u001b[38;5;28;01mraise\u001b[39;00m \u001b[38;5;167;01mValueError\u001b[39;00m(\u001b[38;5;124mf\u001b[39m\u001b[38;5;124m\"\u001b[39m\u001b[38;5;124mx and y must have same first dimension, but \u001b[39m\u001b[38;5;124m\"\u001b[39m\n\u001b[1;32m    500\u001b[0m                      \u001b[38;5;124mf\u001b[39m\u001b[38;5;124m\"\u001b[39m\u001b[38;5;124mhave shapes \u001b[39m\u001b[38;5;132;01m{\u001b[39;00mx\u001b[38;5;241m.\u001b[39mshape\u001b[38;5;132;01m}\u001b[39;00m\u001b[38;5;124m and \u001b[39m\u001b[38;5;132;01m{\u001b[39;00my\u001b[38;5;241m.\u001b[39mshape\u001b[38;5;132;01m}\u001b[39;00m\u001b[38;5;124m\"\u001b[39m)\n\u001b[1;32m    501\u001b[0m \u001b[38;5;28;01mif\u001b[39;00m x\u001b[38;5;241m.\u001b[39mndim \u001b[38;5;241m>\u001b[39m \u001b[38;5;241m2\u001b[39m \u001b[38;5;129;01mor\u001b[39;00m y\u001b[38;5;241m.\u001b[39mndim \u001b[38;5;241m>\u001b[39m \u001b[38;5;241m2\u001b[39m:\n\u001b[1;32m    502\u001b[0m     \u001b[38;5;28;01mraise\u001b[39;00m \u001b[38;5;167;01mValueError\u001b[39;00m(\u001b[38;5;124mf\u001b[39m\u001b[38;5;124m\"\u001b[39m\u001b[38;5;124mx and y can be no greater than 2D, but have \u001b[39m\u001b[38;5;124m\"\u001b[39m\n\u001b[1;32m    503\u001b[0m                      \u001b[38;5;124mf\u001b[39m\u001b[38;5;124m\"\u001b[39m\u001b[38;5;124mshapes \u001b[39m\u001b[38;5;132;01m{\u001b[39;00mx\u001b[38;5;241m.\u001b[39mshape\u001b[38;5;132;01m}\u001b[39;00m\u001b[38;5;124m and \u001b[39m\u001b[38;5;132;01m{\u001b[39;00my\u001b[38;5;241m.\u001b[39mshape\u001b[38;5;132;01m}\u001b[39;00m\u001b[38;5;124m\"\u001b[39m)\n",
      "\u001b[0;31mValueError\u001b[0m: x and y must have same first dimension, but have shapes (100,) and (45,)"
     ]
    },
    {
     "data": {
      "image/png": "[encoded data removed]",
      "text/plain": [
       "<Figure size 640x480 with 1 Axes>"
      ]
     },
     "metadata": {},
     "output_type": "display_data"
    }
   ],
   "source": [
    "x = range(1,101)\n",
    "\n",
    "plt.plot(x, dist_mean_ted, label='TED')\n",
    "plt.plot(x, dist_mean_11gram, label='1,1-gram')\n",
    "plt.plot(x, dist_mean_22gram, label='2,2-gram')\n",
    "plt.plot(x, dist_mean_23gram, label='2,3-gram')\n",
    "plt.plot(x, dist_mean_32gram, label='3,2-gram')\n",
    "plt.plot(x, dist_mean_33gram, label='3,3-gram')\n",
    "plt.plot(x, dist_mean_44gram, label='4,4-gram')\n",
    "plt.plot(x, dist_mean_55gram, label='5,5-gram')\n",
    "plt.ylabel('distance')\n",
    "plt.xlabel('n')\n",
    "plt.legend()\n",
    "plt.savefig('figures/Linear_tree.png', dpi=600)\n",
    "plt.show()\n"
   ]
  },
  {
   "cell_type": "code",
   "execution_count": null,
   "metadata": {},
   "outputs": [],
   "source": []
  }
 ],
 "metadata": {
  "kernelspec": {
   "display_name": "env_pq",
   "language": "python",
   "name": "python3"
  },
  "language_info": {
   "codemirror_mode": {
    "name": "ipython",
    "version": 3
   },
   "file_extension": ".py",
   "mimetype": "text/x-python",
   "name": "python",
   "nbconvert_exporter": "python",
   "pygments_lexer": "ipython3",
   "version": "3.11.7"
  }
 },
 "nbformat": 4,
 "nbformat_minor": 2
}
